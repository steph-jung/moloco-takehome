{
 "cells": [
  {
   "cell_type": "markdown",
   "metadata": {
    "toc": true
   },
   "source": [
    "<h1>Table of Contents<span class=\"tocSkip\"></span></h1>\n",
    "<div class=\"toc\"><ul class=\"toc-item\"><li><span><a href=\"#EDA\" data-toc-modified-id=\"EDA-1\"><span class=\"toc-item-num\">1&nbsp;&nbsp;</span>EDA</a></span></li><li><span><a href=\"#Fit-and-predict\" data-toc-modified-id=\"Fit-and-predict-2\"><span class=\"toc-item-num\">2&nbsp;&nbsp;</span>Fit and predict</a></span><ul class=\"toc-item\"><li><span><a href=\"#Get-X,-y\" data-toc-modified-id=\"Get-X,-y-2.1\"><span class=\"toc-item-num\">2.1&nbsp;&nbsp;</span>Get X, y</a></span></li><li><span><a href=\"#Standardize-features\" data-toc-modified-id=\"Standardize-features-2.2\"><span class=\"toc-item-num\">2.2&nbsp;&nbsp;</span>Standardize features</a></span></li><li><span><a href=\"#Add-1's-to-X\" data-toc-modified-id=\"Add-1's-to-X-2.3\"><span class=\"toc-item-num\">2.3&nbsp;&nbsp;</span>Add 1's to X</a></span></li><li><span><a href=\"#Fit-data-including-outliers-using-simple-linear-regression.\" data-toc-modified-id=\"Fit-data-including-outliers-using-simple-linear-regression.-2.4\"><span class=\"toc-item-num\">2.4&nbsp;&nbsp;</span>Fit data including outliers using simple linear regression.</a></span></li><li><span><a href=\"#Plot-regression-plane\" data-toc-modified-id=\"Plot-regression-plane-2.5\"><span class=\"toc-item-num\">2.5&nbsp;&nbsp;</span>Plot regression plane</a></span></li><li><span><a href=\"#Fit-data-ignoring-outliers\" data-toc-modified-id=\"Fit-data-ignoring-outliers-2.6\"><span class=\"toc-item-num\">2.6&nbsp;&nbsp;</span>Fit data ignoring outliers</a></span></li><li><span><a href=\"#Plot-regression-plane-without-outlier\" data-toc-modified-id=\"Plot-regression-plane-without-outlier-2.7\"><span class=\"toc-item-num\">2.7&nbsp;&nbsp;</span>Plot regression plane without outlier</a></span></li></ul></li></ul></div>"
   ]
  },
  {
   "cell_type": "markdown",
   "metadata": {},
   "source": [
    "* <span style = \"font-size:2em; line-height:1.5\"> Task : Build a good regression model which explains column C by a function of  A and B.  </span>"
   ]
  },
  {
   "cell_type": "markdown",
   "metadata": {},
   "source": [
    "# EDA"
   ]
  },
  {
   "cell_type": "markdown",
   "metadata": {},
   "source": [
    "<span style = \"font-size:1.5em; line-height:1.5\">\n",
    "First, let's take a look at data.\n",
    "</span>"
   ]
  },
  {
   "cell_type": "code",
   "execution_count": 1,
   "metadata": {
    "ExecuteTime": {
     "end_time": "2020-05-22T11:03:45.206144Z",
     "start_time": "2020-05-22T11:03:44.118539Z"
    }
   },
   "outputs": [],
   "source": [
    "import pandas as pd\n",
    "import numpy as np\n",
    "import matplotlib.pyplot as plt\n",
    "%matplotlib inline\n",
    "import seaborn as sns"
   ]
  },
  {
   "cell_type": "code",
   "execution_count": 2,
   "metadata": {
    "ExecuteTime": {
     "end_time": "2020-05-22T11:03:45.236818Z",
     "start_time": "2020-05-22T11:03:45.230648Z"
    }
   },
   "outputs": [],
   "source": [
    "data = pd.read_csv('q2_data.csv', header=None)"
   ]
  },
  {
   "cell_type": "code",
   "execution_count": 3,
   "metadata": {
    "ExecuteTime": {
     "end_time": "2020-05-22T11:03:45.291355Z",
     "start_time": "2020-05-22T11:03:45.281080Z"
    }
   },
   "outputs": [
    {
     "data": {
      "text/html": [
       "<div>\n",
       "<style scoped>\n",
       "    .dataframe tbody tr th:only-of-type {\n",
       "        vertical-align: middle;\n",
       "    }\n",
       "\n",
       "    .dataframe tbody tr th {\n",
       "        vertical-align: top;\n",
       "    }\n",
       "\n",
       "    .dataframe thead th {\n",
       "        text-align: right;\n",
       "    }\n",
       "</style>\n",
       "<table border=\"1\" class=\"dataframe\">\n",
       "  <thead>\n",
       "    <tr style=\"text-align: right;\">\n",
       "      <th></th>\n",
       "      <th>a</th>\n",
       "      <th>b</th>\n",
       "      <th>c</th>\n",
       "    </tr>\n",
       "  </thead>\n",
       "  <tbody>\n",
       "    <tr>\n",
       "      <th>0</th>\n",
       "      <td>0.490</td>\n",
       "      <td>-0.18</td>\n",
       "      <td>11.50</td>\n",
       "    </tr>\n",
       "    <tr>\n",
       "      <th>1</th>\n",
       "      <td>-1.410</td>\n",
       "      <td>-1.23</td>\n",
       "      <td>11.80</td>\n",
       "    </tr>\n",
       "    <tr>\n",
       "      <th>2</th>\n",
       "      <td>0.943</td>\n",
       "      <td>4.51</td>\n",
       "      <td>-3.24</td>\n",
       "    </tr>\n",
       "    <tr>\n",
       "      <th>3</th>\n",
       "      <td>3.570</td>\n",
       "      <td>5.07</td>\n",
       "      <td>-23.90</td>\n",
       "    </tr>\n",
       "    <tr>\n",
       "      <th>4</th>\n",
       "      <td>-1.700</td>\n",
       "      <td>6.91</td>\n",
       "      <td>-22.10</td>\n",
       "    </tr>\n",
       "  </tbody>\n",
       "</table>\n",
       "</div>"
      ],
      "text/plain": [
       "       a     b      c\n",
       "0  0.490 -0.18  11.50\n",
       "1 -1.410 -1.23  11.80\n",
       "2  0.943  4.51  -3.24\n",
       "3  3.570  5.07 -23.90\n",
       "4 -1.700  6.91 -22.10"
      ]
     },
     "execution_count": 3,
     "metadata": {},
     "output_type": "execute_result"
    }
   ],
   "source": [
    "data.columns = ['a', 'b', 'c']\n",
    "data.head()"
   ]
  },
  {
   "cell_type": "markdown",
   "metadata": {},
   "source": [
    "<span style = \"font-size:1.5em; line-height:1.5\">\n",
    "'a' and 'b' have quite different ranges, so it's better to standardize them before fitting to a regression model.\n",
    "</span>"
   ]
  },
  {
   "cell_type": "code",
   "execution_count": 4,
   "metadata": {
    "ExecuteTime": {
     "end_time": "2020-05-22T11:03:45.617007Z",
     "start_time": "2020-05-22T11:03:45.597831Z"
    }
   },
   "outputs": [
    {
     "data": {
      "text/html": [
       "<div>\n",
       "<style scoped>\n",
       "    .dataframe tbody tr th:only-of-type {\n",
       "        vertical-align: middle;\n",
       "    }\n",
       "\n",
       "    .dataframe tbody tr th {\n",
       "        vertical-align: top;\n",
       "    }\n",
       "\n",
       "    .dataframe thead th {\n",
       "        text-align: right;\n",
       "    }\n",
       "</style>\n",
       "<table border=\"1\" class=\"dataframe\">\n",
       "  <thead>\n",
       "    <tr style=\"text-align: right;\">\n",
       "      <th></th>\n",
       "      <th>a</th>\n",
       "      <th>b</th>\n",
       "      <th>c</th>\n",
       "    </tr>\n",
       "  </thead>\n",
       "  <tbody>\n",
       "    <tr>\n",
       "      <th>count</th>\n",
       "      <td>300.000000</td>\n",
       "      <td>300.000000</td>\n",
       "      <td>300.000000</td>\n",
       "    </tr>\n",
       "    <tr>\n",
       "      <th>mean</th>\n",
       "      <td>2.317009</td>\n",
       "      <td>2.013115</td>\n",
       "      <td>-41.564919</td>\n",
       "    </tr>\n",
       "    <tr>\n",
       "      <th>std</th>\n",
       "      <td>5.695248</td>\n",
       "      <td>2.998680</td>\n",
       "      <td>581.251021</td>\n",
       "    </tr>\n",
       "    <tr>\n",
       "      <th>min</th>\n",
       "      <td>-8.860000</td>\n",
       "      <td>-2.890000</td>\n",
       "      <td>-10000.000000</td>\n",
       "    </tr>\n",
       "    <tr>\n",
       "      <th>25%</th>\n",
       "      <td>-1.940000</td>\n",
       "      <td>-0.606250</td>\n",
       "      <td>-23.375000</td>\n",
       "    </tr>\n",
       "    <tr>\n",
       "      <th>50%</th>\n",
       "      <td>0.468500</td>\n",
       "      <td>1.935000</td>\n",
       "      <td>-3.090000</td>\n",
       "    </tr>\n",
       "    <tr>\n",
       "      <th>75%</th>\n",
       "      <td>7.042500</td>\n",
       "      <td>4.697500</td>\n",
       "      <td>16.300000</td>\n",
       "    </tr>\n",
       "    <tr>\n",
       "      <th>max</th>\n",
       "      <td>20.600000</td>\n",
       "      <td>7.000000</td>\n",
       "      <td>202.000000</td>\n",
       "    </tr>\n",
       "  </tbody>\n",
       "</table>\n",
       "</div>"
      ],
      "text/plain": [
       "                a           b             c\n",
       "count  300.000000  300.000000    300.000000\n",
       "mean     2.317009    2.013115    -41.564919\n",
       "std      5.695248    2.998680    581.251021\n",
       "min     -8.860000   -2.890000 -10000.000000\n",
       "25%     -1.940000   -0.606250    -23.375000\n",
       "50%      0.468500    1.935000     -3.090000\n",
       "75%      7.042500    4.697500     16.300000\n",
       "max     20.600000    7.000000    202.000000"
      ]
     },
     "execution_count": 4,
     "metadata": {},
     "output_type": "execute_result"
    }
   ],
   "source": [
    "data.describe()"
   ]
  },
  {
   "cell_type": "code",
   "execution_count": 5,
   "metadata": {
    "ExecuteTime": {
     "end_time": "2020-05-22T11:03:46.292495Z",
     "start_time": "2020-05-22T11:03:46.133339Z"
    }
   },
   "outputs": [
    {
     "data": {
      "text/plain": [
       "<matplotlib.axes._subplots.AxesSubplot at 0x12309add0>"
      ]
     },
     "execution_count": 5,
     "metadata": {},
     "output_type": "execute_result"
    },
    {
     "data": {
      "image/png": "[encoded data removed]",
      "text/plain": [
       "<Figure size 432x288 with 1 Axes>"
      ]
     },
     "metadata": {
      "needs_background": "light"
     },
     "output_type": "display_data"
    }
   ],
   "source": [
    "data['a'].hist()"
   ]
  },
  {
   "cell_type": "code",
   "execution_count": 6,
   "metadata": {
    "ExecuteTime": {
     "end_time": "2020-05-22T11:03:46.674519Z",
     "start_time": "2020-05-22T11:03:46.519688Z"
    }
   },
   "outputs": [
    {
     "data": {
      "text/plain": [
       "<matplotlib.axes._subplots.AxesSubplot at 0x125178250>"
      ]
     },
     "execution_count": 6,
     "metadata": {},
     "output_type": "execute_result"
    },
    {
     "data": {
      "image/png": "[encoded data removed]",
      "text/plain": [
       "<Figure size 432x288 with 1 Axes>"
      ]
     },
     "metadata": {
      "needs_background": "light"
     },
     "output_type": "display_data"
    }
   ],
   "source": [
    "data['b'].hist()"
   ]
  },
  {
   "cell_type": "markdown",
   "metadata": {},
   "source": [
    "<span style = \"font-size:1.5em; line-height:1.5\">\n",
    "There seem to exist an outlier in the histogram and scatter plot.\n",
    "</span>"
   ]
  },
  {
   "cell_type": "code",
   "execution_count": 7,
   "metadata": {
    "ExecuteTime": {
     "end_time": "2020-05-22T11:03:48.529490Z",
     "start_time": "2020-05-22T11:03:48.396884Z"
    }
   },
   "outputs": [
    {
     "data": {
      "text/plain": [
       "<matplotlib.axes._subplots.AxesSubplot at 0x1252f4090>"
      ]
     },
     "execution_count": 7,
     "metadata": {},
     "output_type": "execute_result"
    },
    {
     "data": {
      "image/png": "[encoded data removed]",
      "text/plain": [
       "<Figure size 432x288 with 1 Axes>"
      ]
     },
     "metadata": {
      "needs_background": "light"
     },
     "output_type": "display_data"
    }
   ],
   "source": [
    "data['c'].hist()"
   ]
  },
  {
   "cell_type": "code",
   "execution_count": 10,
   "metadata": {
    "ExecuteTime": {
     "end_time": "2020-05-22T11:04:58.135615Z",
     "start_time": "2020-05-22T11:04:57.974822Z"
    }
   },
   "outputs": [
    {
     "data": {
      "text/plain": [
       "Text(0, 0.5, 'c')"
      ]
     },
     "execution_count": 10,
     "metadata": {},
     "output_type": "execute_result"
    },
    {
     "data": {
      "image/png": "[encoded data removed]",
      "text/plain": [
       "<Figure size 720x576 with 1 Axes>"
      ]
     },
     "metadata": {
      "needs_background": "light"
     },
     "output_type": "display_data"
    }
   ],
   "source": [
    "plt.figure(figsize=(10, 8))\n",
    "plt.plot(data.a, data.c, '.', color='red')\n",
    "plt.xlabel('a')\n",
    "plt.ylabel('c')"
   ]
  },
  {
   "cell_type": "markdown",
   "metadata": {},
   "source": [
    "# Fit and predict"
   ]
  },
  {
   "cell_type": "markdown",
   "metadata": {},
   "source": [
    "## Get X, y"
   ]
  },
  {
   "cell_type": "markdown",
   "metadata": {},
   "source": [
    "<span style = \"font-size:1.5em; line-height:1.5\">\n",
    "Make arrays of features and target for computation.\n",
    "</span>"
   ]
  },
  {
   "cell_type": "code",
   "execution_count": 11,
   "metadata": {
    "ExecuteTime": {
     "end_time": "2020-05-22T11:08:57.760265Z",
     "start_time": "2020-05-22T11:08:57.756836Z"
    }
   },
   "outputs": [],
   "source": [
    "def get_arrays(data):\n",
    "    X = np.array(data[['a', 'b']])\n",
    "    y = np.array(data[['c']])\n",
    "    return X, y"
   ]
  },
  {
   "cell_type": "code",
   "execution_count": 12,
   "metadata": {
    "ExecuteTime": {
     "end_time": "2020-05-22T11:08:59.772445Z",
     "start_time": "2020-05-22T11:08:59.767305Z"
    }
   },
   "outputs": [],
   "source": [
    "X, y = get_arrays(data)"
   ]
  },
  {
   "cell_type": "markdown",
   "metadata": {},
   "source": [
    "## Standardize features"
   ]
  },
  {
   "cell_type": "markdown",
   "metadata": {},
   "source": [
    "<span style = \"font-size:1.5em; line-height:1.5\">\n",
    "Standardize features to get better prediction. Since 'a' and 'b' have pretty different scales, it's better to standardize them before fitting into regression model.\n",
    "</span>"
   ]
  },
  {
   "cell_type": "code",
   "execution_count": 13,
   "metadata": {
    "ExecuteTime": {
     "end_time": "2020-05-22T11:10:19.786078Z",
     "start_time": "2020-05-22T11:10:19.782942Z"
    }
   },
   "outputs": [],
   "source": [
    "def standardize(x):\n",
    "    x = (x - np.mean(x))/np.std(x)\n",
    "    return x"
   ]
  },
  {
   "cell_type": "code",
   "execution_count": 14,
   "metadata": {
    "ExecuteTime": {
     "end_time": "2020-05-22T11:10:20.667838Z",
     "start_time": "2020-05-22T11:10:20.664493Z"
    }
   },
   "outputs": [],
   "source": [
    "X = standardize(X)"
   ]
  },
  {
   "cell_type": "markdown",
   "metadata": {},
   "source": [
    "## Add 1's to X"
   ]
  },
  {
   "cell_type": "markdown",
   "metadata": {},
   "source": [
    "<span style = \"font-size:1.5em; line-height:1.5\">\n",
    "Add a column of 1's to X for computing intercept.\n",
    "</span>"
   ]
  },
  {
   "cell_type": "code",
   "execution_count": 15,
   "metadata": {
    "ExecuteTime": {
     "end_time": "2020-05-22T11:10:47.876471Z",
     "start_time": "2020-05-22T11:10:47.873273Z"
    }
   },
   "outputs": [],
   "source": [
    "def add_ones(X):\n",
    "    ones = np.ones((len(X), 1))\n",
    "    X = np.c_[ones, X]\n",
    "    return X"
   ]
  },
  {
   "cell_type": "code",
   "execution_count": 16,
   "metadata": {
    "ExecuteTime": {
     "end_time": "2020-05-22T11:10:48.210051Z",
     "start_time": "2020-05-22T11:10:48.206917Z"
    }
   },
   "outputs": [],
   "source": [
    "X = add_ones(X)"
   ]
  },
  {
   "cell_type": "markdown",
   "metadata": {},
   "source": [
    "## Fit data including outliers using simple linear regression."
   ]
  },
  {
   "cell_type": "markdown",
   "metadata": {
    "ExecuteTime": {
     "end_time": "2020-05-22T11:11:37.097539Z",
     "start_time": "2020-05-22T11:11:37.093601Z"
    }
   },
   "source": [
    "<span style = \"font-size:1.5em; line-height:1.5\">\n",
    "This time, we'll fit data including the outlier, and we'll use a simple linear regression model.\n",
    "</span>"
   ]
  },
  {
   "cell_type": "code",
   "execution_count": 18,
   "metadata": {
    "ExecuteTime": {
     "end_time": "2020-05-22T11:11:56.960904Z",
     "start_time": "2020-05-22T11:11:56.957354Z"
    }
   },
   "outputs": [],
   "source": [
    "def get_coefficients(X, y):\n",
    "    b = np.linalg.inv(X.T@X)@X.T@y\n",
    "    return b"
   ]
  },
  {
   "cell_type": "code",
   "execution_count": 19,
   "metadata": {
    "ExecuteTime": {
     "end_time": "2020-05-22T11:11:58.431900Z",
     "start_time": "2020-05-22T11:11:58.428578Z"
    }
   },
   "outputs": [],
   "source": [
    "b = get_coefficients(X, y)"
   ]
  },
  {
   "cell_type": "code",
   "execution_count": 20,
   "metadata": {
    "ExecuteTime": {
     "end_time": "2020-05-22T11:11:59.555150Z",
     "start_time": "2020-05-22T11:11:59.552180Z"
    }
   },
   "outputs": [],
   "source": [
    "def predict(X, b):\n",
    "    return X@b"
   ]
  },
  {
   "cell_type": "code",
   "execution_count": 21,
   "metadata": {
    "ExecuteTime": {
     "end_time": "2020-05-22T11:12:00.518514Z",
     "start_time": "2020-05-22T11:12:00.515589Z"
    }
   },
   "outputs": [],
   "source": [
    "y_hat = predict(X, b)"
   ]
  },
  {
   "cell_type": "code",
   "execution_count": 27,
   "metadata": {
    "ExecuteTime": {
     "end_time": "2020-05-22T11:17:07.520787Z",
     "start_time": "2020-05-22T11:17:07.517452Z"
    }
   },
   "outputs": [],
   "source": [
    "def get_mse(y, y_hat):\n",
    "    mse = np.mean((np.array(y - y_hat))**2)\n",
    "    return np.round(mse, 2)"
   ]
  },
  {
   "cell_type": "code",
   "execution_count": 40,
   "metadata": {
    "ExecuteTime": {
     "end_time": "2020-05-22T11:19:12.780332Z",
     "start_time": "2020-05-22T11:19:12.776920Z"
    }
   },
   "outputs": [],
   "source": [
    "def get_mae(y, y_hat):\n",
    "    mae = np.median(np.abs(np.array(y - y_hat)))\n",
    "    return np.round(mae, 2)"
   ]
  },
  {
   "cell_type": "markdown",
   "metadata": {},
   "source": [
    "<span style = \"font-size:1.5em; line-height:1.5\">\n",
    "The mean squared error of this model is extremely high. It's because of the outlier.\n",
    "</span>"
   ]
  },
  {
   "cell_type": "code",
   "execution_count": 41,
   "metadata": {
    "ExecuteTime": {
     "end_time": "2020-05-22T11:19:13.899165Z",
     "start_time": "2020-05-22T11:19:13.894576Z"
    }
   },
   "outputs": [
    {
     "data": {
      "text/plain": [
       "334688.27"
      ]
     },
     "execution_count": 41,
     "metadata": {},
     "output_type": "execute_result"
    }
   ],
   "source": [
    "MSE1 = get_mse(y, y_hat)\n",
    "MSE1"
   ]
  },
  {
   "cell_type": "markdown",
   "metadata": {},
   "source": [
    "<span style = \"font-size:1.5em; line-height:1.5\">\n",
    "The median absolute error of this model is 33. This means that the difference between true c's and predicted c's are roughly 33.\n",
    "</span>"
   ]
  },
  {
   "cell_type": "code",
   "execution_count": 43,
   "metadata": {
    "ExecuteTime": {
     "end_time": "2020-05-22T11:19:22.800748Z",
     "start_time": "2020-05-22T11:19:22.795823Z"
    }
   },
   "outputs": [
    {
     "data": {
      "text/plain": [
       "33.25"
      ]
     },
     "execution_count": 43,
     "metadata": {},
     "output_type": "execute_result"
    }
   ],
   "source": [
    "MAE1 = get_mae(y, y_hat)\n",
    "MAE1"
   ]
  },
  {
   "cell_type": "markdown",
   "metadata": {},
   "source": [
    "## Plot regression plane"
   ]
  },
  {
   "cell_type": "markdown",
   "metadata": {},
   "source": [
    "<span style = \"font-size:1.5em; line-height:1.5\">\n",
    "This is the data in 3D plot and you can play around with different angles.  \n",
    "\n",
    "Because of the outlier, it's pretty hard to tell if the regression plane fits well to the data.\n",
    "</span>"
   ]
  },
  {
   "cell_type": "code",
   "execution_count": 47,
   "metadata": {
    "ExecuteTime": {
     "end_time": "2020-05-22T11:21:33.702569Z",
     "start_time": "2020-05-22T11:21:33.699092Z"
    }
   },
   "outputs": [],
   "source": [
    "%matplotlib notebook"
   ]
  },
  {
   "cell_type": "code",
   "execution_count": 48,
   "metadata": {
    "ExecuteTime": {
     "end_time": "2020-05-22T11:21:39.114795Z",
     "start_time": "2020-05-22T11:21:34.450792Z"
    },
    "scrolled": false
   },
   "outputs": [
    {
     "data": {
      "application/javascript": [
       "/* Put everything inside the global mpl namespace */\n",
       "window.mpl = {};\n",
       "\n",
       "\n",
       "mpl.get_websocket_type = function() {\n",
       "    if (typeof(WebSocket) !== 'undefined') {\n",
       "        return WebSocket;\n",
       "    } else if (typeof(MozWebSocket) !== 'undefined') {\n",
       "        return MozWebSocket;\n",
       "    } else {\n",
       "        alert('Your browser does not have WebSocket support. ' +\n",
       "              'Please try Chrome, Safari or Firefox ≥ 6. ' +\n",
       "              'Firefox 4 and 5 are also supported but you ' +\n",
       "              'have to enable WebSockets in about:config.');\n",
       "    };\n",
       "}\n",
       "\n",
       "mpl.figure = function(figure_id, websocket, ondownload, parent_element) {\n",
       "    this.id = figure_id;\n",
       "\n",
       "    this.ws = websocket;\n",
       "\n",
       "    this.supports_binary = (this.ws.binaryType != undefined);\n",
       "\n",
       "    if (!this.supports_binary) {\n",
       "        var warnings = document.getElementById(\"mpl-warnings\");\n",
       "        if (warnings) {\n",
       "            warnings.style.display = 'block';\n",
       "            warnings.textContent = (\n",
       "                \"This browser does not support binary websocket messages. \" +\n",
       "                    \"Performance may be slow.\");\n",
       "        }\n",
       "    }\n",
       "\n",
       "    this.imageObj = new Image();\n",
       "\n",
       "    this.context = undefined;\n",
       "    this.message = undefined;\n",
       "    this.canvas = undefined;\n",
       "    this.rubberband_canvas = undefined;\n",
       "    this.rubberband_context = undefined;\n",
       "    this.format_dropdown = undefined;\n",
       "\n",
       "    this.image_mode = 'full';\n",
       "\n",
       "    this.root = $('<div/>');\n",
       "    this._root_extra_style(this.root)\n",
       "    this.root.attr('style', 'display: inline-block');\n",
       "\n",
       "    $(parent_element).append(this.root);\n",
       "\n",
       "    this._init_header(this);\n",
       "    this._init_canvas(this);\n",
       "    this._init_toolbar(this);\n",
       "\n",
       "    var fig = this;\n",
       "\n",
       "    this.waiting = false;\n",
       "\n",
       "    this.ws.onopen =  function () {\n",
       "            fig.send_message(\"supports_binary\", {value: fig.supports_binary});\n",
       "            fig.send_message(\"send_image_mode\", {});\n",
       "            if (mpl.ratio != 1) {\n",
       "                fig.send_message(\"set_dpi_ratio\", {'dpi_ratio': mpl.ratio});\n",
       "            }\n",
       "            fig.send_message(\"refresh\", {});\n",
       "        }\n",
       "\n",
       "    this.imageObj.onload = function() {\n",
       "            if (fig.image_mode == 'full') {\n",
       "                // Full images could contain transparency (where diff images\n",
       "                // almost always do), so we need to clear the canvas so that\n",
       "                // there is no ghosting.\n",
       "                fig.context.clearRect(0, 0, fig.canvas.width, fig.canvas.height);\n",
       "            }\n",
       "            fig.context.drawImage(fig.imageObj, 0, 0);\n",
       "        };\n",
       "\n",
       "    this.imageObj.onunload = function() {\n",
       "        fig.ws.close();\n",
       "    }\n",
       "\n",
       "    this.ws.onmessage = this._make_on_message_function(this);\n",
       "\n",
       "    this.ondownload = ondownload;\n",
       "}\n",
       "\n",
       "mpl.figure.prototype._init_header = function() {\n",
       "    var titlebar = $(\n",
       "        '<div class=\"ui-dialog-titlebar ui-widget-header ui-corner-all ' +\n",
       "        'ui-helper-clearfix\"/>');\n",
       "    var titletext = $(\n",
       "        '<div class=\"ui-dialog-title\" style=\"width: 100%; ' +\n",
       "        'text-align: center; padding: 3px;\"/>');\n",
       "    titlebar.append(titletext)\n",
       "    this.root.append(titlebar);\n",
       "    this.header = titletext[0];\n",
       "}\n",
       "\n",
       "\n",
       "\n",
       "mpl.figure.prototype._canvas_extra_style = function(canvas_div) {\n",
       "\n",
       "}\n",
       "\n",
       "\n",
       "mpl.figure.prototype._root_extra_style = function(canvas_div) {\n",
       "\n",
       "}\n",
       "\n",
       "mpl.figure.prototype._init_canvas = function() {\n",
       "    var fig = this;\n",
       "\n",
       "    var canvas_div = $('<div/>');\n",
       "\n",
       "    canvas_div.attr('style', 'position: relative; clear: both; outline: 0');\n",
       "\n",
       "    function canvas_keyboard_event(event) {\n",
       "        return fig.key_event(event, event['data']);\n",
       "    }\n",
       "\n",
       "    canvas_div.keydown('key_press', canvas_keyboard_event);\n",
       "    canvas_div.keyup('key_release', canvas_keyboard_event);\n",
       "    this.canvas_div = canvas_div\n",
       "    this._canvas_extra_style(canvas_div)\n",
       "    this.root.append(canvas_div);\n",
       "\n",
       "    var canvas = $('<canvas/>');\n",
       "    canvas.addClass('mpl-canvas');\n",
       "    canvas.attr('style', \"left: 0; top: 0; z-index: 0; outline: 0\")\n",
       "\n",
       "    this.canvas = canvas[0];\n",
       "    this.context = canvas[0].getContext(\"2d\");\n",
       "\n",
       "    var backingStore = this.context.backingStorePixelRatio ||\n",
       "\tthis.context.webkitBackingStorePixelRatio ||\n",
       "\tthis.context.mozBackingStorePixelRatio ||\n",
       "\tthis.context.msBackingStorePixelRatio ||\n",
       "\tthis.context.oBackingStorePixelRatio ||\n",
       "\tthis.context.backingStorePixelRatio || 1;\n",
       "\n",
       "    mpl.ratio = (window.devicePixelRatio || 1) / backingStore;\n",
       "\n",
       "    var rubberband = $('<canvas/>');\n",
       "    rubberband.attr('style', \"position: absolute; left: 0; top: 0; z-index: 1;\")\n",
       "\n",
       "    var pass_mouse_events = true;\n",
       "\n",
       "    canvas_div.resizable({\n",
       "        start: function(event, ui) {\n",
       "            pass_mouse_events = false;\n",
       "        },\n",
       "        resize: function(event, ui) {\n",
       "            fig.request_resize(ui.size.width, ui.size.height);\n",
       "        },\n",
       "        stop: function(event, ui) {\n",
       "            pass_mouse_events = true;\n",
       "            fig.request_resize(ui.size.width, ui.size.height);\n",
       "        },\n",
       "    });\n",
       "\n",
       "    function mouse_event_fn(event) {\n",
       "        if (pass_mouse_events)\n",
       "            return fig.mouse_event(event, event['data']);\n",
       "    }\n",
       "\n",
       "    rubberband.mousedown('button_press', mouse_event_fn);\n",
       "    rubberband.mouseup('button_release', mouse_event_fn);\n",
       "    // Throttle sequential mouse events to 1 every 20ms.\n",
       "    rubberband.mousemove('motion_notify', mouse_event_fn);\n",
       "\n",
       "    rubberband.mouseenter('figure_enter', mouse_event_fn);\n",
       "    rubberband.mouseleave('figure_leave', mouse_event_fn);\n",
       "\n",
       "    canvas_div.on(\"wheel\", function (event) {\n",
       "        event = event.originalEvent;\n",
       "        event['data'] = 'scroll'\n",
       "        if (event.deltaY < 0) {\n",
       "            event.step = 1;\n",
       "        } else {\n",
       "            event.step = -1;\n",
       "        }\n",
       "        mouse_event_fn(event);\n",
       "    });\n",
       "\n",
       "    canvas_div.append(canvas);\n",
       "    canvas_div.append(rubberband);\n",
       "\n",
       "    this.rubberband = rubberband;\n",
       "    this.rubberband_canvas = rubberband[0];\n",
       "    this.rubberband_context = rubberband[0].getContext(\"2d\");\n",
       "    this.rubberband_context.strokeStyle = \"#000000\";\n",
       "\n",
       "    this._resize_canvas = function(width, height) {\n",
       "        // Keep the size of the canvas, canvas container, and rubber band\n",
       "        // canvas in synch.\n",
       "        canvas_div.css('width', width)\n",
       "        canvas_div.css('height', height)\n",
       "\n",
       "        canvas.attr('width', width * mpl.ratio);\n",
       "        canvas.attr('height', height * mpl.ratio);\n",
       "        canvas.attr('style', 'width: ' + width + 'px; height: ' + height + 'px;');\n",
       "\n",
       "        rubberband.attr('width', width);\n",
       "        rubberband.attr('height', height);\n",
       "    }\n",
       "\n",
       "    // Set the figure to an initial 600x600px, this will subsequently be updated\n",
       "    // upon first draw.\n",
       "    this._resize_canvas(600, 600);\n",
       "\n",
       "    // Disable right mouse context menu.\n",
       "    $(this.rubberband_canvas).bind(\"contextmenu\",function(e){\n",
       "        return false;\n",
       "    });\n",
       "\n",
       "    function set_focus () {\n",
       "        canvas.focus();\n",
       "        canvas_div.focus();\n",
       "    }\n",
       "\n",
       "    window.setTimeout(set_focus, 100);\n",
       "}\n",
       "\n",
       "mpl.figure.prototype._init_toolbar = function() {\n",
       "    var fig = this;\n",
       "\n",
       "    var nav_element = $('<div/>');\n",
       "    nav_element.attr('style', 'width: 100%');\n",
       "    this.root.append(nav_element);\n",
       "\n",
       "    // Define a callback function for later on.\n",
       "    function toolbar_event(event) {\n",
       "        return fig.toolbar_button_onclick(event['data']);\n",
       "    }\n",
       "    function toolbar_mouse_event(event) {\n",
       "        return fig.toolbar_button_onmouseover(event['data']);\n",
       "    }\n",
       "\n",
       "    for(var toolbar_ind in mpl.toolbar_items) {\n",
       "        var name = mpl.toolbar_items[toolbar_ind][0];\n",
       "        var tooltip = mpl.toolbar_items[toolbar_ind][1];\n",
       "        var image = mpl.toolbar_items[toolbar_ind][2];\n",
       "        var method_name = mpl.toolbar_items[toolbar_ind][3];\n",
       "\n",
       "        if (!name) {\n",
       "            // put a spacer in here.\n",
       "            continue;\n",
       "        }\n",
       "        var button = $('<button/>');\n",
       "        button.addClass('ui-button ui-widget ui-state-default ui-corner-all ' +\n",
       "                        'ui-button-icon-only');\n",
       "        button.attr('role', 'button');\n",
       "        button.attr('aria-disabled', 'false');\n",
       "        button.click(method_name, toolbar_event);\n",
       "        button.mouseover(tooltip, toolbar_mouse_event);\n",
       "\n",
       "        var icon_img = $('<span/>');\n",
       "        icon_img.addClass('ui-button-icon-primary ui-icon');\n",
       "        icon_img.addClass(image);\n",
       "        icon_img.addClass('ui-corner-all');\n",
       "\n",
       "        var tooltip_span = $('<span/>');\n",
       "        tooltip_span.addClass('ui-button-text');\n",
       "        tooltip_span.html(tooltip);\n",
       "\n",
       "        button.append(icon_img);\n",
       "        button.append(tooltip_span);\n",
       "\n",
       "        nav_element.append(button);\n",
       "    }\n",
       "\n",
       "    var fmt_picker_span = $('<span/>');\n",
       "\n",
       "    var fmt_picker = $('<select/>');\n",
       "    fmt_picker.addClass('mpl-toolbar-option ui-widget ui-widget-content');\n",
       "    fmt_picker_span.append(fmt_picker);\n",
       "    nav_element.append(fmt_picker_span);\n",
       "    this.format_dropdown = fmt_picker[0];\n",
       "\n",
       "    for (var ind in mpl.extensions) {\n",
       "        var fmt = mpl.extensions[ind];\n",
       "        var option = $(\n",
       "            '<option/>', {selected: fmt === mpl.default_extension}).html(fmt);\n",
       "        fmt_picker.append(option);\n",
       "    }\n",
       "\n",
       "    // Add hover states to the ui-buttons\n",
       "    $( \".ui-button\" ).hover(\n",
       "        function() { $(this).addClass(\"ui-state-hover\");},\n",
       "        function() { $(this).removeClass(\"ui-state-hover\");}\n",
       "    );\n",
       "\n",
       "    var status_bar = $('<span class=\"mpl-message\"/>');\n",
       "    nav_element.append(status_bar);\n",
       "    this.message = status_bar[0];\n",
       "}\n",
       "\n",
       "mpl.figure.prototype.request_resize = function(x_pixels, y_pixels) {\n",
       "    // Request matplotlib to resize the figure. Matplotlib will then trigger a resize in the client,\n",
       "    // which will in turn request a refresh of the image.\n",
       "    this.send_message('resize', {'width': x_pixels, 'height': y_pixels});\n",
       "}\n",
       "\n",
       "mpl.figure.prototype.send_message = function(type, properties) {\n",
       "    properties['type'] = type;\n",
       "    properties['figure_id'] = this.id;\n",
       "    this.ws.send(JSON.stringify(properties));\n",
       "}\n",
       "\n",
       "mpl.figure.prototype.send_draw_message = function() {\n",
       "    if (!this.waiting) {\n",
       "        this.waiting = true;\n",
       "        this.ws.send(JSON.stringify({type: \"draw\", figure_id: this.id}));\n",
       "    }\n",
       "}\n",
       "\n",
       "\n",
       "mpl.figure.prototype.handle_save = function(fig, msg) {\n",
       "    var format_dropdown = fig.format_dropdown;\n",
       "    var format = format_dropdown.options[format_dropdown.selectedIndex].value;\n",
       "    fig.ondownload(fig, format);\n",
       "}\n",
       "\n",
       "\n",
       "mpl.figure.prototype.handle_resize = function(fig, msg) {\n",
       "    var size = msg['size'];\n",
       "    if (size[0] != fig.canvas.width || size[1] != fig.canvas.height) {\n",
       "        fig._resize_canvas(size[0], size[1]);\n",
       "        fig.send_message(\"refresh\", {});\n",
       "    };\n",
       "}\n",
       "\n",
       "mpl.figure.prototype.handle_rubberband = function(fig, msg) {\n",
       "    var x0 = msg['x0'] / mpl.ratio;\n",
       "    var y0 = (fig.canvas.height - msg['y0']) / mpl.ratio;\n",
       "    var x1 = msg['x1'] / mpl.ratio;\n",
       "    var y1 = (fig.canvas.height - msg['y1']) / mpl.ratio;\n",
       "    x0 = Math.floor(x0) + 0.5;\n",
       "    y0 = Math.floor(y0) + 0.5;\n",
       "    x1 = Math.floor(x1) + 0.5;\n",
       "    y1 = Math.floor(y1) + 0.5;\n",
       "    var min_x = Math.min(x0, x1);\n",
       "    var min_y = Math.min(y0, y1);\n",
       "    var width = Math.abs(x1 - x0);\n",
       "    var height = Math.abs(y1 - y0);\n",
       "\n",
       "    fig.rubberband_context.clearRect(\n",
       "        0, 0, fig.canvas.width / mpl.ratio, fig.canvas.height / mpl.ratio);\n",
       "\n",
       "    fig.rubberband_context.strokeRect(min_x, min_y, width, height);\n",
       "}\n",
       "\n",
       "mpl.figure.prototype.handle_figure_label = function(fig, msg) {\n",
       "    // Updates the figure title.\n",
       "    fig.header.textContent = msg['label'];\n",
       "}\n",
       "\n",
       "mpl.figure.prototype.handle_cursor = function(fig, msg) {\n",
       "    var cursor = msg['cursor'];\n",
       "    switch(cursor)\n",
       "    {\n",
       "    case 0:\n",
       "        cursor = 'pointer';\n",
       "        break;\n",
       "    case 1:\n",
       "        cursor = 'default';\n",
       "        break;\n",
       "    case 2:\n",
       "        cursor = 'crosshair';\n",
       "        break;\n",
       "    case 3:\n",
       "        cursor = 'move';\n",
       "        break;\n",
       "    }\n",
       "    fig.rubberband_canvas.style.cursor = cursor;\n",
       "}\n",
       "\n",
       "mpl.figure.prototype.handle_message = function(fig, msg) {\n",
       "    fig.message.textContent = msg['message'];\n",
       "}\n",
       "\n",
       "mpl.figure.prototype.handle_draw = function(fig, msg) {\n",
       "    // Request the server to send over a new figure.\n",
       "    fig.send_draw_message();\n",
       "}\n",
       "\n",
       "mpl.figure.prototype.handle_image_mode = function(fig, msg) {\n",
       "    fig.image_mode = msg['mode'];\n",
       "}\n",
       "\n",
       "mpl.figure.prototype.updated_canvas_event = function() {\n",
       "    // Called whenever the canvas gets updated.\n",
       "    this.send_message(\"ack\", {});\n",
       "}\n",
       "\n",
       "// A function to construct a web socket function for onmessage handling.\n",
       "// Called in the figure constructor.\n",
       "mpl.figure.prototype._make_on_message_function = function(fig) {\n",
       "    return function socket_on_message(evt) {\n",
       "        if (evt.data instanceof Blob) {\n",
       "            /* FIXME: We get \"Resource interpreted as Image but\n",
       "             * transferred with MIME type text/plain:\" errors on\n",
       "             * Chrome.  But how to set the MIME type?  It doesn't seem\n",
       "             * to be part of the websocket stream */\n",
       "            evt.data.type = \"image/png\";\n",
       "\n",
       "            /* Free the memory for the previous frames */\n",
       "            if (fig.imageObj.src) {\n",
       "                (window.URL || window.webkitURL).revokeObjectURL(\n",
       "                    fig.imageObj.src);\n",
       "            }\n",
       "\n",
       "            fig.imageObj.src = (window.URL || window.webkitURL).createObjectURL(\n",
       "                evt.data);\n",
       "            fig.updated_canvas_event();\n",
       "            fig.waiting = false;\n",
       "            return;\n",
       "        }\n",
       "        else if (typeof evt.data === 'string' && evt.data.slice(0, 21) == \"data:image/png;base64\") {\n",
       "            fig.imageObj.src = evt.data;\n",
       "            fig.updated_canvas_event();\n",
       "            fig.waiting = false;\n",
       "            return;\n",
       "        }\n",
       "\n",
       "        var msg = JSON.parse(evt.data);\n",
       "        var msg_type = msg['type'];\n",
       "\n",
       "        // Call the  \"handle_{type}\" callback, which takes\n",
       "        // the figure and JSON message as its only arguments.\n",
       "        try {\n",
       "            var callback = fig[\"handle_\" + msg_type];\n",
       "        } catch (e) {\n",
       "            console.log(\"No handler for the '\" + msg_type + \"' message type: \", msg);\n",
       "            return;\n",
       "        }\n",
       "\n",
       "        if (callback) {\n",
       "            try {\n",
       "                // console.log(\"Handling '\" + msg_type + \"' message: \", msg);\n",
       "                callback(fig, msg);\n",
       "            } catch (e) {\n",
       "                console.log(\"Exception inside the 'handler_\" + msg_type + \"' callback:\", e, e.stack, msg);\n",
       "            }\n",
       "        }\n",
       "    };\n",
       "}\n",
       "\n",
       "// from http://stackoverflow.com/questions/1114465/getting-mouse-location-in-canvas\n",
       "mpl.findpos = function(e) {\n",
       "    //this section is from http://www.quirksmode.org/js/events_properties.html\n",
       "    var targ;\n",
       "    if (!e)\n",
       "        e = window.event;\n",
       "    if (e.target)\n",
       "        targ = e.target;\n",
       "    else if (e.srcElement)\n",
       "        targ = e.srcElement;\n",
       "    if (targ.nodeType == 3) // defeat Safari bug\n",
       "        targ = targ.parentNode;\n",
       "\n",
       "    // jQuery normalizes the pageX and pageY\n",
       "    // pageX,Y are the mouse positions relative to the document\n",
       "    // offset() returns the position of the element relative to the document\n",
       "    var x = e.pageX - $(targ).offset().left;\n",
       "    var y = e.pageY - $(targ).offset().top;\n",
       "\n",
       "    return {\"x\": x, \"y\": y};\n",
       "};\n",
       "\n",
       "/*\n",
       " * return a copy of an object with only non-object keys\n",
       " * we need this to avoid circular references\n",
       " * http://stackoverflow.com/a/24161582/3208463\n",
       " */\n",
       "function simpleKeys (original) {\n",
       "  return Object.keys(original).reduce(function (obj, key) {\n",
       "    if (typeof original[key] !== 'object')\n",
       "        obj[key] = original[key]\n",
       "    return obj;\n",
       "  }, {});\n",
       "}\n",
       "\n",
       "mpl.figure.prototype.mouse_event = function(event, name) {\n",
       "    var canvas_pos = mpl.findpos(event)\n",
       "\n",
       "    if (name === 'button_press')\n",
       "    {\n",
       "        this.canvas.focus();\n",
       "        this.canvas_div.focus();\n",
       "    }\n",
       "\n",
       "    var x = canvas_pos.x * mpl.ratio;\n",
       "    var y = canvas_pos.y * mpl.ratio;\n",
       "\n",
       "    this.send_message(name, {x: x, y: y, button: event.button,\n",
       "                             step: event.step,\n",
       "                             guiEvent: simpleKeys(event)});\n",
       "\n",
       "    /* This prevents the web browser from automatically changing to\n",
       "     * the text insertion cursor when the button is pressed.  We want\n",
       "     * to control all of the cursor setting manually through the\n",
       "     * 'cursor' event from matplotlib */\n",
       "    event.preventDefault();\n",
       "    return false;\n",
       "}\n",
       "\n",
       "mpl.figure.prototype._key_event_extra = function(event, name) {\n",
       "    // Handle any extra behaviour associated with a key event\n",
       "}\n",
       "\n",
       "mpl.figure.prototype.key_event = function(event, name) {\n",
       "\n",
       "    // Prevent repeat events\n",
       "    if (name == 'key_press')\n",
       "    {\n",
       "        if (event.which === this._key)\n",
       "            return;\n",
       "        else\n",
       "            this._key = event.which;\n",
       "    }\n",
       "    if (name == 'key_release')\n",
       "        this._key = null;\n",
       "\n",
       "    var value = '';\n",
       "    if (event.ctrlKey && event.which != 17)\n",
       "        value += \"ctrl+\";\n",
       "    if (event.altKey && event.which != 18)\n",
       "        value += \"alt+\";\n",
       "    if (event.shiftKey && event.which != 16)\n",
       "        value += \"shift+\";\n",
       "\n",
       "    value += 'k';\n",
       "    value += event.which.toString();\n",
       "\n",
       "    this._key_event_extra(event, name);\n",
       "\n",
       "    this.send_message(name, {key: value,\n",
       "                             guiEvent: simpleKeys(event)});\n",
       "    return false;\n",
       "}\n",
       "\n",
       "mpl.figure.prototype.toolbar_button_onclick = function(name) {\n",
       "    if (name == 'download') {\n",
       "        this.handle_save(this, null);\n",
       "    } else {\n",
       "        this.send_message(\"toolbar_button\", {name: name});\n",
       "    }\n",
       "};\n",
       "\n",
       "mpl.figure.prototype.toolbar_button_onmouseover = function(tooltip) {\n",
       "    this.message.textContent = tooltip;\n",
       "};\n",
       "mpl.toolbar_items = [[\"Home\", \"Reset original view\", \"fa fa-home icon-home\", \"home\"], [\"Back\", \"Back to previous view\", \"fa fa-arrow-left icon-arrow-left\", \"back\"], [\"Forward\", \"Forward to next view\", \"fa fa-arrow-right icon-arrow-right\", \"forward\"], [\"\", \"\", \"\", \"\"], [\"Pan\", \"Pan axes with left mouse, zoom with right\", \"fa fa-arrows icon-move\", \"pan\"], [\"Zoom\", \"Zoom to rectangle\", \"fa fa-square-o icon-check-empty\", \"zoom\"], [\"\", \"\", \"\", \"\"], [\"Download\", \"Download plot\", \"fa fa-floppy-o icon-save\", \"download\"]];\n",
       "\n",
       "mpl.extensions = [\"eps\", \"pdf\", \"png\", \"ps\", \"raw\", \"svg\"];\n",
       "\n",
       "mpl.default_extension = \"png\";var comm_websocket_adapter = function(comm) {\n",
       "    // Create a \"websocket\"-like object which calls the given IPython comm\n",
       "    // object with the appropriate methods. Currently this is a non binary\n",
       "    // socket, so there is still some room for performance tuning.\n",
       "    var ws = {};\n",
       "\n",
       "    ws.close = function() {\n",
       "        comm.close()\n",
       "    };\n",
       "    ws.send = function(m) {\n",
       "        //console.log('sending', m);\n",
       "        comm.send(m);\n",
       "    };\n",
       "    // Register the callback with on_msg.\n",
       "    comm.on_msg(function(msg) {\n",
       "        //console.log('receiving', msg['content']['data'], msg);\n",
       "        // Pass the mpl event to the overridden (by mpl) onmessage function.\n",
       "        ws.onmessage(msg['content']['data'])\n",
       "    });\n",
       "    return ws;\n",
       "}\n",
       "\n",
       "mpl.mpl_figure_comm = function(comm, msg) {\n",
       "    // This is the function which gets called when the mpl process\n",
       "    // starts-up an IPython Comm through the \"matplotlib\" channel.\n",
       "\n",
       "    var id = msg.content.data.id;\n",
       "    // Get hold of the div created by the display call when the Comm\n",
       "    // socket was opened in Python.\n",
       "    var element = $(\"#\" + id);\n",
       "    var ws_proxy = comm_websocket_adapter(comm)\n",
       "\n",
       "    function ondownload(figure, format) {\n",
       "        window.open(figure.imageObj.src);\n",
       "    }\n",
       "\n",
       "    var fig = new mpl.figure(id, ws_proxy,\n",
       "                           ondownload,\n",
       "                           element.get(0));\n",
       "\n",
       "    // Call onopen now - mpl needs it, as it is assuming we've passed it a real\n",
       "    // web socket which is closed, not our websocket->open comm proxy.\n",
       "    ws_proxy.onopen();\n",
       "\n",
       "    fig.parent_element = element.get(0);\n",
       "    fig.cell_info = mpl.find_output_cell(\"<div id='\" + id + \"'></div>\");\n",
       "    if (!fig.cell_info) {\n",
       "        console.error(\"Failed to find cell for figure\", id, fig);\n",
       "        return;\n",
       "    }\n",
       "\n",
       "    var output_index = fig.cell_info[2]\n",
       "    var cell = fig.cell_info[0];\n",
       "\n",
       "};\n",
       "\n",
       "mpl.figure.prototype.handle_close = function(fig, msg) {\n",
       "    var width = fig.canvas.width/mpl.ratio\n",
       "    fig.root.unbind('remove')\n",
       "\n",
       "    // Update the output cell to use the data from the current canvas.\n",
       "    fig.push_to_output();\n",
       "    var dataURL = fig.canvas.toDataURL();\n",
       "    // Re-enable the keyboard manager in IPython - without this line, in FF,\n",
       "    // the notebook keyboard shortcuts fail.\n",
       "    IPython.keyboard_manager.enable()\n",
       "    $(fig.parent_element).html('<img src=\"' + dataURL + '\" width=\"' + width + '\">');\n",
       "    fig.close_ws(fig, msg);\n",
       "}\n",
       "\n",
       "mpl.figure.prototype.close_ws = function(fig, msg){\n",
       "    fig.send_message('closing', msg);\n",
       "    // fig.ws.close()\n",
       "}\n",
       "\n",
       "mpl.figure.prototype.push_to_output = function(remove_interactive) {\n",
       "    // Turn the data on the canvas into data in the output cell.\n",
       "    var width = this.canvas.width/mpl.ratio\n",
       "    var dataURL = this.canvas.toDataURL();\n",
       "    this.cell_info[1]['text/html'] = '<img src=\"' + dataURL + '\" width=\"' + width + '\">';\n",
       "}\n",
       "\n",
       "mpl.figure.prototype.updated_canvas_event = function() {\n",
       "    // Tell IPython that the notebook contents must change.\n",
       "    IPython.notebook.set_dirty(true);\n",
       "    this.send_message(\"ack\", {});\n",
       "    var fig = this;\n",
       "    // Wait a second, then push the new image to the DOM so\n",
       "    // that it is saved nicely (might be nice to debounce this).\n",
       "    setTimeout(function () { fig.push_to_output() }, 1000);\n",
       "}\n",
       "\n",
       "mpl.figure.prototype._init_toolbar = function() {\n",
       "    var fig = this;\n",
       "\n",
       "    var nav_element = $('<div/>');\n",
       "    nav_element.attr('style', 'width: 100%');\n",
       "    this.root.append(nav_element);\n",
       "\n",
       "    // Define a callback function for later on.\n",
       "    function toolbar_event(event) {\n",
       "        return fig.toolbar_button_onclick(event['data']);\n",
       "    }\n",
       "    function toolbar_mouse_event(event) {\n",
       "        return fig.toolbar_button_onmouseover(event['data']);\n",
       "    }\n",
       "\n",
       "    for(var toolbar_ind in mpl.toolbar_items){\n",
       "        var name = mpl.toolbar_items[toolbar_ind][0];\n",
       "        var tooltip = mpl.toolbar_items[toolbar_ind][1];\n",
       "        var image = mpl.toolbar_items[toolbar_ind][2];\n",
       "        var method_name = mpl.toolbar_items[toolbar_ind][3];\n",
       "\n",
       "        if (!name) { continue; };\n",
       "\n",
       "        var button = $('<button class=\"btn btn-default\" href=\"#\" title=\"' + name + '\"><i class=\"fa ' + image + ' fa-lg\"></i></button>');\n",
       "        button.click(method_name, toolbar_event);\n",
       "        button.mouseover(tooltip, toolbar_mouse_event);\n",
       "        nav_element.append(button);\n",
       "    }\n",
       "\n",
       "    // Add the status bar.\n",
       "    var status_bar = $('<span class=\"mpl-message\" style=\"text-align:right; float: right;\"/>');\n",
       "    nav_element.append(status_bar);\n",
       "    this.message = status_bar[0];\n",
       "\n",
       "    // Add the close button to the window.\n",
       "    var buttongrp = $('<div class=\"btn-group inline pull-right\"></div>');\n",
       "    var button = $('<button class=\"btn btn-mini btn-primary\" href=\"#\" title=\"Stop Interaction\"><i class=\"fa fa-power-off icon-remove icon-large\"></i></button>');\n",
       "    button.click(function (evt) { fig.handle_close(fig, {}); } );\n",
       "    button.mouseover('Stop Interaction', toolbar_mouse_event);\n",
       "    buttongrp.append(button);\n",
       "    var titlebar = this.root.find($('.ui-dialog-titlebar'));\n",
       "    titlebar.prepend(buttongrp);\n",
       "}\n",
       "\n",
       "mpl.figure.prototype._root_extra_style = function(el){\n",
       "    var fig = this\n",
       "    el.on(\"remove\", function(){\n",
       "\tfig.close_ws(fig, {});\n",
       "    });\n",
       "}\n",
       "\n",
       "mpl.figure.prototype._canvas_extra_style = function(el){\n",
       "    // this is important to make the div 'focusable\n",
       "    el.attr('tabindex', 0)\n",
       "    // reach out to IPython and tell the keyboard manager to turn it's self\n",
       "    // off when our div gets focus\n",
       "\n",
       "    // location in version 3\n",
       "    if (IPython.notebook.keyboard_manager) {\n",
       "        IPython.notebook.keyboard_manager.register_events(el);\n",
       "    }\n",
       "    else {\n",
       "        // location in version 2\n",
       "        IPython.keyboard_manager.register_events(el);\n",
       "    }\n",
       "\n",
       "}\n",
       "\n",
       "mpl.figure.prototype._key_event_extra = function(event, name) {\n",
       "    var manager = IPython.notebook.keyboard_manager;\n",
       "    if (!manager)\n",
       "        manager = IPython.keyboard_manager;\n",
       "\n",
       "    // Check for shift+enter\n",
       "    if (event.shiftKey && event.which == 13) {\n",
       "        this.canvas_div.blur();\n",
       "        // select the cell after this one\n",
       "        var index = IPython.notebook.find_cell_index(this.cell_info[0]);\n",
       "        IPython.notebook.select(index + 1);\n",
       "    }\n",
       "}\n",
       "\n",
       "mpl.figure.prototype.handle_save = function(fig, msg) {\n",
       "    fig.ondownload(fig, null);\n",
       "}\n",
       "\n",
       "\n",
       "mpl.find_output_cell = function(html_output) {\n",
       "    // Return the cell and output element which can be found *uniquely* in the notebook.\n",
       "    // Note - this is a bit hacky, but it is done because the \"notebook_saving.Notebook\"\n",
       "    // IPython event is triggered only after the cells have been serialised, which for\n",
       "    // our purposes (turning an active figure into a static one), is too late.\n",
       "    var cells = IPython.notebook.get_cells();\n",
       "    var ncells = cells.length;\n",
       "    for (var i=0; i<ncells; i++) {\n",
       "        var cell = cells[i];\n",
       "        if (cell.cell_type === 'code'){\n",
       "            for (var j=0; j<cell.output_area.outputs.length; j++) {\n",
       "                var data = cell.output_area.outputs[j];\n",
       "                if (data.data) {\n",
       "                    // IPython >= 3 moved mimebundle to data attribute of output\n",
       "                    data = data.data;\n",
       "                }\n",
       "                if (data['text/html'] == html_output) {\n",
       "                    return [cell, data, j];\n",
       "                }\n",
       "            }\n",
       "        }\n",
       "    }\n",
       "}\n",
       "\n",
       "// Register the function which deals with the matplotlib target/channel.\n",
       "// The kernel may be null if the page has been refreshed.\n",
       "if (IPython.notebook.kernel != null) {\n",
       "    IPython.notebook.kernel.comm_manager.register_target('matplotlib', mpl.mpl_figure_comm);\n",
       "}\n"
      ],
      "text/plain": [
       "<IPython.core.display.Javascript object>"
      ]
     },
     "metadata": {},
     "output_type": "display_data"
    },
    {
     "data": {
      "text/html": [
       "<img src=\"data:image/png;base64,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\" width=\"720\">"
      ],
      "text/plain": [
       "<IPython.core.display.HTML object>"
      ]
     },
     "metadata": {},
     "output_type": "display_data"
    }
   ],
   "source": [
    "# code credit : https://gist.github.com/aricooperdavis/c658fc1c5d9bdc5b50ec94602328073b \n",
    "\n",
    "from mpl_toolkits.mplot3d import Axes3D\n",
    "\n",
    "fig = plt.figure(figsize=(10,8))\n",
    "ax = fig.add_subplot(111, projection='3d')\n",
    "ax.scatter3D(X[:, 1], X[:, 2], y, marker='.', color='red')\n",
    "ax.set_xlabel('a')\n",
    "ax.set_ylabel('b')\n",
    "ax.set_zlabel('c')\n",
    "\n",
    "xs = np.tile(np.arange(-3, 5), (8, 1))\n",
    "ys = np.tile(np.arange(-3, 5), (8, 1)).T\n",
    "zs = xs*b[1]+ys*b[2]+b[0]\n",
    "\n",
    "ax.plot_surface(xs, ys, zs, alpha=0.5)\n",
    "\n",
    "for angle in range(0, 360):\n",
    "    ax.view_init(30, angle)\n",
    "    plt.draw()\n",
    "    plt.pause(.001)"
   ]
  },
  {
   "cell_type": "markdown",
   "metadata": {},
   "source": [
    "## Fit data ignoring outliers"
   ]
  },
  {
   "cell_type": "markdown",
   "metadata": {},
   "source": [
    "<span style = \"font-size:1.5em; line-height:1.5\">\n",
    "The range of c is from -10000 to 202. To get a better model, we'll ignore the outlier this time.\n",
    "</span>"
   ]
  },
  {
   "cell_type": "code",
   "execution_count": 49,
   "metadata": {
    "ExecuteTime": {
     "end_time": "2020-05-22T11:22:36.673685Z",
     "start_time": "2020-05-22T11:22:36.665727Z"
    }
   },
   "outputs": [
    {
     "data": {
      "text/plain": [
       "count      300.000000\n",
       "mean       -41.564919\n",
       "std        581.251021\n",
       "min     -10000.000000\n",
       "25%        -23.375000\n",
       "50%         -3.090000\n",
       "75%         16.300000\n",
       "max        202.000000\n",
       "Name: c, dtype: float64"
      ]
     },
     "execution_count": 49,
     "metadata": {},
     "output_type": "execute_result"
    }
   ],
   "source": [
    "data.c.describe()"
   ]
  },
  {
   "cell_type": "markdown",
   "metadata": {},
   "source": [
    "<span style = \"font-size:1.5em; line-height:1.5\">\n",
    "Ignore the datapoint with c=-10000.\n",
    "</span>"
   ]
  },
  {
   "cell_type": "code",
   "execution_count": 50,
   "metadata": {
    "ExecuteTime": {
     "end_time": "2020-05-22T11:23:23.881576Z",
     "start_time": "2020-05-22T11:23:23.877831Z"
    }
   },
   "outputs": [],
   "source": [
    "data1 = data.loc[data.c>-10000]"
   ]
  },
  {
   "cell_type": "markdown",
   "metadata": {},
   "source": [
    "<span style = \"font-size:1.5em; line-height:1.5\">\n",
    "The range of c has decreased to '-315~202' after removing the outlier.\n",
    "</span>"
   ]
  },
  {
   "cell_type": "code",
   "execution_count": 52,
   "metadata": {
    "ExecuteTime": {
     "end_time": "2020-05-22T11:24:25.876611Z",
     "start_time": "2020-05-22T11:24:25.868913Z"
    }
   },
   "outputs": [
    {
     "data": {
      "text/plain": [
       "count    299.000000\n",
       "mean      -8.259116\n",
       "std       71.321872\n",
       "min     -315.000000\n",
       "25%      -23.100000\n",
       "50%       -2.940000\n",
       "75%       16.300000\n",
       "max      202.000000\n",
       "Name: c, dtype: float64"
      ]
     },
     "execution_count": 52,
     "metadata": {},
     "output_type": "execute_result"
    }
   ],
   "source": [
    "data1.c.describe()"
   ]
  },
  {
   "cell_type": "code",
   "execution_count": 53,
   "metadata": {
    "ExecuteTime": {
     "end_time": "2020-05-22T11:24:27.125087Z",
     "start_time": "2020-05-22T11:24:27.120123Z"
    }
   },
   "outputs": [],
   "source": [
    "X, y = get_arrays(data1)"
   ]
  },
  {
   "cell_type": "code",
   "execution_count": 54,
   "metadata": {
    "ExecuteTime": {
     "end_time": "2020-05-22T11:24:41.810042Z",
     "start_time": "2020-05-22T11:24:41.806881Z"
    }
   },
   "outputs": [],
   "source": [
    "X = standardize(X)"
   ]
  },
  {
   "cell_type": "code",
   "execution_count": 55,
   "metadata": {
    "ExecuteTime": {
     "end_time": "2020-05-22T11:24:42.122161Z",
     "start_time": "2020-05-22T11:24:42.119265Z"
    }
   },
   "outputs": [],
   "source": [
    "X = add_ones(X)"
   ]
  },
  {
   "cell_type": "code",
   "execution_count": 56,
   "metadata": {
    "ExecuteTime": {
     "end_time": "2020-05-22T11:24:42.723099Z",
     "start_time": "2020-05-22T11:24:42.719558Z"
    }
   },
   "outputs": [],
   "source": [
    "b = get_coefficients(X, y)"
   ]
  },
  {
   "cell_type": "code",
   "execution_count": 57,
   "metadata": {
    "ExecuteTime": {
     "end_time": "2020-05-22T11:24:43.120357Z",
     "start_time": "2020-05-22T11:24:43.117518Z"
    }
   },
   "outputs": [],
   "source": [
    "y_hat = predict(X, b)"
   ]
  },
  {
   "cell_type": "code",
   "execution_count": 58,
   "metadata": {
    "ExecuteTime": {
     "end_time": "2020-05-22T11:24:43.564926Z",
     "start_time": "2020-05-22T11:24:43.560544Z"
    }
   },
   "outputs": [
    {
     "data": {
      "text/plain": [
       "3072.18"
      ]
     },
     "execution_count": 58,
     "metadata": {},
     "output_type": "execute_result"
    }
   ],
   "source": [
    "MSE2 = get_mse(y, y_hat)\n",
    "MSE2"
   ]
  },
  {
   "cell_type": "code",
   "execution_count": 60,
   "metadata": {
    "ExecuteTime": {
     "end_time": "2020-05-22T11:25:41.919666Z",
     "start_time": "2020-05-22T11:25:41.915259Z"
    }
   },
   "outputs": [
    {
     "data": {
      "text/plain": [
       "30.55"
      ]
     },
     "execution_count": 60,
     "metadata": {},
     "output_type": "execute_result"
    }
   ],
   "source": [
    "MAE2 = get_mae(y, y_hat)\n",
    "MAE2"
   ]
  },
  {
   "cell_type": "markdown",
   "metadata": {},
   "source": [
    "<span style = \"font-size:1.5em; line-height:1.5\">\n",
    "After ignoring the outlier, MSE has dramatically decreased. MAE hasn't decreased as much as MSE because MAE is more robust to outliers. However, it's clear that ignoring the outlier has improved the model judging by MSE and MAE.\n",
    "</span>"
   ]
  },
  {
   "cell_type": "code",
   "execution_count": 59,
   "metadata": {
    "ExecuteTime": {
     "end_time": "2020-05-22T11:25:25.059156Z",
     "start_time": "2020-05-22T11:25:25.055105Z"
    }
   },
   "outputs": [
    {
     "data": {
      "text/plain": [
       "(334688.27, 3072.18)"
      ]
     },
     "execution_count": 59,
     "metadata": {},
     "output_type": "execute_result"
    }
   ],
   "source": [
    "MSE1, MSE2"
   ]
  },
  {
   "cell_type": "code",
   "execution_count": 61,
   "metadata": {
    "ExecuteTime": {
     "end_time": "2020-05-22T11:25:52.896582Z",
     "start_time": "2020-05-22T11:25:52.892302Z"
    }
   },
   "outputs": [
    {
     "data": {
      "text/plain": [
       "(33.25, 30.55)"
      ]
     },
     "execution_count": 61,
     "metadata": {},
     "output_type": "execute_result"
    }
   ],
   "source": [
    "MAE1, MAE2"
   ]
  },
  {
   "cell_type": "markdown",
   "metadata": {},
   "source": [
    "## Plot regression plane without outlier"
   ]
  },
  {
   "cell_type": "markdown",
   "metadata": {},
   "source": [
    "<span style = \"font-size:1.5em; line-height:1.5\">\n",
    "After ignoring the outlier, the regression plane seems to fit relatively well to the data."
   ]
  },
  {
   "cell_type": "code",
   "execution_count": null,
   "metadata": {
    "ExecuteTime": {
     "end_time": "2020-05-22T10:48:30.706027Z",
     "start_time": "2020-05-22T10:48:26.311780Z"
    }
   },
   "outputs": [],
   "source": [
    "# code credit : https://gist.github.com/aricooperdavis/c658fc1c5d9bdc5b50ec94602328073b \n",
    "\n",
    "from mpl_toolkits.mplot3d import Axes3D\n",
    "\n",
    "fig = plt.figure(figsize=(10,8))\n",
    "ax = fig.add_subplot(111, projection='3d')\n",
    "ax.scatter3D(X[:, 1], X[:, 2], y, marker='.', color='red')\n",
    "ax.set_xlabel('a')\n",
    "ax.set_ylabel('b')\n",
    "ax.set_zlabel('c')\n",
    "\n",
    "xs = np.tile(np.arange(-3, 5), (8, 1))\n",
    "ys = np.tile(np.arange(-3, 5), (8, 1)).T\n",
    "zs = xs*b[1]+ys*b[2]+b[0]\n",
    "\n",
    "ax.plot_surface(xs, ys, zs, alpha=0.5)\n",
    "\n",
    "for angle in range(0, 360):\n",
    "    ax.view_init(30, angle)\n",
    "    plt.draw()\n",
    "    plt.pause(.001)"
   ]
  },
  {
   "cell_type": "code",
   "execution_count": null,
   "metadata": {},
   "outputs": [],
   "source": []
  }
 ],
 "metadata": {
  "kernelspec": {
   "display_name": "Python 3",
   "language": "python",
   "name": "python3"
  },
  "language_info": {
   "codemirror_mode": {
    "name": "ipython",
    "version": 3
   },
   "file_extension": ".py",
   "mimetype": "text/x-python",
   "name": "python",
   "nbconvert_exporter": "python",
   "pygments_lexer": "ipython3",
   "version": "3.7.7"
  },
  "toc": {
   "base_numbering": 1,
   "nav_menu": {},
   "number_sections": true,
   "sideBar": true,
   "skip_h1_title": false,
   "title_cell": "Table of Contents",
   "title_sidebar": "Contents",
   "toc_cell": true,
   "toc_position": {},
   "toc_section_display": true,
   "toc_window_display": false
  },
  "varInspector": {
   "cols": {
    "lenName": 16,
    "lenType": 16,
    "lenVar": 40
   },
   "kernels_config": {
    "python": {
     "delete_cmd_postfix": "",
     "delete_cmd_prefix": "del ",
     "library": "var_list.py",
     "varRefreshCmd": "print(var_dic_list())"
    },
    "r": {
     "delete_cmd_postfix": ") ",
     "delete_cmd_prefix": "rm(",
     "library": "var_list.r",
     "varRefreshCmd": "cat(var_dic_list()) "
    }
   },
   "types_to_exclude": [
    "module",
    "function",
    "builtin_function_or_method",
    "instance",
    "_Feature"
   ],
   "window_display": false
  }
 },
 "nbformat": 4,
 "nbformat_minor": 2
}
