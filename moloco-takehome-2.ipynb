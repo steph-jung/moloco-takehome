{
 "cells": [
  {
   "cell_type": "markdown",
   "metadata": {
    "toc": true
   },
   "source": [
    "<h1>Table of Contents<span class=\"tocSkip\"></span></h1>\n",
    "<div class=\"toc\"><ul class=\"toc-item\"><li><span><a href=\"#EDA\" data-toc-modified-id=\"EDA-1\"><span class=\"toc-item-num\">1&nbsp;&nbsp;</span>EDA</a></span><ul class=\"toc-item\"><li><span><a href=\"#Histogram\" data-toc-modified-id=\"Histogram-1.1\"><span class=\"toc-item-num\">1.1&nbsp;&nbsp;</span>Histogram</a></span></li><li><span><a href=\"#Scatter-plot\" data-toc-modified-id=\"Scatter-plot-1.2\"><span class=\"toc-item-num\">1.2&nbsp;&nbsp;</span>Scatter plot</a></span></li><li><span><a href=\"#Correlation\" data-toc-modified-id=\"Correlation-1.3\"><span class=\"toc-item-num\">1.3&nbsp;&nbsp;</span>Correlation</a></span></li></ul></li><li><span><a href=\"#Fit-and-predict\" data-toc-modified-id=\"Fit-and-predict-2\"><span class=\"toc-item-num\">2&nbsp;&nbsp;</span>Fit and predict</a></span><ul class=\"toc-item\"><li><span><a href=\"#Get-X,-y\" data-toc-modified-id=\"Get-X,-y-2.1\"><span class=\"toc-item-num\">2.1&nbsp;&nbsp;</span>Get X, y</a></span></li><li><span><a href=\"#Standardize-features\" data-toc-modified-id=\"Standardize-features-2.2\"><span class=\"toc-item-num\">2.2&nbsp;&nbsp;</span>Standardize features</a></span></li><li><span><a href=\"#Add-1's-to-X\" data-toc-modified-id=\"Add-1's-to-X-2.3\"><span class=\"toc-item-num\">2.3&nbsp;&nbsp;</span>Add 1's to X</a></span></li><li><span><a href=\"#Fit-data-including-outliers-using-simple-linear-regression.\" data-toc-modified-id=\"Fit-data-including-outliers-using-simple-linear-regression.-2.4\"><span class=\"toc-item-num\">2.4&nbsp;&nbsp;</span>Fit data including outliers using simple linear regression.</a></span></li><li><span><a href=\"#Plot-regression-plane\" data-toc-modified-id=\"Plot-regression-plane-2.5\"><span class=\"toc-item-num\">2.5&nbsp;&nbsp;</span>Plot regression plane</a></span></li><li><span><a href=\"#Fit-data-ignoring-outliers\" data-toc-modified-id=\"Fit-data-ignoring-outliers-2.6\"><span class=\"toc-item-num\">2.6&nbsp;&nbsp;</span>Fit data ignoring outliers</a></span></li><li><span><a href=\"#Plot-regression-plane-without-outlier\" data-toc-modified-id=\"Plot-regression-plane-without-outlier-2.7\"><span class=\"toc-item-num\">2.7&nbsp;&nbsp;</span>Plot regression plane without outlier</a></span></li></ul></li></ul></div>"
   ]
  },
  {
   "cell_type": "markdown",
   "metadata": {},
   "source": [
    "Task : Build a good regression model which explains column C by a function of  A and B."
   ]
  },
  {
   "cell_type": "markdown",
   "metadata": {},
   "source": [
    "# EDA"
   ]
  },
  {
   "cell_type": "markdown",
   "metadata": {},
   "source": [
    "First, let's take a look at data."
   ]
  },
  {
   "cell_type": "code",
   "execution_count": 1,
   "metadata": {
    "ExecuteTime": {
     "end_time": "2020-05-23T00:54:19.012013Z",
     "start_time": "2020-05-23T00:54:17.814734Z"
    }
   },
   "outputs": [],
   "source": [
    "import pandas as pd\n",
    "import numpy as np\n",
    "import matplotlib.pyplot as plt\n",
    "%matplotlib inline\n",
    "import seaborn as sns\n",
    "from mpl_toolkits.mplot3d import Axes3D"
   ]
  },
  {
   "cell_type": "code",
   "execution_count": 2,
   "metadata": {
    "ExecuteTime": {
     "end_time": "2020-05-23T00:54:19.029477Z",
     "start_time": "2020-05-23T00:54:19.024195Z"
    }
   },
   "outputs": [],
   "source": [
    "data = pd.read_csv('q2_data.csv', header=None)"
   ]
  },
  {
   "cell_type": "code",
   "execution_count": 3,
   "metadata": {
    "ExecuteTime": {
     "end_time": "2020-05-23T00:54:19.072247Z",
     "start_time": "2020-05-23T00:54:19.053850Z"
    }
   },
   "outputs": [
    {
     "data": {
      "text/html": [
       "<div>\n",
       "<style scoped>\n",
       "    .dataframe tbody tr th:only-of-type {\n",
       "        vertical-align: middle;\n",
       "    }\n",
       "\n",
       "    .dataframe tbody tr th {\n",
       "        vertical-align: top;\n",
       "    }\n",
       "\n",
       "    .dataframe thead th {\n",
       "        text-align: right;\n",
       "    }\n",
       "</style>\n",
       "<table border=\"1\" class=\"dataframe\">\n",
       "  <thead>\n",
       "    <tr style=\"text-align: right;\">\n",
       "      <th></th>\n",
       "      <th>a</th>\n",
       "      <th>b</th>\n",
       "      <th>c</th>\n",
       "    </tr>\n",
       "  </thead>\n",
       "  <tbody>\n",
       "    <tr>\n",
       "      <th>0</th>\n",
       "      <td>0.490</td>\n",
       "      <td>-0.18</td>\n",
       "      <td>11.50</td>\n",
       "    </tr>\n",
       "    <tr>\n",
       "      <th>1</th>\n",
       "      <td>-1.410</td>\n",
       "      <td>-1.23</td>\n",
       "      <td>11.80</td>\n",
       "    </tr>\n",
       "    <tr>\n",
       "      <th>2</th>\n",
       "      <td>0.943</td>\n",
       "      <td>4.51</td>\n",
       "      <td>-3.24</td>\n",
       "    </tr>\n",
       "    <tr>\n",
       "      <th>3</th>\n",
       "      <td>3.570</td>\n",
       "      <td>5.07</td>\n",
       "      <td>-23.90</td>\n",
       "    </tr>\n",
       "    <tr>\n",
       "      <th>4</th>\n",
       "      <td>-1.700</td>\n",
       "      <td>6.91</td>\n",
       "      <td>-22.10</td>\n",
       "    </tr>\n",
       "  </tbody>\n",
       "</table>\n",
       "</div>"
      ],
      "text/plain": [
       "       a     b      c\n",
       "0  0.490 -0.18  11.50\n",
       "1 -1.410 -1.23  11.80\n",
       "2  0.943  4.51  -3.24\n",
       "3  3.570  5.07 -23.90\n",
       "4 -1.700  6.91 -22.10"
      ]
     },
     "execution_count": 3,
     "metadata": {},
     "output_type": "execute_result"
    }
   ],
   "source": [
    "data.columns = ['a', 'b', 'c']\n",
    "data.head()"
   ]
  },
  {
   "cell_type": "markdown",
   "metadata": {},
   "source": [
    "'a' and 'b' have quite different ranges, so it's better to standardize them before fitting to a regression model."
   ]
  },
  {
   "cell_type": "code",
   "execution_count": 4,
   "metadata": {
    "ExecuteTime": {
     "end_time": "2020-05-23T00:54:19.109754Z",
     "start_time": "2020-05-23T00:54:19.094503Z"
    }
   },
   "outputs": [
    {
     "data": {
      "text/html": [
       "<div>\n",
       "<style scoped>\n",
       "    .dataframe tbody tr th:only-of-type {\n",
       "        vertical-align: middle;\n",
       "    }\n",
       "\n",
       "    .dataframe tbody tr th {\n",
       "        vertical-align: top;\n",
       "    }\n",
       "\n",
       "    .dataframe thead th {\n",
       "        text-align: right;\n",
       "    }\n",
       "</style>\n",
       "<table border=\"1\" class=\"dataframe\">\n",
       "  <thead>\n",
       "    <tr style=\"text-align: right;\">\n",
       "      <th></th>\n",
       "      <th>a</th>\n",
       "      <th>b</th>\n",
       "      <th>c</th>\n",
       "    </tr>\n",
       "  </thead>\n",
       "  <tbody>\n",
       "    <tr>\n",
       "      <th>count</th>\n",
       "      <td>300.000000</td>\n",
       "      <td>300.000000</td>\n",
       "      <td>300.000000</td>\n",
       "    </tr>\n",
       "    <tr>\n",
       "      <th>mean</th>\n",
       "      <td>2.317009</td>\n",
       "      <td>2.013115</td>\n",
       "      <td>-41.564919</td>\n",
       "    </tr>\n",
       "    <tr>\n",
       "      <th>std</th>\n",
       "      <td>5.695248</td>\n",
       "      <td>2.998680</td>\n",
       "      <td>581.251021</td>\n",
       "    </tr>\n",
       "    <tr>\n",
       "      <th>min</th>\n",
       "      <td>-8.860000</td>\n",
       "      <td>-2.890000</td>\n",
       "      <td>-10000.000000</td>\n",
       "    </tr>\n",
       "    <tr>\n",
       "      <th>25%</th>\n",
       "      <td>-1.940000</td>\n",
       "      <td>-0.606250</td>\n",
       "      <td>-23.375000</td>\n",
       "    </tr>\n",
       "    <tr>\n",
       "      <th>50%</th>\n",
       "      <td>0.468500</td>\n",
       "      <td>1.935000</td>\n",
       "      <td>-3.090000</td>\n",
       "    </tr>\n",
       "    <tr>\n",
       "      <th>75%</th>\n",
       "      <td>7.042500</td>\n",
       "      <td>4.697500</td>\n",
       "      <td>16.300000</td>\n",
       "    </tr>\n",
       "    <tr>\n",
       "      <th>max</th>\n",
       "      <td>20.600000</td>\n",
       "      <td>7.000000</td>\n",
       "      <td>202.000000</td>\n",
       "    </tr>\n",
       "  </tbody>\n",
       "</table>\n",
       "</div>"
      ],
      "text/plain": [
       "                a           b             c\n",
       "count  300.000000  300.000000    300.000000\n",
       "mean     2.317009    2.013115    -41.564919\n",
       "std      5.695248    2.998680    581.251021\n",
       "min     -8.860000   -2.890000 -10000.000000\n",
       "25%     -1.940000   -0.606250    -23.375000\n",
       "50%      0.468500    1.935000     -3.090000\n",
       "75%      7.042500    4.697500     16.300000\n",
       "max     20.600000    7.000000    202.000000"
      ]
     },
     "execution_count": 4,
     "metadata": {},
     "output_type": "execute_result"
    }
   ],
   "source": [
    "data.describe()"
   ]
  },
  {
   "cell_type": "markdown",
   "metadata": {},
   "source": [
    "## Histogram"
   ]
  },
  {
   "cell_type": "code",
   "execution_count": 5,
   "metadata": {
    "ExecuteTime": {
     "end_time": "2020-05-23T00:54:19.309129Z",
     "start_time": "2020-05-23T00:54:19.125988Z"
    }
   },
   "outputs": [
    {
     "data": {
      "text/plain": [
       "<matplotlib.axes._subplots.AxesSubplot at 0x11d8c5370>"
      ]
     },
     "execution_count": 5,
     "metadata": {},
     "output_type": "execute_result"
    },
    {
     "data": {
      "image/png": "[encoded data removed]",
      "text/plain": [
       "<Figure size 432x288 with 1 Axes>"
      ]
     },
     "metadata": {
      "needs_background": "light"
     },
     "output_type": "display_data"
    }
   ],
   "source": [
    "data['a'].hist()"
   ]
  },
  {
   "cell_type": "markdown",
   "metadata": {},
   "source": [
    "The distribution of 'b' seems like a uniform distribution. It'd be better to check the correlation between b and c"
   ]
  },
  {
   "cell_type": "code",
   "execution_count": 6,
   "metadata": {
    "ExecuteTime": {
     "end_time": "2020-05-23T00:54:19.584082Z",
     "start_time": "2020-05-23T00:54:19.443839Z"
    }
   },
   "outputs": [
    {
     "data": {
      "text/plain": [
       "<matplotlib.axes._subplots.AxesSubplot at 0x11fa13100>"
      ]
     },
     "execution_count": 6,
     "metadata": {},
     "output_type": "execute_result"
    },
    {
     "data": {
      "image/png": "[encoded data removed]",
      "text/plain": [
       "<Figure size 432x288 with 1 Axes>"
      ]
     },
     "metadata": {
      "needs_background": "light"
     },
     "output_type": "display_data"
    }
   ],
   "source": [
    "data['b'].hist()"
   ]
  },
  {
   "cell_type": "markdown",
   "metadata": {},
   "source": [
    "There seem to exist an outlier in the histogram and scatter plot."
   ]
  },
  {
   "cell_type": "code",
   "execution_count": 7,
   "metadata": {
    "ExecuteTime": {
     "end_time": "2020-05-23T00:54:20.006965Z",
     "start_time": "2020-05-23T00:54:19.865845Z"
    }
   },
   "outputs": [
    {
     "data": {
      "text/plain": [
       "<matplotlib.axes._subplots.AxesSubplot at 0x11fac9160>"
      ]
     },
     "execution_count": 7,
     "metadata": {},
     "output_type": "execute_result"
    },
    {
     "data": {
      "image/png": "[encoded data removed]",
      "text/plain": [
       "<Figure size 432x288 with 1 Axes>"
      ]
     },
     "metadata": {
      "needs_background": "light"
     },
     "output_type": "display_data"
    }
   ],
   "source": [
    "data['c'].hist()"
   ]
  },
  {
   "cell_type": "markdown",
   "metadata": {},
   "source": [
    "## Scatter plot"
   ]
  },
  {
   "cell_type": "code",
   "execution_count": 8,
   "metadata": {
    "ExecuteTime": {
     "end_time": "2020-05-23T00:54:20.273197Z",
     "start_time": "2020-05-23T00:54:20.269161Z"
    }
   },
   "outputs": [],
   "source": [
    "def plot_scatter(data, col_x, col_y):\n",
    "    \"\"\"\n",
    "    Display a scatter plot between col_x and col_y.\n",
    "    \"\"\"\n",
    "    plt.figure(figsize=(10, 8))\n",
    "    plt.plot(data[col_x], data[col_y], '.', color='red')\n",
    "    plt.xlabel(f'{col_x}')\n",
    "    plt.ylabel(f'{col_y}')"
   ]
  },
  {
   "cell_type": "markdown",
   "metadata": {},
   "source": [
    "Due to the outlier, it's hard to detect meaningful relationship between a and c or b and c."
   ]
  },
  {
   "cell_type": "code",
   "execution_count": 9,
   "metadata": {
    "ExecuteTime": {
     "end_time": "2020-05-23T00:54:20.872765Z",
     "start_time": "2020-05-23T00:54:20.727071Z"
    }
   },
   "outputs": [
    {
     "data": {
      "image/png": "[encoded data removed]",
      "text/plain": [
       "<Figure size 720x576 with 1 Axes>"
      ]
     },
     "metadata": {
      "needs_background": "light"
     },
     "output_type": "display_data"
    }
   ],
   "source": [
    "plot_scatter(data, 'a', 'c')"
   ]
  },
  {
   "cell_type": "code",
   "execution_count": 10,
   "metadata": {
    "ExecuteTime": {
     "end_time": "2020-05-23T00:54:21.118682Z",
     "start_time": "2020-05-23T00:54:20.974914Z"
    }
   },
   "outputs": [
    {
     "data": {
      "image/png": "[encoded data removed]",
      "text/plain": [
       "<Figure size 720x576 with 1 Axes>"
      ]
     },
     "metadata": {
      "needs_background": "light"
     },
     "output_type": "display_data"
    }
   ],
   "source": [
    "plot_scatter(data, 'b', 'c')"
   ]
  },
  {
   "cell_type": "markdown",
   "metadata": {},
   "source": [
    "## Correlation"
   ]
  },
  {
   "cell_type": "markdown",
   "metadata": {},
   "source": [
    "The correlation between a and c or b and c is almost 0."
   ]
  },
  {
   "cell_type": "code",
   "execution_count": 11,
   "metadata": {
    "ExecuteTime": {
     "end_time": "2020-05-23T00:54:21.879430Z",
     "start_time": "2020-05-23T00:54:21.870862Z"
    }
   },
   "outputs": [
    {
     "data": {
      "text/html": [
       "<div>\n",
       "<style scoped>\n",
       "    .dataframe tbody tr th:only-of-type {\n",
       "        vertical-align: middle;\n",
       "    }\n",
       "\n",
       "    .dataframe tbody tr th {\n",
       "        vertical-align: top;\n",
       "    }\n",
       "\n",
       "    .dataframe thead th {\n",
       "        text-align: right;\n",
       "    }\n",
       "</style>\n",
       "<table border=\"1\" class=\"dataframe\">\n",
       "  <thead>\n",
       "    <tr style=\"text-align: right;\">\n",
       "      <th></th>\n",
       "      <th>a</th>\n",
       "      <th>b</th>\n",
       "      <th>c</th>\n",
       "    </tr>\n",
       "  </thead>\n",
       "  <tbody>\n",
       "    <tr>\n",
       "      <th>a</th>\n",
       "      <td>1.000000</td>\n",
       "      <td>-0.192345</td>\n",
       "      <td>-0.077280</td>\n",
       "    </tr>\n",
       "    <tr>\n",
       "      <th>b</th>\n",
       "      <td>-0.192345</td>\n",
       "      <td>1.000000</td>\n",
       "      <td>0.006031</td>\n",
       "    </tr>\n",
       "    <tr>\n",
       "      <th>c</th>\n",
       "      <td>-0.077280</td>\n",
       "      <td>0.006031</td>\n",
       "      <td>1.000000</td>\n",
       "    </tr>\n",
       "  </tbody>\n",
       "</table>\n",
       "</div>"
      ],
      "text/plain": [
       "          a         b         c\n",
       "a  1.000000 -0.192345 -0.077280\n",
       "b -0.192345  1.000000  0.006031\n",
       "c -0.077280  0.006031  1.000000"
      ]
     },
     "execution_count": 11,
     "metadata": {},
     "output_type": "execute_result"
    }
   ],
   "source": [
    "data.corr()"
   ]
  },
  {
   "cell_type": "markdown",
   "metadata": {},
   "source": [
    "We'll add a column of random variables to compare the correlations."
   ]
  },
  {
   "cell_type": "code",
   "execution_count": 12,
   "metadata": {
    "ExecuteTime": {
     "end_time": "2020-05-23T00:54:22.657145Z",
     "start_time": "2020-05-23T00:54:22.653482Z"
    }
   },
   "outputs": [],
   "source": [
    "data['rand'] = np.random.random(300)"
   ]
  },
  {
   "cell_type": "markdown",
   "metadata": {
    "ExecuteTime": {
     "end_time": "2020-05-23T00:45:28.521526Z",
     "start_time": "2020-05-23T00:45:28.517564Z"
    }
   },
   "source": [
    "The correlation between 'rand' variables and c is 0.07. This is even stronger than the correlation between b and c which is 0.006. The correlation between a and c is not much stronger, -0.077. It seems like b is even less predictable than some random values and a is not much more useful than the random values either."
   ]
  },
  {
   "cell_type": "code",
   "execution_count": 13,
   "metadata": {
    "ExecuteTime": {
     "end_time": "2020-05-23T00:54:23.451368Z",
     "start_time": "2020-05-23T00:54:23.441633Z"
    }
   },
   "outputs": [
    {
     "data": {
      "text/html": [
       "<div>\n",
       "<style scoped>\n",
       "    .dataframe tbody tr th:only-of-type {\n",
       "        vertical-align: middle;\n",
       "    }\n",
       "\n",
       "    .dataframe tbody tr th {\n",
       "        vertical-align: top;\n",
       "    }\n",
       "\n",
       "    .dataframe thead th {\n",
       "        text-align: right;\n",
       "    }\n",
       "</style>\n",
       "<table border=\"1\" class=\"dataframe\">\n",
       "  <thead>\n",
       "    <tr style=\"text-align: right;\">\n",
       "      <th></th>\n",
       "      <th>a</th>\n",
       "      <th>b</th>\n",
       "      <th>c</th>\n",
       "      <th>rand</th>\n",
       "    </tr>\n",
       "  </thead>\n",
       "  <tbody>\n",
       "    <tr>\n",
       "      <th>a</th>\n",
       "      <td>1.000000</td>\n",
       "      <td>-0.192345</td>\n",
       "      <td>-0.077280</td>\n",
       "      <td>-0.087397</td>\n",
       "    </tr>\n",
       "    <tr>\n",
       "      <th>b</th>\n",
       "      <td>-0.192345</td>\n",
       "      <td>1.000000</td>\n",
       "      <td>0.006031</td>\n",
       "      <td>-0.055342</td>\n",
       "    </tr>\n",
       "    <tr>\n",
       "      <th>c</th>\n",
       "      <td>-0.077280</td>\n",
       "      <td>0.006031</td>\n",
       "      <td>1.000000</td>\n",
       "      <td>-0.065836</td>\n",
       "    </tr>\n",
       "    <tr>\n",
       "      <th>rand</th>\n",
       "      <td>-0.087397</td>\n",
       "      <td>-0.055342</td>\n",
       "      <td>-0.065836</td>\n",
       "      <td>1.000000</td>\n",
       "    </tr>\n",
       "  </tbody>\n",
       "</table>\n",
       "</div>"
      ],
      "text/plain": [
       "             a         b         c      rand\n",
       "a     1.000000 -0.192345 -0.077280 -0.087397\n",
       "b    -0.192345  1.000000  0.006031 -0.055342\n",
       "c    -0.077280  0.006031  1.000000 -0.065836\n",
       "rand -0.087397 -0.055342 -0.065836  1.000000"
      ]
     },
     "execution_count": 13,
     "metadata": {},
     "output_type": "execute_result"
    }
   ],
   "source": [
    "data.corr()"
   ]
  },
  {
   "cell_type": "markdown",
   "metadata": {},
   "source": [
    "# Fit and predict"
   ]
  },
  {
   "cell_type": "markdown",
   "metadata": {},
   "source": [
    "## Get X, y"
   ]
  },
  {
   "cell_type": "markdown",
   "metadata": {},
   "source": [
    "Make arrays of features and target for computation."
   ]
  },
  {
   "cell_type": "code",
   "execution_count": 14,
   "metadata": {
    "ExecuteTime": {
     "end_time": "2020-05-23T00:54:25.314867Z",
     "start_time": "2020-05-23T00:54:25.311130Z"
    }
   },
   "outputs": [],
   "source": [
    "def get_arrays(data):\n",
    "    \"\"\"\n",
    "    Make arrays of features and target for computation.\n",
    "    \"\"\"\n",
    "    X = np.array(data[['a', 'b']])\n",
    "    y = np.array(data[['c']])\n",
    "    return X, y"
   ]
  },
  {
   "cell_type": "code",
   "execution_count": 15,
   "metadata": {
    "ExecuteTime": {
     "end_time": "2020-05-23T00:54:25.928099Z",
     "start_time": "2020-05-23T00:54:25.923836Z"
    }
   },
   "outputs": [],
   "source": [
    "X, y = get_arrays(data)"
   ]
  },
  {
   "cell_type": "markdown",
   "metadata": {},
   "source": [
    "## Standardize features"
   ]
  },
  {
   "cell_type": "markdown",
   "metadata": {},
   "source": [
    "Standardize features to get better prediction. Since 'a' and 'b' have pretty different scales, it's better to standardize them before fitting into regression model."
   ]
  },
  {
   "cell_type": "code",
   "execution_count": 16,
   "metadata": {
    "ExecuteTime": {
     "end_time": "2020-05-23T00:54:27.732805Z",
     "start_time": "2020-05-23T00:54:27.729677Z"
    }
   },
   "outputs": [],
   "source": [
    "def standardize(x):\n",
    "    \"\"\"\n",
    "    Standardize x so that x lies between 0 and 1.\n",
    "    \"\"\"\n",
    "    x = (x - np.mean(x))/np.std(x)\n",
    "    return x"
   ]
  },
  {
   "cell_type": "code",
   "execution_count": 17,
   "metadata": {
    "ExecuteTime": {
     "end_time": "2020-05-23T00:54:28.013035Z",
     "start_time": "2020-05-23T00:54:28.010180Z"
    }
   },
   "outputs": [],
   "source": [
    "X = standardize(X)"
   ]
  },
  {
   "cell_type": "markdown",
   "metadata": {},
   "source": [
    "## Add 1's to X"
   ]
  },
  {
   "cell_type": "markdown",
   "metadata": {},
   "source": [
    "Add a column of 1's to X for computing intercept."
   ]
  },
  {
   "cell_type": "code",
   "execution_count": 18,
   "metadata": {
    "ExecuteTime": {
     "end_time": "2020-05-23T00:54:28.922435Z",
     "start_time": "2020-05-23T00:54:28.918877Z"
    }
   },
   "outputs": [],
   "source": [
    "def add_ones(X):\n",
    "    \"\"\"\n",
    "    Add a column of 1's to X so that it adds a column of intercept to b later.\n",
    "    \"\"\"\n",
    "    ones = np.ones((len(X), 1))\n",
    "    X = np.c_[ones, X]\n",
    "    return X"
   ]
  },
  {
   "cell_type": "code",
   "execution_count": 19,
   "metadata": {
    "ExecuteTime": {
     "end_time": "2020-05-23T00:54:29.226486Z",
     "start_time": "2020-05-23T00:54:29.223760Z"
    }
   },
   "outputs": [],
   "source": [
    "X = add_ones(X)"
   ]
  },
  {
   "cell_type": "markdown",
   "metadata": {},
   "source": [
    "## Fit data including outliers using simple linear regression."
   ]
  },
  {
   "cell_type": "markdown",
   "metadata": {
    "ExecuteTime": {
     "end_time": "2020-05-22T11:11:37.097539Z",
     "start_time": "2020-05-22T11:11:37.093601Z"
    }
   },
   "source": [
    "This time, we'll fit data including the outlier, and we'll use a simple linear regression model."
   ]
  },
  {
   "cell_type": "code",
   "execution_count": 20,
   "metadata": {
    "ExecuteTime": {
     "end_time": "2020-05-23T00:54:29.986464Z",
     "start_time": "2020-05-23T00:54:29.983026Z"
    }
   },
   "outputs": [],
   "source": [
    "def get_coefficients(X, y):\n",
    "    \"\"\"\n",
    "    Calculates coefficients 'b' minimizing ordinary least squares of the errors.\n",
    "    This b contains intercepts in the first column.\n",
    "    \"\"\"\n",
    "    b = np.linalg.inv(X.T@X)@X.T@y\n",
    "    return b"
   ]
  },
  {
   "cell_type": "code",
   "execution_count": 21,
   "metadata": {
    "ExecuteTime": {
     "end_time": "2020-05-23T00:54:30.210893Z",
     "start_time": "2020-05-23T00:54:30.207832Z"
    }
   },
   "outputs": [],
   "source": [
    "b = get_coefficients(X, y)"
   ]
  },
  {
   "cell_type": "code",
   "execution_count": 22,
   "metadata": {
    "ExecuteTime": {
     "end_time": "2020-05-23T00:54:31.028454Z",
     "start_time": "2020-05-23T00:54:31.025808Z"
    }
   },
   "outputs": [],
   "source": [
    "def predict(X, b):\n",
    "    \"\"\"\n",
    "    Calculates predicted y's.\n",
    "    \"\"\"\n",
    "    return X@b"
   ]
  },
  {
   "cell_type": "code",
   "execution_count": 23,
   "metadata": {
    "ExecuteTime": {
     "end_time": "2020-05-23T00:54:31.564509Z",
     "start_time": "2020-05-23T00:54:31.561909Z"
    }
   },
   "outputs": [],
   "source": [
    "y_hat = predict(X, b)"
   ]
  },
  {
   "cell_type": "code",
   "execution_count": 24,
   "metadata": {
    "ExecuteTime": {
     "end_time": "2020-05-23T00:54:33.405645Z",
     "start_time": "2020-05-23T00:54:33.402555Z"
    }
   },
   "outputs": [],
   "source": [
    "def get_mse(y, y_hat):\n",
    "    \"\"\"\n",
    "    Calculates mean squared errors.\n",
    "    \"\"\"\n",
    "    mse = np.mean((np.array(y - y_hat))**2)\n",
    "    return np.round(mse, 2)"
   ]
  },
  {
   "cell_type": "code",
   "execution_count": 25,
   "metadata": {
    "ExecuteTime": {
     "end_time": "2020-05-23T00:54:33.948165Z",
     "start_time": "2020-05-23T00:54:33.944931Z"
    }
   },
   "outputs": [],
   "source": [
    "def get_mae(y, y_hat):\n",
    "    \"\"\"\n",
    "    Calculates median absolute errors.\n",
    "    \"\"\"\n",
    "    mae = np.median(np.abs(np.array(y - y_hat)))\n",
    "    return np.round(mae, 2)"
   ]
  },
  {
   "cell_type": "markdown",
   "metadata": {},
   "source": [
    "The mean squared error of this model is extremely high. It's because of the outlier."
   ]
  },
  {
   "cell_type": "code",
   "execution_count": 26,
   "metadata": {
    "ExecuteTime": {
     "end_time": "2020-05-23T00:54:34.677206Z",
     "start_time": "2020-05-23T00:54:34.673074Z"
    }
   },
   "outputs": [
    {
     "data": {
      "text/plain": [
       "334688.27"
      ]
     },
     "execution_count": 26,
     "metadata": {},
     "output_type": "execute_result"
    }
   ],
   "source": [
    "MSE1 = get_mse(y, y_hat)\n",
    "MSE1"
   ]
  },
  {
   "cell_type": "markdown",
   "metadata": {},
   "source": [
    "The median absolute error of this model is 33. This means that the difference between true c's and predicted c's are roughly 33."
   ]
  },
  {
   "cell_type": "code",
   "execution_count": 27,
   "metadata": {
    "ExecuteTime": {
     "end_time": "2020-05-23T00:54:35.223478Z",
     "start_time": "2020-05-23T00:54:35.218808Z"
    }
   },
   "outputs": [
    {
     "data": {
      "text/plain": [
       "33.25"
      ]
     },
     "execution_count": 27,
     "metadata": {},
     "output_type": "execute_result"
    }
   ],
   "source": [
    "MAE1 = get_mae(y, y_hat)\n",
    "MAE1"
   ]
  },
  {
   "cell_type": "markdown",
   "metadata": {},
   "source": [
    "## Plot regression plane"
   ]
  },
  {
   "cell_type": "markdown",
   "metadata": {},
   "source": [
    "This is the data in 3D plot and you can play around with different angles on jupyter notebook. (It doesn't work on github. For some reason the plot doesn't show, run the code again.)  \n",
    "\n",
    "Because of the outlier, it's pretty hard to tell if the regression plane fits well to the data."
   ]
  },
  {
   "cell_type": "code",
   "execution_count": 34,
   "metadata": {
    "ExecuteTime": {
     "end_time": "2020-05-23T00:58:32.019210Z",
     "start_time": "2020-05-23T00:58:32.008342Z"
    }
   },
   "outputs": [],
   "source": [
    "def plot_3d(X, y, b):\n",
    "    \"\"\"\n",
    "    Displays 3d plot and a regression plane.\n",
    "    * code credit : https://gist.github.com/aricooperdavis/c658fc1c5d9bdc5b50ec94602328073b \n",
    "    \"\"\"\n",
    "    %matplotlib notebook\n",
    "    \n",
    "    fig = plt.figure(figsize=(10,8))\n",
    "    ax = fig.add_subplot(111, projection='3d')\n",
    "    ax.scatter3D(X[:, 1], X[:, 2], y, marker='.', color='red')\n",
    "    ax.set_xlabel('a')\n",
    "    ax.set_ylabel('b')\n",
    "    ax.set_zlabel('c')\n",
    "\n",
    "    xs = np.tile(np.arange(-3, 5), (8, 1))\n",
    "    ys = np.tile(np.arange(-3, 5), (8, 1)).T\n",
    "    zs = xs*b[1]+ys*b[2]+b[0]\n",
    "\n",
    "    ax.plot_surface(xs, ys, zs, alpha=0.5)\n",
    "\n",
    "    for angle in range(0, 360):\n",
    "        ax.view_init(30, angle)\n",
    "        plt.draw()\n",
    "        plt.pause(.001)"
   ]
  },
  {
   "cell_type": "code",
   "execution_count": 35,
   "metadata": {
    "ExecuteTime": {
     "end_time": "2020-05-23T00:58:48.194366Z",
     "start_time": "2020-05-23T00:58:43.494009Z"
    },
    "scrolled": false
   },
   "outputs": [
    {
     "data": {
      "application/javascript": [
       "/* Put everything inside the global mpl namespace */\n",
       "window.mpl = {};\n",
       "\n",
       "\n",
       "mpl.get_websocket_type = function() {\n",
       "    if (typeof(WebSocket) !== 'undefined') {\n",
       "        return WebSocket;\n",
       "    } else if (typeof(MozWebSocket) !== 'undefined') {\n",
       "        return MozWebSocket;\n",
       "    } else {\n",
       "        alert('Your browser does not have WebSocket support. ' +\n",
       "              'Please try Chrome, Safari or Firefox ≥ 6. ' +\n",
       "              'Firefox 4 and 5 are also supported but you ' +\n",
       "              'have to enable WebSockets in about:config.');\n",
       "    };\n",
       "}\n",
       "\n",
       "mpl.figure = function(figure_id, websocket, ondownload, parent_element) {\n",
       "    this.id = figure_id;\n",
       "\n",
       "    this.ws = websocket;\n",
       "\n",
       "    this.supports_binary = (this.ws.binaryType != undefined);\n",
       "\n",
       "    if (!this.supports_binary) {\n",
       "        var warnings = document.getElementById(\"mpl-warnings\");\n",
       "        if (warnings) {\n",
       "            warnings.style.display = 'block';\n",
       "            warnings.textContent = (\n",
       "                \"This browser does not support binary websocket messages. \" +\n",
       "                    \"Performance may be slow.\");\n",
       "        }\n",
       "    }\n",
       "\n",
       "    this.imageObj = new Image();\n",
       "\n",
       "    this.context = undefined;\n",
       "    this.message = undefined;\n",
       "    this.canvas = undefined;\n",
       "    this.rubberband_canvas = undefined;\n",
       "    this.rubberband_context = undefined;\n",
       "    this.format_dropdown = undefined;\n",
       "\n",
       "    this.image_mode = 'full';\n",
       "\n",
       "    this.root = $('<div/>');\n",
       "    this._root_extra_style(this.root)\n",
       "    this.root.attr('style', 'display: inline-block');\n",
       "\n",
       "    $(parent_element).append(this.root);\n",
       "\n",
       "    this._init_header(this);\n",
       "    this._init_canvas(this);\n",
       "    this._init_toolbar(this);\n",
       "\n",
       "    var fig = this;\n",
       "\n",
       "    this.waiting = false;\n",
       "\n",
       "    this.ws.onopen =  function () {\n",
       "            fig.send_message(\"supports_binary\", {value: fig.supports_binary});\n",
       "            fig.send_message(\"send_image_mode\", {});\n",
       "            if (mpl.ratio != 1) {\n",
       "                fig.send_message(\"set_dpi_ratio\", {'dpi_ratio': mpl.ratio});\n",
       "            }\n",
       "            fig.send_message(\"refresh\", {});\n",
       "        }\n",
       "\n",
       "    this.imageObj.onload = function() {\n",
       "            if (fig.image_mode == 'full') {\n",
       "                // Full images could contain transparency (where diff images\n",
       "                // almost always do), so we need to clear the canvas so that\n",
       "                // there is no ghosting.\n",
       "                fig.context.clearRect(0, 0, fig.canvas.width, fig.canvas.height);\n",
       "            }\n",
       "            fig.context.drawImage(fig.imageObj, 0, 0);\n",
       "        };\n",
       "\n",
       "    this.imageObj.onunload = function() {\n",
       "        fig.ws.close();\n",
       "    }\n",
       "\n",
       "    this.ws.onmessage = this._make_on_message_function(this);\n",
       "\n",
       "    this.ondownload = ondownload;\n",
       "}\n",
       "\n",
       "mpl.figure.prototype._init_header = function() {\n",
       "    var titlebar = $(\n",
       "        '<div class=\"ui-dialog-titlebar ui-widget-header ui-corner-all ' +\n",
       "        'ui-helper-clearfix\"/>');\n",
       "    var titletext = $(\n",
       "        '<div class=\"ui-dialog-title\" style=\"width: 100%; ' +\n",
       "        'text-align: center; padding: 3px;\"/>');\n",
       "    titlebar.append(titletext)\n",
       "    this.root.append(titlebar);\n",
       "    this.header = titletext[0];\n",
       "}\n",
       "\n",
       "\n",
       "\n",
       "mpl.figure.prototype._canvas_extra_style = function(canvas_div) {\n",
       "\n",
       "}\n",
       "\n",
       "\n",
       "mpl.figure.prototype._root_extra_style = function(canvas_div) {\n",
       "\n",
       "}\n",
       "\n",
       "mpl.figure.prototype._init_canvas = function() {\n",
       "    var fig = this;\n",
       "\n",
       "    var canvas_div = $('<div/>');\n",
       "\n",
       "    canvas_div.attr('style', 'position: relative; clear: both; outline: 0');\n",
       "\n",
       "    function canvas_keyboard_event(event) {\n",
       "        return fig.key_event(event, event['data']);\n",
       "    }\n",
       "\n",
       "    canvas_div.keydown('key_press', canvas_keyboard_event);\n",
       "    canvas_div.keyup('key_release', canvas_keyboard_event);\n",
       "    this.canvas_div = canvas_div\n",
       "    this._canvas_extra_style(canvas_div)\n",
       "    this.root.append(canvas_div);\n",
       "\n",
       "    var canvas = $('<canvas/>');\n",
       "    canvas.addClass('mpl-canvas');\n",
       "    canvas.attr('style', \"left: 0; top: 0; z-index: 0; outline: 0\")\n",
       "\n",
       "    this.canvas = canvas[0];\n",
       "    this.context = canvas[0].getContext(\"2d\");\n",
       "\n",
       "    var backingStore = this.context.backingStorePixelRatio ||\n",
       "\tthis.context.webkitBackingStorePixelRatio ||\n",
       "\tthis.context.mozBackingStorePixelRatio ||\n",
       "\tthis.context.msBackingStorePixelRatio ||\n",
       "\tthis.context.oBackingStorePixelRatio ||\n",
       "\tthis.context.backingStorePixelRatio || 1;\n",
       "\n",
       "    mpl.ratio = (window.devicePixelRatio || 1) / backingStore;\n",
       "\n",
       "    var rubberband = $('<canvas/>');\n",
       "    rubberband.attr('style', \"position: absolute; left: 0; top: 0; z-index: 1;\")\n",
       "\n",
       "    var pass_mouse_events = true;\n",
       "\n",
       "    canvas_div.resizable({\n",
       "        start: function(event, ui) {\n",
       "            pass_mouse_events = false;\n",
       "        },\n",
       "        resize: function(event, ui) {\n",
       "            fig.request_resize(ui.size.width, ui.size.height);\n",
       "        },\n",
       "        stop: function(event, ui) {\n",
       "            pass_mouse_events = true;\n",
       "            fig.request_resize(ui.size.width, ui.size.height);\n",
       "        },\n",
       "    });\n",
       "\n",
       "    function mouse_event_fn(event) {\n",
       "        if (pass_mouse_events)\n",
       "            return fig.mouse_event(event, event['data']);\n",
       "    }\n",
       "\n",
       "    rubberband.mousedown('button_press', mouse_event_fn);\n",
       "    rubberband.mouseup('button_release', mouse_event_fn);\n",
       "    // Throttle sequential mouse events to 1 every 20ms.\n",
       "    rubberband.mousemove('motion_notify', mouse_event_fn);\n",
       "\n",
       "    rubberband.mouseenter('figure_enter', mouse_event_fn);\n",
       "    rubberband.mouseleave('figure_leave', mouse_event_fn);\n",
       "\n",
       "    canvas_div.on(\"wheel\", function (event) {\n",
       "        event = event.originalEvent;\n",
       "        event['data'] = 'scroll'\n",
       "        if (event.deltaY < 0) {\n",
       "            event.step = 1;\n",
       "        } else {\n",
       "            event.step = -1;\n",
       "        }\n",
       "        mouse_event_fn(event);\n",
       "    });\n",
       "\n",
       "    canvas_div.append(canvas);\n",
       "    canvas_div.append(rubberband);\n",
       "\n",
       "    this.rubberband = rubberband;\n",
       "    this.rubberband_canvas = rubberband[0];\n",
       "    this.rubberband_context = rubberband[0].getContext(\"2d\");\n",
       "    this.rubberband_context.strokeStyle = \"#000000\";\n",
       "\n",
       "    this._resize_canvas = function(width, height) {\n",
       "        // Keep the size of the canvas, canvas container, and rubber band\n",
       "        // canvas in synch.\n",
       "        canvas_div.css('width', width)\n",
       "        canvas_div.css('height', height)\n",
       "\n",
       "        canvas.attr('width', width * mpl.ratio);\n",
       "        canvas.attr('height', height * mpl.ratio);\n",
       "        canvas.attr('style', 'width: ' + width + 'px; height: ' + height + 'px;');\n",
       "\n",
       "        rubberband.attr('width', width);\n",
       "        rubberband.attr('height', height);\n",
       "    }\n",
       "\n",
       "    // Set the figure to an initial 600x600px, this will subsequently be updated\n",
       "    // upon first draw.\n",
       "    this._resize_canvas(600, 600);\n",
       "\n",
       "    // Disable right mouse context menu.\n",
       "    $(this.rubberband_canvas).bind(\"contextmenu\",function(e){\n",
       "        return false;\n",
       "    });\n",
       "\n",
       "    function set_focus () {\n",
       "        canvas.focus();\n",
       "        canvas_div.focus();\n",
       "    }\n",
       "\n",
       "    window.setTimeout(set_focus, 100);\n",
       "}\n",
       "\n",
       "mpl.figure.prototype._init_toolbar = function() {\n",
       "    var fig = this;\n",
       "\n",
       "    var nav_element = $('<div/>');\n",
       "    nav_element.attr('style', 'width: 100%');\n",
       "    this.root.append(nav_element);\n",
       "\n",
       "    // Define a callback function for later on.\n",
       "    function toolbar_event(event) {\n",
       "        return fig.toolbar_button_onclick(event['data']);\n",
       "    }\n",
       "    function toolbar_mouse_event(event) {\n",
       "        return fig.toolbar_button_onmouseover(event['data']);\n",
       "    }\n",
       "\n",
       "    for(var toolbar_ind in mpl.toolbar_items) {\n",
       "        var name = mpl.toolbar_items[toolbar_ind][0];\n",
       "        var tooltip = mpl.toolbar_items[toolbar_ind][1];\n",
       "        var image = mpl.toolbar_items[toolbar_ind][2];\n",
       "        var method_name = mpl.toolbar_items[toolbar_ind][3];\n",
       "\n",
       "        if (!name) {\n",
       "            // put a spacer in here.\n",
       "            continue;\n",
       "        }\n",
       "        var button = $('<button/>');\n",
       "        button.addClass('ui-button ui-widget ui-state-default ui-corner-all ' +\n",
       "                        'ui-button-icon-only');\n",
       "        button.attr('role', 'button');\n",
       "        button.attr('aria-disabled', 'false');\n",
       "        button.click(method_name, toolbar_event);\n",
       "        button.mouseover(tooltip, toolbar_mouse_event);\n",
       "\n",
       "        var icon_img = $('<span/>');\n",
       "        icon_img.addClass('ui-button-icon-primary ui-icon');\n",
       "        icon_img.addClass(image);\n",
       "        icon_img.addClass('ui-corner-all');\n",
       "\n",
       "        var tooltip_span = $('<span/>');\n",
       "        tooltip_span.addClass('ui-button-text');\n",
       "        tooltip_span.html(tooltip);\n",
       "\n",
       "        button.append(icon_img);\n",
       "        button.append(tooltip_span);\n",
       "\n",
       "        nav_element.append(button);\n",
       "    }\n",
       "\n",
       "    var fmt_picker_span = $('<span/>');\n",
       "\n",
       "    var fmt_picker = $('<select/>');\n",
       "    fmt_picker.addClass('mpl-toolbar-option ui-widget ui-widget-content');\n",
       "    fmt_picker_span.append(fmt_picker);\n",
       "    nav_element.append(fmt_picker_span);\n",
       "    this.format_dropdown = fmt_picker[0];\n",
       "\n",
       "    for (var ind in mpl.extensions) {\n",
       "        var fmt = mpl.extensions[ind];\n",
       "        var option = $(\n",
       "            '<option/>', {selected: fmt === mpl.default_extension}).html(fmt);\n",
       "        fmt_picker.append(option);\n",
       "    }\n",
       "\n",
       "    // Add hover states to the ui-buttons\n",
       "    $( \".ui-button\" ).hover(\n",
       "        function() { $(this).addClass(\"ui-state-hover\");},\n",
       "        function() { $(this).removeClass(\"ui-state-hover\");}\n",
       "    );\n",
       "\n",
       "    var status_bar = $('<span class=\"mpl-message\"/>');\n",
       "    nav_element.append(status_bar);\n",
       "    this.message = status_bar[0];\n",
       "}\n",
       "\n",
       "mpl.figure.prototype.request_resize = function(x_pixels, y_pixels) {\n",
       "    // Request matplotlib to resize the figure. Matplotlib will then trigger a resize in the client,\n",
       "    // which will in turn request a refresh of the image.\n",
       "    this.send_message('resize', {'width': x_pixels, 'height': y_pixels});\n",
       "}\n",
       "\n",
       "mpl.figure.prototype.send_message = function(type, properties) {\n",
       "    properties['type'] = type;\n",
       "    properties['figure_id'] = this.id;\n",
       "    this.ws.send(JSON.stringify(properties));\n",
       "}\n",
       "\n",
       "mpl.figure.prototype.send_draw_message = function() {\n",
       "    if (!this.waiting) {\n",
       "        this.waiting = true;\n",
       "        this.ws.send(JSON.stringify({type: \"draw\", figure_id: this.id}));\n",
       "    }\n",
       "}\n",
       "\n",
       "\n",
       "mpl.figure.prototype.handle_save = function(fig, msg) {\n",
       "    var format_dropdown = fig.format_dropdown;\n",
       "    var format = format_dropdown.options[format_dropdown.selectedIndex].value;\n",
       "    fig.ondownload(fig, format);\n",
       "}\n",
       "\n",
       "\n",
       "mpl.figure.prototype.handle_resize = function(fig, msg) {\n",
       "    var size = msg['size'];\n",
       "    if (size[0] != fig.canvas.width || size[1] != fig.canvas.height) {\n",
       "        fig._resize_canvas(size[0], size[1]);\n",
       "        fig.send_message(\"refresh\", {});\n",
       "    };\n",
       "}\n",
       "\n",
       "mpl.figure.prototype.handle_rubberband = function(fig, msg) {\n",
       "    var x0 = msg['x0'] / mpl.ratio;\n",
       "    var y0 = (fig.canvas.height - msg['y0']) / mpl.ratio;\n",
       "    var x1 = msg['x1'] / mpl.ratio;\n",
       "    var y1 = (fig.canvas.height - msg['y1']) / mpl.ratio;\n",
       "    x0 = Math.floor(x0) + 0.5;\n",
       "    y0 = Math.floor(y0) + 0.5;\n",
       "    x1 = Math.floor(x1) + 0.5;\n",
       "    y1 = Math.floor(y1) + 0.5;\n",
       "    var min_x = Math.min(x0, x1);\n",
       "    var min_y = Math.min(y0, y1);\n",
       "    var width = Math.abs(x1 - x0);\n",
       "    var height = Math.abs(y1 - y0);\n",
       "\n",
       "    fig.rubberband_context.clearRect(\n",
       "        0, 0, fig.canvas.width / mpl.ratio, fig.canvas.height / mpl.ratio);\n",
       "\n",
       "    fig.rubberband_context.strokeRect(min_x, min_y, width, height);\n",
       "}\n",
       "\n",
       "mpl.figure.prototype.handle_figure_label = function(fig, msg) {\n",
       "    // Updates the figure title.\n",
       "    fig.header.textContent = msg['label'];\n",
       "}\n",
       "\n",
       "mpl.figure.prototype.handle_cursor = function(fig, msg) {\n",
       "    var cursor = msg['cursor'];\n",
       "    switch(cursor)\n",
       "    {\n",
       "    case 0:\n",
       "        cursor = 'pointer';\n",
       "        break;\n",
       "    case 1:\n",
       "        cursor = 'default';\n",
       "        break;\n",
       "    case 2:\n",
       "        cursor = 'crosshair';\n",
       "        break;\n",
       "    case 3:\n",
       "        cursor = 'move';\n",
       "        break;\n",
       "    }\n",
       "    fig.rubberband_canvas.style.cursor = cursor;\n",
       "}\n",
       "\n",
       "mpl.figure.prototype.handle_message = function(fig, msg) {\n",
       "    fig.message.textContent = msg['message'];\n",
       "}\n",
       "\n",
       "mpl.figure.prototype.handle_draw = function(fig, msg) {\n",
       "    // Request the server to send over a new figure.\n",
       "    fig.send_draw_message();\n",
       "}\n",
       "\n",
       "mpl.figure.prototype.handle_image_mode = function(fig, msg) {\n",
       "    fig.image_mode = msg['mode'];\n",
       "}\n",
       "\n",
       "mpl.figure.prototype.updated_canvas_event = function() {\n",
       "    // Called whenever the canvas gets updated.\n",
       "    this.send_message(\"ack\", {});\n",
       "}\n",
       "\n",
       "// A function to construct a web socket function for onmessage handling.\n",
       "// Called in the figure constructor.\n",
       "mpl.figure.prototype._make_on_message_function = function(fig) {\n",
       "    return function socket_on_message(evt) {\n",
       "        if (evt.data instanceof Blob) {\n",
       "            /* FIXME: We get \"Resource interpreted as Image but\n",
       "             * transferred with MIME type text/plain:\" errors on\n",
       "             * Chrome.  But how to set the MIME type?  It doesn't seem\n",
       "             * to be part of the websocket stream */\n",
       "            evt.data.type = \"image/png\";\n",
       "\n",
       "            /* Free the memory for the previous frames */\n",
       "            if (fig.imageObj.src) {\n",
       "                (window.URL || window.webkitURL).revokeObjectURL(\n",
       "                    fig.imageObj.src);\n",
       "            }\n",
       "\n",
       "            fig.imageObj.src = (window.URL || window.webkitURL).createObjectURL(\n",
       "                evt.data);\n",
       "            fig.updated_canvas_event();\n",
       "            fig.waiting = false;\n",
       "            return;\n",
       "        }\n",
       "        else if (typeof evt.data === 'string' && evt.data.slice(0, 21) == \"data:image/png;base64\") {\n",
       "            fig.imageObj.src = evt.data;\n",
       "            fig.updated_canvas_event();\n",
       "            fig.waiting = false;\n",
       "            return;\n",
       "        }\n",
       "\n",
       "        var msg = JSON.parse(evt.data);\n",
       "        var msg_type = msg['type'];\n",
       "\n",
       "        // Call the  \"handle_{type}\" callback, which takes\n",
       "        // the figure and JSON message as its only arguments.\n",
       "        try {\n",
       "            var callback = fig[\"handle_\" + msg_type];\n",
       "        } catch (e) {\n",
       "            console.log(\"No handler for the '\" + msg_type + \"' message type: \", msg);\n",
       "            return;\n",
       "        }\n",
       "\n",
       "        if (callback) {\n",
       "            try {\n",
       "                // console.log(\"Handling '\" + msg_type + \"' message: \", msg);\n",
       "                callback(fig, msg);\n",
       "            } catch (e) {\n",
       "                console.log(\"Exception inside the 'handler_\" + msg_type + \"' callback:\", e, e.stack, msg);\n",
       "            }\n",
       "        }\n",
       "    };\n",
       "}\n",
       "\n",
       "// from http://stackoverflow.com/questions/1114465/getting-mouse-location-in-canvas\n",
       "mpl.findpos = function(e) {\n",
       "    //this section is from http://www.quirksmode.org/js/events_properties.html\n",
       "    var targ;\n",
       "    if (!e)\n",
       "        e = window.event;\n",
       "    if (e.target)\n",
       "        targ = e.target;\n",
       "    else if (e.srcElement)\n",
       "        targ = e.srcElement;\n",
       "    if (targ.nodeType == 3) // defeat Safari bug\n",
       "        targ = targ.parentNode;\n",
       "\n",
       "    // jQuery normalizes the pageX and pageY\n",
       "    // pageX,Y are the mouse positions relative to the document\n",
       "    // offset() returns the position of the element relative to the document\n",
       "    var x = e.pageX - $(targ).offset().left;\n",
       "    var y = e.pageY - $(targ).offset().top;\n",
       "\n",
       "    return {\"x\": x, \"y\": y};\n",
       "};\n",
       "\n",
       "/*\n",
       " * return a copy of an object with only non-object keys\n",
       " * we need this to avoid circular references\n",
       " * http://stackoverflow.com/a/24161582/3208463\n",
       " */\n",
       "function simpleKeys (original) {\n",
       "  return Object.keys(original).reduce(function (obj, key) {\n",
       "    if (typeof original[key] !== 'object')\n",
       "        obj[key] = original[key]\n",
       "    return obj;\n",
       "  }, {});\n",
       "}\n",
       "\n",
       "mpl.figure.prototype.mouse_event = function(event, name) {\n",
       "    var canvas_pos = mpl.findpos(event)\n",
       "\n",
       "    if (name === 'button_press')\n",
       "    {\n",
       "        this.canvas.focus();\n",
       "        this.canvas_div.focus();\n",
       "    }\n",
       "\n",
       "    var x = canvas_pos.x * mpl.ratio;\n",
       "    var y = canvas_pos.y * mpl.ratio;\n",
       "\n",
       "    this.send_message(name, {x: x, y: y, button: event.button,\n",
       "                             step: event.step,\n",
       "                             guiEvent: simpleKeys(event)});\n",
       "\n",
       "    /* This prevents the web browser from automatically changing to\n",
       "     * the text insertion cursor when the button is pressed.  We want\n",
       "     * to control all of the cursor setting manually through the\n",
       "     * 'cursor' event from matplotlib */\n",
       "    event.preventDefault();\n",
       "    return false;\n",
       "}\n",
       "\n",
       "mpl.figure.prototype._key_event_extra = function(event, name) {\n",
       "    // Handle any extra behaviour associated with a key event\n",
       "}\n",
       "\n",
       "mpl.figure.prototype.key_event = function(event, name) {\n",
       "\n",
       "    // Prevent repeat events\n",
       "    if (name == 'key_press')\n",
       "    {\n",
       "        if (event.which === this._key)\n",
       "            return;\n",
       "        else\n",
       "            this._key = event.which;\n",
       "    }\n",
       "    if (name == 'key_release')\n",
       "        this._key = null;\n",
       "\n",
       "    var value = '';\n",
       "    if (event.ctrlKey && event.which != 17)\n",
       "        value += \"ctrl+\";\n",
       "    if (event.altKey && event.which != 18)\n",
       "        value += \"alt+\";\n",
       "    if (event.shiftKey && event.which != 16)\n",
       "        value += \"shift+\";\n",
       "\n",
       "    value += 'k';\n",
       "    value += event.which.toString();\n",
       "\n",
       "    this._key_event_extra(event, name);\n",
       "\n",
       "    this.send_message(name, {key: value,\n",
       "                             guiEvent: simpleKeys(event)});\n",
       "    return false;\n",
       "}\n",
       "\n",
       "mpl.figure.prototype.toolbar_button_onclick = function(name) {\n",
       "    if (name == 'download') {\n",
       "        this.handle_save(this, null);\n",
       "    } else {\n",
       "        this.send_message(\"toolbar_button\", {name: name});\n",
       "    }\n",
       "};\n",
       "\n",
       "mpl.figure.prototype.toolbar_button_onmouseover = function(tooltip) {\n",
       "    this.message.textContent = tooltip;\n",
       "};\n",
       "mpl.toolbar_items = [[\"Home\", \"Reset original view\", \"fa fa-home icon-home\", \"home\"], [\"Back\", \"Back to previous view\", \"fa fa-arrow-left icon-arrow-left\", \"back\"], [\"Forward\", \"Forward to next view\", \"fa fa-arrow-right icon-arrow-right\", \"forward\"], [\"\", \"\", \"\", \"\"], [\"Pan\", \"Pan axes with left mouse, zoom with right\", \"fa fa-arrows icon-move\", \"pan\"], [\"Zoom\", \"Zoom to rectangle\", \"fa fa-square-o icon-check-empty\", \"zoom\"], [\"\", \"\", \"\", \"\"], [\"Download\", \"Download plot\", \"fa fa-floppy-o icon-save\", \"download\"]];\n",
       "\n",
       "mpl.extensions = [\"eps\", \"jpeg\", \"pdf\", \"png\", \"ps\", \"raw\", \"svg\", \"tif\"];\n",
       "\n",
       "mpl.default_extension = \"png\";var comm_websocket_adapter = function(comm) {\n",
       "    // Create a \"websocket\"-like object which calls the given IPython comm\n",
       "    // object with the appropriate methods. Currently this is a non binary\n",
       "    // socket, so there is still some room for performance tuning.\n",
       "    var ws = {};\n",
       "\n",
       "    ws.close = function() {\n",
       "        comm.close()\n",
       "    };\n",
       "    ws.send = function(m) {\n",
       "        //console.log('sending', m);\n",
       "        comm.send(m);\n",
       "    };\n",
       "    // Register the callback with on_msg.\n",
       "    comm.on_msg(function(msg) {\n",
       "        //console.log('receiving', msg['content']['data'], msg);\n",
       "        // Pass the mpl event to the overridden (by mpl) onmessage function.\n",
       "        ws.onmessage(msg['content']['data'])\n",
       "    });\n",
       "    return ws;\n",
       "}\n",
       "\n",
       "mpl.mpl_figure_comm = function(comm, msg) {\n",
       "    // This is the function which gets called when the mpl process\n",
       "    // starts-up an IPython Comm through the \"matplotlib\" channel.\n",
       "\n",
       "    var id = msg.content.data.id;\n",
       "    // Get hold of the div created by the display call when the Comm\n",
       "    // socket was opened in Python.\n",
       "    var element = $(\"#\" + id);\n",
       "    var ws_proxy = comm_websocket_adapter(comm)\n",
       "\n",
       "    function ondownload(figure, format) {\n",
       "        window.open(figure.imageObj.src);\n",
       "    }\n",
       "\n",
       "    var fig = new mpl.figure(id, ws_proxy,\n",
       "                           ondownload,\n",
       "                           element.get(0));\n",
       "\n",
       "    // Call onopen now - mpl needs it, as it is assuming we've passed it a real\n",
       "    // web socket which is closed, not our websocket->open comm proxy.\n",
       "    ws_proxy.onopen();\n",
       "\n",
       "    fig.parent_element = element.get(0);\n",
       "    fig.cell_info = mpl.find_output_cell(\"<div id='\" + id + \"'></div>\");\n",
       "    if (!fig.cell_info) {\n",
       "        console.error(\"Failed to find cell for figure\", id, fig);\n",
       "        return;\n",
       "    }\n",
       "\n",
       "    var output_index = fig.cell_info[2]\n",
       "    var cell = fig.cell_info[0];\n",
       "\n",
       "};\n",
       "\n",
       "mpl.figure.prototype.handle_close = function(fig, msg) {\n",
       "    var width = fig.canvas.width/mpl.ratio\n",
       "    fig.root.unbind('remove')\n",
       "\n",
       "    // Update the output cell to use the data from the current canvas.\n",
       "    fig.push_to_output();\n",
       "    var dataURL = fig.canvas.toDataURL();\n",
       "    // Re-enable the keyboard manager in IPython - without this line, in FF,\n",
       "    // the notebook keyboard shortcuts fail.\n",
       "    IPython.keyboard_manager.enable()\n",
       "    $(fig.parent_element).html('<img src=\"' + dataURL + '\" width=\"' + width + '\">');\n",
       "    fig.close_ws(fig, msg);\n",
       "}\n",
       "\n",
       "mpl.figure.prototype.close_ws = function(fig, msg){\n",
       "    fig.send_message('closing', msg);\n",
       "    // fig.ws.close()\n",
       "}\n",
       "\n",
       "mpl.figure.prototype.push_to_output = function(remove_interactive) {\n",
       "    // Turn the data on the canvas into data in the output cell.\n",
       "    var width = this.canvas.width/mpl.ratio\n",
       "    var dataURL = this.canvas.toDataURL();\n",
       "    this.cell_info[1]['text/html'] = '<img src=\"' + dataURL + '\" width=\"' + width + '\">';\n",
       "}\n",
       "\n",
       "mpl.figure.prototype.updated_canvas_event = function() {\n",
       "    // Tell IPython that the notebook contents must change.\n",
       "    IPython.notebook.set_dirty(true);\n",
       "    this.send_message(\"ack\", {});\n",
       "    var fig = this;\n",
       "    // Wait a second, then push the new image to the DOM so\n",
       "    // that it is saved nicely (might be nice to debounce this).\n",
       "    setTimeout(function () { fig.push_to_output() }, 1000);\n",
       "}\n",
       "\n",
       "mpl.figure.prototype._init_toolbar = function() {\n",
       "    var fig = this;\n",
       "\n",
       "    var nav_element = $('<div/>');\n",
       "    nav_element.attr('style', 'width: 100%');\n",
       "    this.root.append(nav_element);\n",
       "\n",
       "    // Define a callback function for later on.\n",
       "    function toolbar_event(event) {\n",
       "        return fig.toolbar_button_onclick(event['data']);\n",
       "    }\n",
       "    function toolbar_mouse_event(event) {\n",
       "        return fig.toolbar_button_onmouseover(event['data']);\n",
       "    }\n",
       "\n",
       "    for(var toolbar_ind in mpl.toolbar_items){\n",
       "        var name = mpl.toolbar_items[toolbar_ind][0];\n",
       "        var tooltip = mpl.toolbar_items[toolbar_ind][1];\n",
       "        var image = mpl.toolbar_items[toolbar_ind][2];\n",
       "        var method_name = mpl.toolbar_items[toolbar_ind][3];\n",
       "\n",
       "        if (!name) { continue; };\n",
       "\n",
       "        var button = $('<button class=\"btn btn-default\" href=\"#\" title=\"' + name + '\"><i class=\"fa ' + image + ' fa-lg\"></i></button>');\n",
       "        button.click(method_name, toolbar_event);\n",
       "        button.mouseover(tooltip, toolbar_mouse_event);\n",
       "        nav_element.append(button);\n",
       "    }\n",
       "\n",
       "    // Add the status bar.\n",
       "    var status_bar = $('<span class=\"mpl-message\" style=\"text-align:right; float: right;\"/>');\n",
       "    nav_element.append(status_bar);\n",
       "    this.message = status_bar[0];\n",
       "\n",
       "    // Add the close button to the window.\n",
       "    var buttongrp = $('<div class=\"btn-group inline pull-right\"></div>');\n",
       "    var button = $('<button class=\"btn btn-mini btn-primary\" href=\"#\" title=\"Stop Interaction\"><i class=\"fa fa-power-off icon-remove icon-large\"></i></button>');\n",
       "    button.click(function (evt) { fig.handle_close(fig, {}); } );\n",
       "    button.mouseover('Stop Interaction', toolbar_mouse_event);\n",
       "    buttongrp.append(button);\n",
       "    var titlebar = this.root.find($('.ui-dialog-titlebar'));\n",
       "    titlebar.prepend(buttongrp);\n",
       "}\n",
       "\n",
       "mpl.figure.prototype._root_extra_style = function(el){\n",
       "    var fig = this\n",
       "    el.on(\"remove\", function(){\n",
       "\tfig.close_ws(fig, {});\n",
       "    });\n",
       "}\n",
       "\n",
       "mpl.figure.prototype._canvas_extra_style = function(el){\n",
       "    // this is important to make the div 'focusable\n",
       "    el.attr('tabindex', 0)\n",
       "    // reach out to IPython and tell the keyboard manager to turn it's self\n",
       "    // off when our div gets focus\n",
       "\n",
       "    // location in version 3\n",
       "    if (IPython.notebook.keyboard_manager) {\n",
       "        IPython.notebook.keyboard_manager.register_events(el);\n",
       "    }\n",
       "    else {\n",
       "        // location in version 2\n",
       "        IPython.keyboard_manager.register_events(el);\n",
       "    }\n",
       "\n",
       "}\n",
       "\n",
       "mpl.figure.prototype._key_event_extra = function(event, name) {\n",
       "    var manager = IPython.notebook.keyboard_manager;\n",
       "    if (!manager)\n",
       "        manager = IPython.keyboard_manager;\n",
       "\n",
       "    // Check for shift+enter\n",
       "    if (event.shiftKey && event.which == 13) {\n",
       "        this.canvas_div.blur();\n",
       "        // select the cell after this one\n",
       "        var index = IPython.notebook.find_cell_index(this.cell_info[0]);\n",
       "        IPython.notebook.select(index + 1);\n",
       "    }\n",
       "}\n",
       "\n",
       "mpl.figure.prototype.handle_save = function(fig, msg) {\n",
       "    fig.ondownload(fig, null);\n",
       "}\n",
       "\n",
       "\n",
       "mpl.find_output_cell = function(html_output) {\n",
       "    // Return the cell and output element which can be found *uniquely* in the notebook.\n",
       "    // Note - this is a bit hacky, but it is done because the \"notebook_saving.Notebook\"\n",
       "    // IPython event is triggered only after the cells have been serialised, which for\n",
       "    // our purposes (turning an active figure into a static one), is too late.\n",
       "    var cells = IPython.notebook.get_cells();\n",
       "    var ncells = cells.length;\n",
       "    for (var i=0; i<ncells; i++) {\n",
       "        var cell = cells[i];\n",
       "        if (cell.cell_type === 'code'){\n",
       "            for (var j=0; j<cell.output_area.outputs.length; j++) {\n",
       "                var data = cell.output_area.outputs[j];\n",
       "                if (data.data) {\n",
       "                    // IPython >= 3 moved mimebundle to data attribute of output\n",
       "                    data = data.data;\n",
       "                }\n",
       "                if (data['text/html'] == html_output) {\n",
       "                    return [cell, data, j];\n",
       "                }\n",
       "            }\n",
       "        }\n",
       "    }\n",
       "}\n",
       "\n",
       "// Register the function which deals with the matplotlib target/channel.\n",
       "// The kernel may be null if the page has been refreshed.\n",
       "if (IPython.notebook.kernel != null) {\n",
       "    IPython.notebook.kernel.comm_manager.register_target('matplotlib', mpl.mpl_figure_comm);\n",
       "}\n"
      ],
      "text/plain": [
       "<IPython.core.display.Javascript object>"
      ]
     },
     "metadata": {},
     "output_type": "display_data"
    },
    {
     "data": {
      "text/html": [
       "<img src=\"data:image/png;base64,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\" width=\"720\">"
      ],
      "text/plain": [
       "<IPython.core.display.HTML object>"
      ]
     },
     "metadata": {},
     "output_type": "display_data"
    }
   ],
   "source": [
    "plot_3d(X, y, b)"
   ]
  },
  {
   "cell_type": "markdown",
   "metadata": {},
   "source": [
    "## Fit data ignoring outliers"
   ]
  },
  {
   "cell_type": "markdown",
   "metadata": {},
   "source": [
    "The range of c is from -10000 to 202. To get a better model, we'll ignore the outlier this time."
   ]
  },
  {
   "cell_type": "code",
   "execution_count": 36,
   "metadata": {
    "ExecuteTime": {
     "end_time": "2020-05-23T01:02:42.872409Z",
     "start_time": "2020-05-23T01:02:42.864636Z"
    }
   },
   "outputs": [
    {
     "data": {
      "text/plain": [
       "count      300.000000\n",
       "mean       -41.564919\n",
       "std        581.251021\n",
       "min     -10000.000000\n",
       "25%        -23.375000\n",
       "50%         -3.090000\n",
       "75%         16.300000\n",
       "max        202.000000\n",
       "Name: c, dtype: float64"
      ]
     },
     "execution_count": 36,
     "metadata": {},
     "output_type": "execute_result"
    }
   ],
   "source": [
    "data.c.describe()"
   ]
  },
  {
   "cell_type": "markdown",
   "metadata": {},
   "source": [
    "Ignore the datapoint with c=-10000."
   ]
  },
  {
   "cell_type": "code",
   "execution_count": 37,
   "metadata": {
    "ExecuteTime": {
     "end_time": "2020-05-23T01:02:52.732455Z",
     "start_time": "2020-05-23T01:02:52.728592Z"
    }
   },
   "outputs": [],
   "source": [
    "data1 = data.loc[data.c>-10000]"
   ]
  },
  {
   "cell_type": "markdown",
   "metadata": {},
   "source": [
    "The range of c has decreased to '-315~202' after removing the outlier."
   ]
  },
  {
   "cell_type": "code",
   "execution_count": 38,
   "metadata": {
    "ExecuteTime": {
     "end_time": "2020-05-23T01:03:02.482444Z",
     "start_time": "2020-05-23T01:03:02.474874Z"
    }
   },
   "outputs": [
    {
     "data": {
      "text/plain": [
       "count    299.000000\n",
       "mean      -8.259116\n",
       "std       71.321872\n",
       "min     -315.000000\n",
       "25%      -23.100000\n",
       "50%       -2.940000\n",
       "75%       16.300000\n",
       "max      202.000000\n",
       "Name: c, dtype: float64"
      ]
     },
     "execution_count": 38,
     "metadata": {},
     "output_type": "execute_result"
    }
   ],
   "source": [
    "data1.c.describe()"
   ]
  },
  {
   "cell_type": "code",
   "execution_count": 39,
   "metadata": {
    "ExecuteTime": {
     "end_time": "2020-05-23T01:03:30.679679Z",
     "start_time": "2020-05-23T01:03:30.674802Z"
    }
   },
   "outputs": [],
   "source": [
    "X, y = get_arrays(data1)"
   ]
  },
  {
   "cell_type": "code",
   "execution_count": 40,
   "metadata": {
    "ExecuteTime": {
     "end_time": "2020-05-23T01:03:31.894414Z",
     "start_time": "2020-05-23T01:03:31.891858Z"
    }
   },
   "outputs": [],
   "source": [
    "X = standardize(X)"
   ]
  },
  {
   "cell_type": "code",
   "execution_count": 41,
   "metadata": {
    "ExecuteTime": {
     "end_time": "2020-05-23T01:03:32.616812Z",
     "start_time": "2020-05-23T01:03:32.614104Z"
    }
   },
   "outputs": [],
   "source": [
    "X = add_ones(X)"
   ]
  },
  {
   "cell_type": "code",
   "execution_count": 42,
   "metadata": {
    "ExecuteTime": {
     "end_time": "2020-05-23T01:03:33.441338Z",
     "start_time": "2020-05-23T01:03:33.438099Z"
    }
   },
   "outputs": [],
   "source": [
    "b = get_coefficients(X, y)"
   ]
  },
  {
   "cell_type": "code",
   "execution_count": 43,
   "metadata": {
    "ExecuteTime": {
     "end_time": "2020-05-23T01:03:34.064468Z",
     "start_time": "2020-05-23T01:03:34.059893Z"
    }
   },
   "outputs": [],
   "source": [
    "y_hat = predict(X, b)"
   ]
  },
  {
   "cell_type": "code",
   "execution_count": 44,
   "metadata": {
    "ExecuteTime": {
     "end_time": "2020-05-23T01:03:34.811840Z",
     "start_time": "2020-05-23T01:03:34.807679Z"
    }
   },
   "outputs": [
    {
     "data": {
      "text/plain": [
       "3072.18"
      ]
     },
     "execution_count": 44,
     "metadata": {},
     "output_type": "execute_result"
    }
   ],
   "source": [
    "MSE2 = get_mse(y, y_hat)\n",
    "MSE2"
   ]
  },
  {
   "cell_type": "code",
   "execution_count": 45,
   "metadata": {
    "ExecuteTime": {
     "end_time": "2020-05-23T01:03:35.959713Z",
     "start_time": "2020-05-23T01:03:35.955580Z"
    }
   },
   "outputs": [
    {
     "data": {
      "text/plain": [
       "30.55"
      ]
     },
     "execution_count": 45,
     "metadata": {},
     "output_type": "execute_result"
    }
   ],
   "source": [
    "MAE2 = get_mae(y, y_hat)\n",
    "MAE2"
   ]
  },
  {
   "cell_type": "markdown",
   "metadata": {},
   "source": [
    "After ignoring the outlier, MSE has dramatically decreased. MAE hasn't decreased as much as MSE because MAE is more robust to outliers. However, it's clear that ignoring the outlier has improved the model judging by MSE and MAE."
   ]
  },
  {
   "cell_type": "code",
   "execution_count": 46,
   "metadata": {
    "ExecuteTime": {
     "end_time": "2020-05-23T01:03:55.302490Z",
     "start_time": "2020-05-23T01:03:55.298615Z"
    }
   },
   "outputs": [
    {
     "data": {
      "text/plain": [
       "(334688.27, 3072.18)"
      ]
     },
     "execution_count": 46,
     "metadata": {},
     "output_type": "execute_result"
    }
   ],
   "source": [
    "MSE1, MSE2"
   ]
  },
  {
   "cell_type": "code",
   "execution_count": 47,
   "metadata": {
    "ExecuteTime": {
     "end_time": "2020-05-23T01:03:55.746710Z",
     "start_time": "2020-05-23T01:03:55.743213Z"
    }
   },
   "outputs": [
    {
     "data": {
      "text/plain": [
       "(33.25, 30.55)"
      ]
     },
     "execution_count": 47,
     "metadata": {},
     "output_type": "execute_result"
    }
   ],
   "source": [
    "MAE1, MAE2"
   ]
  },
  {
   "cell_type": "markdown",
   "metadata": {},
   "source": [
    "## Plot regression plane without outlier"
   ]
  },
  {
   "cell_type": "markdown",
   "metadata": {},
   "source": [
    "After ignoring the outlier, the regression plane seems to fit relatively better to the data."
   ]
  },
  {
   "cell_type": "code",
   "execution_count": 48,
   "metadata": {
    "ExecuteTime": {
     "end_time": "2020-05-23T01:04:24.464448Z",
     "start_time": "2020-05-23T01:04:19.818907Z"
    }
   },
   "outputs": [
    {
     "data": {
      "application/javascript": [
       "/* Put everything inside the global mpl namespace */\n",
       "window.mpl = {};\n",
       "\n",
       "\n",
       "mpl.get_websocket_type = function() {\n",
       "    if (typeof(WebSocket) !== 'undefined') {\n",
       "        return WebSocket;\n",
       "    } else if (typeof(MozWebSocket) !== 'undefined') {\n",
       "        return MozWebSocket;\n",
       "    } else {\n",
       "        alert('Your browser does not have WebSocket support. ' +\n",
       "              'Please try Chrome, Safari or Firefox ≥ 6. ' +\n",
       "              'Firefox 4 and 5 are also supported but you ' +\n",
       "              'have to enable WebSockets in about:config.');\n",
       "    };\n",
       "}\n",
       "\n",
       "mpl.figure = function(figure_id, websocket, ondownload, parent_element) {\n",
       "    this.id = figure_id;\n",
       "\n",
       "    this.ws = websocket;\n",
       "\n",
       "    this.supports_binary = (this.ws.binaryType != undefined);\n",
       "\n",
       "    if (!this.supports_binary) {\n",
       "        var warnings = document.getElementById(\"mpl-warnings\");\n",
       "        if (warnings) {\n",
       "            warnings.style.display = 'block';\n",
       "            warnings.textContent = (\n",
       "                \"This browser does not support binary websocket messages. \" +\n",
       "                    \"Performance may be slow.\");\n",
       "        }\n",
       "    }\n",
       "\n",
       "    this.imageObj = new Image();\n",
       "\n",
       "    this.context = undefined;\n",
       "    this.message = undefined;\n",
       "    this.canvas = undefined;\n",
       "    this.rubberband_canvas = undefined;\n",
       "    this.rubberband_context = undefined;\n",
       "    this.format_dropdown = undefined;\n",
       "\n",
       "    this.image_mode = 'full';\n",
       "\n",
       "    this.root = $('<div/>');\n",
       "    this._root_extra_style(this.root)\n",
       "    this.root.attr('style', 'display: inline-block');\n",
       "\n",
       "    $(parent_element).append(this.root);\n",
       "\n",
       "    this._init_header(this);\n",
       "    this._init_canvas(this);\n",
       "    this._init_toolbar(this);\n",
       "\n",
       "    var fig = this;\n",
       "\n",
       "    this.waiting = false;\n",
       "\n",
       "    this.ws.onopen =  function () {\n",
       "            fig.send_message(\"supports_binary\", {value: fig.supports_binary});\n",
       "            fig.send_message(\"send_image_mode\", {});\n",
       "            if (mpl.ratio != 1) {\n",
       "                fig.send_message(\"set_dpi_ratio\", {'dpi_ratio': mpl.ratio});\n",
       "            }\n",
       "            fig.send_message(\"refresh\", {});\n",
       "        }\n",
       "\n",
       "    this.imageObj.onload = function() {\n",
       "            if (fig.image_mode == 'full') {\n",
       "                // Full images could contain transparency (where diff images\n",
       "                // almost always do), so we need to clear the canvas so that\n",
       "                // there is no ghosting.\n",
       "                fig.context.clearRect(0, 0, fig.canvas.width, fig.canvas.height);\n",
       "            }\n",
       "            fig.context.drawImage(fig.imageObj, 0, 0);\n",
       "        };\n",
       "\n",
       "    this.imageObj.onunload = function() {\n",
       "        fig.ws.close();\n",
       "    }\n",
       "\n",
       "    this.ws.onmessage = this._make_on_message_function(this);\n",
       "\n",
       "    this.ondownload = ondownload;\n",
       "}\n",
       "\n",
       "mpl.figure.prototype._init_header = function() {\n",
       "    var titlebar = $(\n",
       "        '<div class=\"ui-dialog-titlebar ui-widget-header ui-corner-all ' +\n",
       "        'ui-helper-clearfix\"/>');\n",
       "    var titletext = $(\n",
       "        '<div class=\"ui-dialog-title\" style=\"width: 100%; ' +\n",
       "        'text-align: center; padding: 3px;\"/>');\n",
       "    titlebar.append(titletext)\n",
       "    this.root.append(titlebar);\n",
       "    this.header = titletext[0];\n",
       "}\n",
       "\n",
       "\n",
       "\n",
       "mpl.figure.prototype._canvas_extra_style = function(canvas_div) {\n",
       "\n",
       "}\n",
       "\n",
       "\n",
       "mpl.figure.prototype._root_extra_style = function(canvas_div) {\n",
       "\n",
       "}\n",
       "\n",
       "mpl.figure.prototype._init_canvas = function() {\n",
       "    var fig = this;\n",
       "\n",
       "    var canvas_div = $('<div/>');\n",
       "\n",
       "    canvas_div.attr('style', 'position: relative; clear: both; outline: 0');\n",
       "\n",
       "    function canvas_keyboard_event(event) {\n",
       "        return fig.key_event(event, event['data']);\n",
       "    }\n",
       "\n",
       "    canvas_div.keydown('key_press', canvas_keyboard_event);\n",
       "    canvas_div.keyup('key_release', canvas_keyboard_event);\n",
       "    this.canvas_div = canvas_div\n",
       "    this._canvas_extra_style(canvas_div)\n",
       "    this.root.append(canvas_div);\n",
       "\n",
       "    var canvas = $('<canvas/>');\n",
       "    canvas.addClass('mpl-canvas');\n",
       "    canvas.attr('style', \"left: 0; top: 0; z-index: 0; outline: 0\")\n",
       "\n",
       "    this.canvas = canvas[0];\n",
       "    this.context = canvas[0].getContext(\"2d\");\n",
       "\n",
       "    var backingStore = this.context.backingStorePixelRatio ||\n",
       "\tthis.context.webkitBackingStorePixelRatio ||\n",
       "\tthis.context.mozBackingStorePixelRatio ||\n",
       "\tthis.context.msBackingStorePixelRatio ||\n",
       "\tthis.context.oBackingStorePixelRatio ||\n",
       "\tthis.context.backingStorePixelRatio || 1;\n",
       "\n",
       "    mpl.ratio = (window.devicePixelRatio || 1) / backingStore;\n",
       "\n",
       "    var rubberband = $('<canvas/>');\n",
       "    rubberband.attr('style', \"position: absolute; left: 0; top: 0; z-index: 1;\")\n",
       "\n",
       "    var pass_mouse_events = true;\n",
       "\n",
       "    canvas_div.resizable({\n",
       "        start: function(event, ui) {\n",
       "            pass_mouse_events = false;\n",
       "        },\n",
       "        resize: function(event, ui) {\n",
       "            fig.request_resize(ui.size.width, ui.size.height);\n",
       "        },\n",
       "        stop: function(event, ui) {\n",
       "            pass_mouse_events = true;\n",
       "            fig.request_resize(ui.size.width, ui.size.height);\n",
       "        },\n",
       "    });\n",
       "\n",
       "    function mouse_event_fn(event) {\n",
       "        if (pass_mouse_events)\n",
       "            return fig.mouse_event(event, event['data']);\n",
       "    }\n",
       "\n",
       "    rubberband.mousedown('button_press', mouse_event_fn);\n",
       "    rubberband.mouseup('button_release', mouse_event_fn);\n",
       "    // Throttle sequential mouse events to 1 every 20ms.\n",
       "    rubberband.mousemove('motion_notify', mouse_event_fn);\n",
       "\n",
       "    rubberband.mouseenter('figure_enter', mouse_event_fn);\n",
       "    rubberband.mouseleave('figure_leave', mouse_event_fn);\n",
       "\n",
       "    canvas_div.on(\"wheel\", function (event) {\n",
       "        event = event.originalEvent;\n",
       "        event['data'] = 'scroll'\n",
       "        if (event.deltaY < 0) {\n",
       "            event.step = 1;\n",
       "        } else {\n",
       "            event.step = -1;\n",
       "        }\n",
       "        mouse_event_fn(event);\n",
       "    });\n",
       "\n",
       "    canvas_div.append(canvas);\n",
       "    canvas_div.append(rubberband);\n",
       "\n",
       "    this.rubberband = rubberband;\n",
       "    this.rubberband_canvas = rubberband[0];\n",
       "    this.rubberband_context = rubberband[0].getContext(\"2d\");\n",
       "    this.rubberband_context.strokeStyle = \"#000000\";\n",
       "\n",
       "    this._resize_canvas = function(width, height) {\n",
       "        // Keep the size of the canvas, canvas container, and rubber band\n",
       "        // canvas in synch.\n",
       "        canvas_div.css('width', width)\n",
       "        canvas_div.css('height', height)\n",
       "\n",
       "        canvas.attr('width', width * mpl.ratio);\n",
       "        canvas.attr('height', height * mpl.ratio);\n",
       "        canvas.attr('style', 'width: ' + width + 'px; height: ' + height + 'px;');\n",
       "\n",
       "        rubberband.attr('width', width);\n",
       "        rubberband.attr('height', height);\n",
       "    }\n",
       "\n",
       "    // Set the figure to an initial 600x600px, this will subsequently be updated\n",
       "    // upon first draw.\n",
       "    this._resize_canvas(600, 600);\n",
       "\n",
       "    // Disable right mouse context menu.\n",
       "    $(this.rubberband_canvas).bind(\"contextmenu\",function(e){\n",
       "        return false;\n",
       "    });\n",
       "\n",
       "    function set_focus () {\n",
       "        canvas.focus();\n",
       "        canvas_div.focus();\n",
       "    }\n",
       "\n",
       "    window.setTimeout(set_focus, 100);\n",
       "}\n",
       "\n",
       "mpl.figure.prototype._init_toolbar = function() {\n",
       "    var fig = this;\n",
       "\n",
       "    var nav_element = $('<div/>');\n",
       "    nav_element.attr('style', 'width: 100%');\n",
       "    this.root.append(nav_element);\n",
       "\n",
       "    // Define a callback function for later on.\n",
       "    function toolbar_event(event) {\n",
       "        return fig.toolbar_button_onclick(event['data']);\n",
       "    }\n",
       "    function toolbar_mouse_event(event) {\n",
       "        return fig.toolbar_button_onmouseover(event['data']);\n",
       "    }\n",
       "\n",
       "    for(var toolbar_ind in mpl.toolbar_items) {\n",
       "        var name = mpl.toolbar_items[toolbar_ind][0];\n",
       "        var tooltip = mpl.toolbar_items[toolbar_ind][1];\n",
       "        var image = mpl.toolbar_items[toolbar_ind][2];\n",
       "        var method_name = mpl.toolbar_items[toolbar_ind][3];\n",
       "\n",
       "        if (!name) {\n",
       "            // put a spacer in here.\n",
       "            continue;\n",
       "        }\n",
       "        var button = $('<button/>');\n",
       "        button.addClass('ui-button ui-widget ui-state-default ui-corner-all ' +\n",
       "                        'ui-button-icon-only');\n",
       "        button.attr('role', 'button');\n",
       "        button.attr('aria-disabled', 'false');\n",
       "        button.click(method_name, toolbar_event);\n",
       "        button.mouseover(tooltip, toolbar_mouse_event);\n",
       "\n",
       "        var icon_img = $('<span/>');\n",
       "        icon_img.addClass('ui-button-icon-primary ui-icon');\n",
       "        icon_img.addClass(image);\n",
       "        icon_img.addClass('ui-corner-all');\n",
       "\n",
       "        var tooltip_span = $('<span/>');\n",
       "        tooltip_span.addClass('ui-button-text');\n",
       "        tooltip_span.html(tooltip);\n",
       "\n",
       "        button.append(icon_img);\n",
       "        button.append(tooltip_span);\n",
       "\n",
       "        nav_element.append(button);\n",
       "    }\n",
       "\n",
       "    var fmt_picker_span = $('<span/>');\n",
       "\n",
       "    var fmt_picker = $('<select/>');\n",
       "    fmt_picker.addClass('mpl-toolbar-option ui-widget ui-widget-content');\n",
       "    fmt_picker_span.append(fmt_picker);\n",
       "    nav_element.append(fmt_picker_span);\n",
       "    this.format_dropdown = fmt_picker[0];\n",
       "\n",
       "    for (var ind in mpl.extensions) {\n",
       "        var fmt = mpl.extensions[ind];\n",
       "        var option = $(\n",
       "            '<option/>', {selected: fmt === mpl.default_extension}).html(fmt);\n",
       "        fmt_picker.append(option);\n",
       "    }\n",
       "\n",
       "    // Add hover states to the ui-buttons\n",
       "    $( \".ui-button\" ).hover(\n",
       "        function() { $(this).addClass(\"ui-state-hover\");},\n",
       "        function() { $(this).removeClass(\"ui-state-hover\");}\n",
       "    );\n",
       "\n",
       "    var status_bar = $('<span class=\"mpl-message\"/>');\n",
       "    nav_element.append(status_bar);\n",
       "    this.message = status_bar[0];\n",
       "}\n",
       "\n",
       "mpl.figure.prototype.request_resize = function(x_pixels, y_pixels) {\n",
       "    // Request matplotlib to resize the figure. Matplotlib will then trigger a resize in the client,\n",
       "    // which will in turn request a refresh of the image.\n",
       "    this.send_message('resize', {'width': x_pixels, 'height': y_pixels});\n",
       "}\n",
       "\n",
       "mpl.figure.prototype.send_message = function(type, properties) {\n",
       "    properties['type'] = type;\n",
       "    properties['figure_id'] = this.id;\n",
       "    this.ws.send(JSON.stringify(properties));\n",
       "}\n",
       "\n",
       "mpl.figure.prototype.send_draw_message = function() {\n",
       "    if (!this.waiting) {\n",
       "        this.waiting = true;\n",
       "        this.ws.send(JSON.stringify({type: \"draw\", figure_id: this.id}));\n",
       "    }\n",
       "}\n",
       "\n",
       "\n",
       "mpl.figure.prototype.handle_save = function(fig, msg) {\n",
       "    var format_dropdown = fig.format_dropdown;\n",
       "    var format = format_dropdown.options[format_dropdown.selectedIndex].value;\n",
       "    fig.ondownload(fig, format);\n",
       "}\n",
       "\n",
       "\n",
       "mpl.figure.prototype.handle_resize = function(fig, msg) {\n",
       "    var size = msg['size'];\n",
       "    if (size[0] != fig.canvas.width || size[1] != fig.canvas.height) {\n",
       "        fig._resize_canvas(size[0], size[1]);\n",
       "        fig.send_message(\"refresh\", {});\n",
       "    };\n",
       "}\n",
       "\n",
       "mpl.figure.prototype.handle_rubberband = function(fig, msg) {\n",
       "    var x0 = msg['x0'] / mpl.ratio;\n",
       "    var y0 = (fig.canvas.height - msg['y0']) / mpl.ratio;\n",
       "    var x1 = msg['x1'] / mpl.ratio;\n",
       "    var y1 = (fig.canvas.height - msg['y1']) / mpl.ratio;\n",
       "    x0 = Math.floor(x0) + 0.5;\n",
       "    y0 = Math.floor(y0) + 0.5;\n",
       "    x1 = Math.floor(x1) + 0.5;\n",
       "    y1 = Math.floor(y1) + 0.5;\n",
       "    var min_x = Math.min(x0, x1);\n",
       "    var min_y = Math.min(y0, y1);\n",
       "    var width = Math.abs(x1 - x0);\n",
       "    var height = Math.abs(y1 - y0);\n",
       "\n",
       "    fig.rubberband_context.clearRect(\n",
       "        0, 0, fig.canvas.width / mpl.ratio, fig.canvas.height / mpl.ratio);\n",
       "\n",
       "    fig.rubberband_context.strokeRect(min_x, min_y, width, height);\n",
       "}\n",
       "\n",
       "mpl.figure.prototype.handle_figure_label = function(fig, msg) {\n",
       "    // Updates the figure title.\n",
       "    fig.header.textContent = msg['label'];\n",
       "}\n",
       "\n",
       "mpl.figure.prototype.handle_cursor = function(fig, msg) {\n",
       "    var cursor = msg['cursor'];\n",
       "    switch(cursor)\n",
       "    {\n",
       "    case 0:\n",
       "        cursor = 'pointer';\n",
       "        break;\n",
       "    case 1:\n",
       "        cursor = 'default';\n",
       "        break;\n",
       "    case 2:\n",
       "        cursor = 'crosshair';\n",
       "        break;\n",
       "    case 3:\n",
       "        cursor = 'move';\n",
       "        break;\n",
       "    }\n",
       "    fig.rubberband_canvas.style.cursor = cursor;\n",
       "}\n",
       "\n",
       "mpl.figure.prototype.handle_message = function(fig, msg) {\n",
       "    fig.message.textContent = msg['message'];\n",
       "}\n",
       "\n",
       "mpl.figure.prototype.handle_draw = function(fig, msg) {\n",
       "    // Request the server to send over a new figure.\n",
       "    fig.send_draw_message();\n",
       "}\n",
       "\n",
       "mpl.figure.prototype.handle_image_mode = function(fig, msg) {\n",
       "    fig.image_mode = msg['mode'];\n",
       "}\n",
       "\n",
       "mpl.figure.prototype.updated_canvas_event = function() {\n",
       "    // Called whenever the canvas gets updated.\n",
       "    this.send_message(\"ack\", {});\n",
       "}\n",
       "\n",
       "// A function to construct a web socket function for onmessage handling.\n",
       "// Called in the figure constructor.\n",
       "mpl.figure.prototype._make_on_message_function = function(fig) {\n",
       "    return function socket_on_message(evt) {\n",
       "        if (evt.data instanceof Blob) {\n",
       "            /* FIXME: We get \"Resource interpreted as Image but\n",
       "             * transferred with MIME type text/plain:\" errors on\n",
       "             * Chrome.  But how to set the MIME type?  It doesn't seem\n",
       "             * to be part of the websocket stream */\n",
       "            evt.data.type = \"image/png\";\n",
       "\n",
       "            /* Free the memory for the previous frames */\n",
       "            if (fig.imageObj.src) {\n",
       "                (window.URL || window.webkitURL).revokeObjectURL(\n",
       "                    fig.imageObj.src);\n",
       "            }\n",
       "\n",
       "            fig.imageObj.src = (window.URL || window.webkitURL).createObjectURL(\n",
       "                evt.data);\n",
       "            fig.updated_canvas_event();\n",
       "            fig.waiting = false;\n",
       "            return;\n",
       "        }\n",
       "        else if (typeof evt.data === 'string' && evt.data.slice(0, 21) == \"data:image/png;base64\") {\n",
       "            fig.imageObj.src = evt.data;\n",
       "            fig.updated_canvas_event();\n",
       "            fig.waiting = false;\n",
       "            return;\n",
       "        }\n",
       "\n",
       "        var msg = JSON.parse(evt.data);\n",
       "        var msg_type = msg['type'];\n",
       "\n",
       "        // Call the  \"handle_{type}\" callback, which takes\n",
       "        // the figure and JSON message as its only arguments.\n",
       "        try {\n",
       "            var callback = fig[\"handle_\" + msg_type];\n",
       "        } catch (e) {\n",
       "            console.log(\"No handler for the '\" + msg_type + \"' message type: \", msg);\n",
       "            return;\n",
       "        }\n",
       "\n",
       "        if (callback) {\n",
       "            try {\n",
       "                // console.log(\"Handling '\" + msg_type + \"' message: \", msg);\n",
       "                callback(fig, msg);\n",
       "            } catch (e) {\n",
       "                console.log(\"Exception inside the 'handler_\" + msg_type + \"' callback:\", e, e.stack, msg);\n",
       "            }\n",
       "        }\n",
       "    };\n",
       "}\n",
       "\n",
       "// from http://stackoverflow.com/questions/1114465/getting-mouse-location-in-canvas\n",
       "mpl.findpos = function(e) {\n",
       "    //this section is from http://www.quirksmode.org/js/events_properties.html\n",
       "    var targ;\n",
       "    if (!e)\n",
       "        e = window.event;\n",
       "    if (e.target)\n",
       "        targ = e.target;\n",
       "    else if (e.srcElement)\n",
       "        targ = e.srcElement;\n",
       "    if (targ.nodeType == 3) // defeat Safari bug\n",
       "        targ = targ.parentNode;\n",
       "\n",
       "    // jQuery normalizes the pageX and pageY\n",
       "    // pageX,Y are the mouse positions relative to the document\n",
       "    // offset() returns the position of the element relative to the document\n",
       "    var x = e.pageX - $(targ).offset().left;\n",
       "    var y = e.pageY - $(targ).offset().top;\n",
       "\n",
       "    return {\"x\": x, \"y\": y};\n",
       "};\n",
       "\n",
       "/*\n",
       " * return a copy of an object with only non-object keys\n",
       " * we need this to avoid circular references\n",
       " * http://stackoverflow.com/a/24161582/3208463\n",
       " */\n",
       "function simpleKeys (original) {\n",
       "  return Object.keys(original).reduce(function (obj, key) {\n",
       "    if (typeof original[key] !== 'object')\n",
       "        obj[key] = original[key]\n",
       "    return obj;\n",
       "  }, {});\n",
       "}\n",
       "\n",
       "mpl.figure.prototype.mouse_event = function(event, name) {\n",
       "    var canvas_pos = mpl.findpos(event)\n",
       "\n",
       "    if (name === 'button_press')\n",
       "    {\n",
       "        this.canvas.focus();\n",
       "        this.canvas_div.focus();\n",
       "    }\n",
       "\n",
       "    var x = canvas_pos.x * mpl.ratio;\n",
       "    var y = canvas_pos.y * mpl.ratio;\n",
       "\n",
       "    this.send_message(name, {x: x, y: y, button: event.button,\n",
       "                             step: event.step,\n",
       "                             guiEvent: simpleKeys(event)});\n",
       "\n",
       "    /* This prevents the web browser from automatically changing to\n",
       "     * the text insertion cursor when the button is pressed.  We want\n",
       "     * to control all of the cursor setting manually through the\n",
       "     * 'cursor' event from matplotlib */\n",
       "    event.preventDefault();\n",
       "    return false;\n",
       "}\n",
       "\n",
       "mpl.figure.prototype._key_event_extra = function(event, name) {\n",
       "    // Handle any extra behaviour associated with a key event\n",
       "}\n",
       "\n",
       "mpl.figure.prototype.key_event = function(event, name) {\n",
       "\n",
       "    // Prevent repeat events\n",
       "    if (name == 'key_press')\n",
       "    {\n",
       "        if (event.which === this._key)\n",
       "            return;\n",
       "        else\n",
       "            this._key = event.which;\n",
       "    }\n",
       "    if (name == 'key_release')\n",
       "        this._key = null;\n",
       "\n",
       "    var value = '';\n",
       "    if (event.ctrlKey && event.which != 17)\n",
       "        value += \"ctrl+\";\n",
       "    if (event.altKey && event.which != 18)\n",
       "        value += \"alt+\";\n",
       "    if (event.shiftKey && event.which != 16)\n",
       "        value += \"shift+\";\n",
       "\n",
       "    value += 'k';\n",
       "    value += event.which.toString();\n",
       "\n",
       "    this._key_event_extra(event, name);\n",
       "\n",
       "    this.send_message(name, {key: value,\n",
       "                             guiEvent: simpleKeys(event)});\n",
       "    return false;\n",
       "}\n",
       "\n",
       "mpl.figure.prototype.toolbar_button_onclick = function(name) {\n",
       "    if (name == 'download') {\n",
       "        this.handle_save(this, null);\n",
       "    } else {\n",
       "        this.send_message(\"toolbar_button\", {name: name});\n",
       "    }\n",
       "};\n",
       "\n",
       "mpl.figure.prototype.toolbar_button_onmouseover = function(tooltip) {\n",
       "    this.message.textContent = tooltip;\n",
       "};\n",
       "mpl.toolbar_items = [[\"Home\", \"Reset original view\", \"fa fa-home icon-home\", \"home\"], [\"Back\", \"Back to previous view\", \"fa fa-arrow-left icon-arrow-left\", \"back\"], [\"Forward\", \"Forward to next view\", \"fa fa-arrow-right icon-arrow-right\", \"forward\"], [\"\", \"\", \"\", \"\"], [\"Pan\", \"Pan axes with left mouse, zoom with right\", \"fa fa-arrows icon-move\", \"pan\"], [\"Zoom\", \"Zoom to rectangle\", \"fa fa-square-o icon-check-empty\", \"zoom\"], [\"\", \"\", \"\", \"\"], [\"Download\", \"Download plot\", \"fa fa-floppy-o icon-save\", \"download\"]];\n",
       "\n",
       "mpl.extensions = [\"eps\", \"jpeg\", \"pdf\", \"png\", \"ps\", \"raw\", \"svg\", \"tif\"];\n",
       "\n",
       "mpl.default_extension = \"png\";var comm_websocket_adapter = function(comm) {\n",
       "    // Create a \"websocket\"-like object which calls the given IPython comm\n",
       "    // object with the appropriate methods. Currently this is a non binary\n",
       "    // socket, so there is still some room for performance tuning.\n",
       "    var ws = {};\n",
       "\n",
       "    ws.close = function() {\n",
       "        comm.close()\n",
       "    };\n",
       "    ws.send = function(m) {\n",
       "        //console.log('sending', m);\n",
       "        comm.send(m);\n",
       "    };\n",
       "    // Register the callback with on_msg.\n",
       "    comm.on_msg(function(msg) {\n",
       "        //console.log('receiving', msg['content']['data'], msg);\n",
       "        // Pass the mpl event to the overridden (by mpl) onmessage function.\n",
       "        ws.onmessage(msg['content']['data'])\n",
       "    });\n",
       "    return ws;\n",
       "}\n",
       "\n",
       "mpl.mpl_figure_comm = function(comm, msg) {\n",
       "    // This is the function which gets called when the mpl process\n",
       "    // starts-up an IPython Comm through the \"matplotlib\" channel.\n",
       "\n",
       "    var id = msg.content.data.id;\n",
       "    // Get hold of the div created by the display call when the Comm\n",
       "    // socket was opened in Python.\n",
       "    var element = $(\"#\" + id);\n",
       "    var ws_proxy = comm_websocket_adapter(comm)\n",
       "\n",
       "    function ondownload(figure, format) {\n",
       "        window.open(figure.imageObj.src);\n",
       "    }\n",
       "\n",
       "    var fig = new mpl.figure(id, ws_proxy,\n",
       "                           ondownload,\n",
       "                           element.get(0));\n",
       "\n",
       "    // Call onopen now - mpl needs it, as it is assuming we've passed it a real\n",
       "    // web socket which is closed, not our websocket->open comm proxy.\n",
       "    ws_proxy.onopen();\n",
       "\n",
       "    fig.parent_element = element.get(0);\n",
       "    fig.cell_info = mpl.find_output_cell(\"<div id='\" + id + \"'></div>\");\n",
       "    if (!fig.cell_info) {\n",
       "        console.error(\"Failed to find cell for figure\", id, fig);\n",
       "        return;\n",
       "    }\n",
       "\n",
       "    var output_index = fig.cell_info[2]\n",
       "    var cell = fig.cell_info[0];\n",
       "\n",
       "};\n",
       "\n",
       "mpl.figure.prototype.handle_close = function(fig, msg) {\n",
       "    var width = fig.canvas.width/mpl.ratio\n",
       "    fig.root.unbind('remove')\n",
       "\n",
       "    // Update the output cell to use the data from the current canvas.\n",
       "    fig.push_to_output();\n",
       "    var dataURL = fig.canvas.toDataURL();\n",
       "    // Re-enable the keyboard manager in IPython - without this line, in FF,\n",
       "    // the notebook keyboard shortcuts fail.\n",
       "    IPython.keyboard_manager.enable()\n",
       "    $(fig.parent_element).html('<img src=\"' + dataURL + '\" width=\"' + width + '\">');\n",
       "    fig.close_ws(fig, msg);\n",
       "}\n",
       "\n",
       "mpl.figure.prototype.close_ws = function(fig, msg){\n",
       "    fig.send_message('closing', msg);\n",
       "    // fig.ws.close()\n",
       "}\n",
       "\n",
       "mpl.figure.prototype.push_to_output = function(remove_interactive) {\n",
       "    // Turn the data on the canvas into data in the output cell.\n",
       "    var width = this.canvas.width/mpl.ratio\n",
       "    var dataURL = this.canvas.toDataURL();\n",
       "    this.cell_info[1]['text/html'] = '<img src=\"' + dataURL + '\" width=\"' + width + '\">';\n",
       "}\n",
       "\n",
       "mpl.figure.prototype.updated_canvas_event = function() {\n",
       "    // Tell IPython that the notebook contents must change.\n",
       "    IPython.notebook.set_dirty(true);\n",
       "    this.send_message(\"ack\", {});\n",
       "    var fig = this;\n",
       "    // Wait a second, then push the new image to the DOM so\n",
       "    // that it is saved nicely (might be nice to debounce this).\n",
       "    setTimeout(function () { fig.push_to_output() }, 1000);\n",
       "}\n",
       "\n",
       "mpl.figure.prototype._init_toolbar = function() {\n",
       "    var fig = this;\n",
       "\n",
       "    var nav_element = $('<div/>');\n",
       "    nav_element.attr('style', 'width: 100%');\n",
       "    this.root.append(nav_element);\n",
       "\n",
       "    // Define a callback function for later on.\n",
       "    function toolbar_event(event) {\n",
       "        return fig.toolbar_button_onclick(event['data']);\n",
       "    }\n",
       "    function toolbar_mouse_event(event) {\n",
       "        return fig.toolbar_button_onmouseover(event['data']);\n",
       "    }\n",
       "\n",
       "    for(var toolbar_ind in mpl.toolbar_items){\n",
       "        var name = mpl.toolbar_items[toolbar_ind][0];\n",
       "        var tooltip = mpl.toolbar_items[toolbar_ind][1];\n",
       "        var image = mpl.toolbar_items[toolbar_ind][2];\n",
       "        var method_name = mpl.toolbar_items[toolbar_ind][3];\n",
       "\n",
       "        if (!name) { continue; };\n",
       "\n",
       "        var button = $('<button class=\"btn btn-default\" href=\"#\" title=\"' + name + '\"><i class=\"fa ' + image + ' fa-lg\"></i></button>');\n",
       "        button.click(method_name, toolbar_event);\n",
       "        button.mouseover(tooltip, toolbar_mouse_event);\n",
       "        nav_element.append(button);\n",
       "    }\n",
       "\n",
       "    // Add the status bar.\n",
       "    var status_bar = $('<span class=\"mpl-message\" style=\"text-align:right; float: right;\"/>');\n",
       "    nav_element.append(status_bar);\n",
       "    this.message = status_bar[0];\n",
       "\n",
       "    // Add the close button to the window.\n",
       "    var buttongrp = $('<div class=\"btn-group inline pull-right\"></div>');\n",
       "    var button = $('<button class=\"btn btn-mini btn-primary\" href=\"#\" title=\"Stop Interaction\"><i class=\"fa fa-power-off icon-remove icon-large\"></i></button>');\n",
       "    button.click(function (evt) { fig.handle_close(fig, {}); } );\n",
       "    button.mouseover('Stop Interaction', toolbar_mouse_event);\n",
       "    buttongrp.append(button);\n",
       "    var titlebar = this.root.find($('.ui-dialog-titlebar'));\n",
       "    titlebar.prepend(buttongrp);\n",
       "}\n",
       "\n",
       "mpl.figure.prototype._root_extra_style = function(el){\n",
       "    var fig = this\n",
       "    el.on(\"remove\", function(){\n",
       "\tfig.close_ws(fig, {});\n",
       "    });\n",
       "}\n",
       "\n",
       "mpl.figure.prototype._canvas_extra_style = function(el){\n",
       "    // this is important to make the div 'focusable\n",
       "    el.attr('tabindex', 0)\n",
       "    // reach out to IPython and tell the keyboard manager to turn it's self\n",
       "    // off when our div gets focus\n",
       "\n",
       "    // location in version 3\n",
       "    if (IPython.notebook.keyboard_manager) {\n",
       "        IPython.notebook.keyboard_manager.register_events(el);\n",
       "    }\n",
       "    else {\n",
       "        // location in version 2\n",
       "        IPython.keyboard_manager.register_events(el);\n",
       "    }\n",
       "\n",
       "}\n",
       "\n",
       "mpl.figure.prototype._key_event_extra = function(event, name) {\n",
       "    var manager = IPython.notebook.keyboard_manager;\n",
       "    if (!manager)\n",
       "        manager = IPython.keyboard_manager;\n",
       "\n",
       "    // Check for shift+enter\n",
       "    if (event.shiftKey && event.which == 13) {\n",
       "        this.canvas_div.blur();\n",
       "        // select the cell after this one\n",
       "        var index = IPython.notebook.find_cell_index(this.cell_info[0]);\n",
       "        IPython.notebook.select(index + 1);\n",
       "    }\n",
       "}\n",
       "\n",
       "mpl.figure.prototype.handle_save = function(fig, msg) {\n",
       "    fig.ondownload(fig, null);\n",
       "}\n",
       "\n",
       "\n",
       "mpl.find_output_cell = function(html_output) {\n",
       "    // Return the cell and output element which can be found *uniquely* in the notebook.\n",
       "    // Note - this is a bit hacky, but it is done because the \"notebook_saving.Notebook\"\n",
       "    // IPython event is triggered only after the cells have been serialised, which for\n",
       "    // our purposes (turning an active figure into a static one), is too late.\n",
       "    var cells = IPython.notebook.get_cells();\n",
       "    var ncells = cells.length;\n",
       "    for (var i=0; i<ncells; i++) {\n",
       "        var cell = cells[i];\n",
       "        if (cell.cell_type === 'code'){\n",
       "            for (var j=0; j<cell.output_area.outputs.length; j++) {\n",
       "                var data = cell.output_area.outputs[j];\n",
       "                if (data.data) {\n",
       "                    // IPython >= 3 moved mimebundle to data attribute of output\n",
       "                    data = data.data;\n",
       "                }\n",
       "                if (data['text/html'] == html_output) {\n",
       "                    return [cell, data, j];\n",
       "                }\n",
       "            }\n",
       "        }\n",
       "    }\n",
       "}\n",
       "\n",
       "// Register the function which deals with the matplotlib target/channel.\n",
       "// The kernel may be null if the page has been refreshed.\n",
       "if (IPython.notebook.kernel != null) {\n",
       "    IPython.notebook.kernel.comm_manager.register_target('matplotlib', mpl.mpl_figure_comm);\n",
       "}\n"
      ],
      "text/plain": [
       "<IPython.core.display.Javascript object>"
      ]
     },
     "metadata": {},
     "output_type": "display_data"
    },
    {
     "data": {
      "text/html": [
       "<img src=\"data:image/png;base64,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\" width=\"720\">"
      ],
      "text/plain": [
       "<IPython.core.display.HTML object>"
      ]
     },
     "metadata": {},
     "output_type": "display_data"
    }
   ],
   "source": [
    "plot_3d(X, y, b)"
   ]
  },
  {
   "cell_type": "code",
   "execution_count": null,
   "metadata": {},
   "outputs": [],
   "source": []
  }
 ],
 "metadata": {
  "kernelspec": {
   "display_name": "Python 3",
   "language": "python",
   "name": "python3"
  },
  "language_info": {
   "codemirror_mode": {
    "name": "ipython",
    "version": 3
   },
   "file_extension": ".py",
   "mimetype": "text/x-python",
   "name": "python",
   "nbconvert_exporter": "python",
   "pygments_lexer": "ipython3",
   "version": "3.8.3"
  },
  "toc": {
   "base_numbering": 1,
   "nav_menu": {},
   "number_sections": true,
   "sideBar": true,
   "skip_h1_title": false,
   "title_cell": "Table of Contents",
   "title_sidebar": "Contents",
   "toc_cell": true,
   "toc_position": {},
   "toc_section_display": true,
   "toc_window_display": false
  },
  "varInspector": {
   "cols": {
    "lenName": 16,
    "lenType": 16,
    "lenVar": 40
   },
   "kernels_config": {
    "python": {
     "delete_cmd_postfix": "",
     "delete_cmd_prefix": "del ",
     "library": "var_list.py",
     "varRefreshCmd": "print(var_dic_list())"
    },
    "r": {
     "delete_cmd_postfix": ") ",
     "delete_cmd_prefix": "rm(",
     "library": "var_list.r",
     "varRefreshCmd": "cat(var_dic_list()) "
    }
   },
   "types_to_exclude": [
    "module",
    "function",
    "builtin_function_or_method",
    "instance",
    "_Feature"
   ],
   "window_display": false
  }
 },
 "nbformat": 4,
 "nbformat_minor": 2
}
