{
 "cells": [
  {
   "cell_type": "markdown",
   "metadata": {
    "toc": true
   },
   "source": [
    "<h1>Table of Contents<span class=\"tocSkip\"></span></h1>\n",
    "<div class=\"toc\"><ul class=\"toc-item\"><li><span><a href=\"#Import-data\" data-toc-modified-id=\"Import-data-1\"><span class=\"toc-item-num\">1&nbsp;&nbsp;</span>Import data</a></span></li><li><span><a href=\"#Q1\" data-toc-modified-id=\"Q1-2\"><span class=\"toc-item-num\">2&nbsp;&nbsp;</span>Q1</a></span></li><li><span><a href=\"#Q2\" data-toc-modified-id=\"Q2-3\"><span class=\"toc-item-num\">3&nbsp;&nbsp;</span>Q2</a></span></li><li><span><a href=\"#Q3\" data-toc-modified-id=\"Q3-4\"><span class=\"toc-item-num\">4&nbsp;&nbsp;</span>Q3</a></span></li><li><span><a href=\"#Q4\" data-toc-modified-id=\"Q4-5\"><span class=\"toc-item-num\">5&nbsp;&nbsp;</span>Q4</a></span><ul class=\"toc-item\"><li><span><a href=\"#Include-users-with-only-1-record\" data-toc-modified-id=\"Include-users-with-only-1-record-5.1\"><span class=\"toc-item-num\">5.1&nbsp;&nbsp;</span>Include users with only 1 record</a></span></li><li><span><a href=\"#Ignore-users-with-only-1-record\" data-toc-modified-id=\"Ignore-users-with-only-1-record-5.2\"><span class=\"toc-item-num\">5.2&nbsp;&nbsp;</span>Ignore users with only 1 record</a></span></li></ul></li></ul></div>"
   ]
  },
  {
   "cell_type": "markdown",
   "metadata": {},
   "source": [
    "* Author: Stephanie Jung"
   ]
  },
  {
   "cell_type": "markdown",
   "metadata": {},
   "source": [
    "# Import data"
   ]
  },
  {
   "cell_type": "code",
   "execution_count": 4,
   "metadata": {
    "ExecuteTime": {
     "end_time": "2020-05-23T23:19:31.898559Z",
     "start_time": "2020-05-23T23:19:31.895332Z"
    }
   },
   "outputs": [],
   "source": [
    "import pandas as pd\n",
    "from sqlalchemy import create_engine, text\n",
    "pd.options.display.max_rows=10"
   ]
  },
  {
   "cell_type": "code",
   "execution_count": 5,
   "metadata": {
    "ExecuteTime": {
     "end_time": "2020-05-23T23:20:16.281782Z",
     "start_time": "2020-05-23T23:20:16.168819Z"
    }
   },
   "outputs": [],
   "source": [
    "engine = create_engine('sqlite://')\n",
    "df = pd.read_csv('q1_data.csv', parse_dates=['ts']).to_sql('db', engine, if_exists='replace', index=False)"
   ]
  },
  {
   "cell_type": "code",
   "execution_count": 6,
   "metadata": {
    "ExecuteTime": {
     "end_time": "2020-05-23T23:20:51.217668Z",
     "start_time": "2020-05-23T23:20:51.214421Z"
    }
   },
   "outputs": [],
   "source": [
    "def runQuery(sql):\n",
    "    result = engine.connect().execute((text(sql)))\n",
    "    return pd.DataFrame(result.fetchall(), columns=result.keys())"
   ]
  },
  {
   "cell_type": "code",
   "execution_count": 7,
   "metadata": {
    "ExecuteTime": {
     "end_time": "2020-05-23T23:21:40.307112Z",
     "start_time": "2020-05-23T23:21:40.278078Z"
    }
   },
   "outputs": [
    {
     "data": {
      "text/html": [
       "<div>\n",
       "<style scoped>\n",
       "    .dataframe tbody tr th:only-of-type {\n",
       "        vertical-align: middle;\n",
       "    }\n",
       "\n",
       "    .dataframe tbody tr th {\n",
       "        vertical-align: top;\n",
       "    }\n",
       "\n",
       "    .dataframe thead th {\n",
       "        text-align: right;\n",
       "    }\n",
       "</style>\n",
       "<table border=\"1\" class=\"dataframe\">\n",
       "  <thead>\n",
       "    <tr style=\"text-align: right;\">\n",
       "      <th></th>\n",
       "      <th>ts</th>\n",
       "      <th>user_id</th>\n",
       "      <th>country_id</th>\n",
       "      <th>site_id</th>\n",
       "    </tr>\n",
       "  </thead>\n",
       "  <tbody>\n",
       "    <tr>\n",
       "      <th>0</th>\n",
       "      <td>2019-02-01 00:01:24.000000</td>\n",
       "      <td>LC36FC</td>\n",
       "      <td>TL6</td>\n",
       "      <td>N0OTG</td>\n",
       "    </tr>\n",
       "    <tr>\n",
       "      <th>1</th>\n",
       "      <td>2019-02-01 00:10:19.000000</td>\n",
       "      <td>LC39B6</td>\n",
       "      <td>TL6</td>\n",
       "      <td>N0OTG</td>\n",
       "    </tr>\n",
       "    <tr>\n",
       "      <th>2</th>\n",
       "      <td>2019-02-01 00:21:50.000000</td>\n",
       "      <td>LC3500</td>\n",
       "      <td>TL6</td>\n",
       "      <td>N0OTG</td>\n",
       "    </tr>\n",
       "    <tr>\n",
       "      <th>3</th>\n",
       "      <td>2019-02-01 00:22:50.000000</td>\n",
       "      <td>LC374F</td>\n",
       "      <td>TL6</td>\n",
       "      <td>N0OTG</td>\n",
       "    </tr>\n",
       "    <tr>\n",
       "      <th>4</th>\n",
       "      <td>2019-02-01 00:23:44.000000</td>\n",
       "      <td>LCC1C3</td>\n",
       "      <td>TL6</td>\n",
       "      <td>QGO3G</td>\n",
       "    </tr>\n",
       "    <tr>\n",
       "      <th>...</th>\n",
       "      <td>...</td>\n",
       "      <td>...</td>\n",
       "      <td>...</td>\n",
       "      <td>...</td>\n",
       "    </tr>\n",
       "    <tr>\n",
       "      <th>3548</th>\n",
       "      <td>2019-02-07 23:56:57.000000</td>\n",
       "      <td>LC3F13</td>\n",
       "      <td>TL6</td>\n",
       "      <td>QGO3G</td>\n",
       "    </tr>\n",
       "    <tr>\n",
       "      <th>3549</th>\n",
       "      <td>2019-02-07 23:58:36.000000</td>\n",
       "      <td>LC3842</td>\n",
       "      <td>HVQ</td>\n",
       "      <td>3POLC</td>\n",
       "    </tr>\n",
       "    <tr>\n",
       "      <th>3550</th>\n",
       "      <td>2019-02-07 23:58:56.000000</td>\n",
       "      <td>LC35EB</td>\n",
       "      <td>TL6</td>\n",
       "      <td>QGO3G</td>\n",
       "    </tr>\n",
       "    <tr>\n",
       "      <th>3551</th>\n",
       "      <td>2019-02-07 23:59:19.000000</td>\n",
       "      <td>LC3842</td>\n",
       "      <td>HVQ</td>\n",
       "      <td>3POLC</td>\n",
       "    </tr>\n",
       "    <tr>\n",
       "      <th>3552</th>\n",
       "      <td>2019-02-07 23:59:37.000000</td>\n",
       "      <td>LC3842</td>\n",
       "      <td>HVQ</td>\n",
       "      <td>3POLC</td>\n",
       "    </tr>\n",
       "  </tbody>\n",
       "</table>\n",
       "<p>3553 rows × 4 columns</p>\n",
       "</div>"
      ],
      "text/plain": [
       "                              ts user_id country_id site_id\n",
       "0     2019-02-01 00:01:24.000000  LC36FC        TL6   N0OTG\n",
       "1     2019-02-01 00:10:19.000000  LC39B6        TL6   N0OTG\n",
       "2     2019-02-01 00:21:50.000000  LC3500        TL6   N0OTG\n",
       "3     2019-02-01 00:22:50.000000  LC374F        TL6   N0OTG\n",
       "4     2019-02-01 00:23:44.000000  LCC1C3        TL6   QGO3G\n",
       "...                          ...     ...        ...     ...\n",
       "3548  2019-02-07 23:56:57.000000  LC3F13        TL6   QGO3G\n",
       "3549  2019-02-07 23:58:36.000000  LC3842        HVQ   3POLC\n",
       "3550  2019-02-07 23:58:56.000000  LC35EB        TL6   QGO3G\n",
       "3551  2019-02-07 23:59:19.000000  LC3842        HVQ   3POLC\n",
       "3552  2019-02-07 23:59:37.000000  LC3842        HVQ   3POLC\n",
       "\n",
       "[3553 rows x 4 columns]"
      ]
     },
     "execution_count": 7,
     "metadata": {},
     "output_type": "execute_result"
    }
   ],
   "source": [
    "q = \"\"\"SELECT *\n",
    "FROM db\n",
    "\"\"\"\n",
    "runQuery(q)"
   ]
  },
  {
   "cell_type": "markdown",
   "metadata": {},
   "source": [
    "# Q1"
   ]
  },
  {
   "cell_type": "markdown",
   "metadata": {},
   "source": [
    "Consider only the rows with country_id = \"BDV\" (there are 844 such rows). For each site_id, we can compute the number of unique user_id's found in these 844 rows. Which site_id has the largest number of unique users? And what's the number?"
   ]
  },
  {
   "cell_type": "code",
   "execution_count": 24,
   "metadata": {
    "ExecuteTime": {
     "end_time": "2020-05-24T00:47:08.739021Z",
     "start_time": "2020-05-24T00:47:08.729934Z"
    }
   },
   "outputs": [
    {
     "data": {
      "text/html": [
       "<div>\n",
       "<style scoped>\n",
       "    .dataframe tbody tr th:only-of-type {\n",
       "        vertical-align: middle;\n",
       "    }\n",
       "\n",
       "    .dataframe tbody tr th {\n",
       "        vertical-align: top;\n",
       "    }\n",
       "\n",
       "    .dataframe thead th {\n",
       "        text-align: right;\n",
       "    }\n",
       "</style>\n",
       "<table border=\"1\" class=\"dataframe\">\n",
       "  <thead>\n",
       "    <tr style=\"text-align: right;\">\n",
       "      <th></th>\n",
       "      <th>country_id</th>\n",
       "      <th>site_id</th>\n",
       "      <th>nunique_user</th>\n",
       "    </tr>\n",
       "  </thead>\n",
       "  <tbody>\n",
       "    <tr>\n",
       "      <th>0</th>\n",
       "      <td>BDV</td>\n",
       "      <td>5NPAU</td>\n",
       "      <td>544</td>\n",
       "    </tr>\n",
       "  </tbody>\n",
       "</table>\n",
       "</div>"
      ],
      "text/plain": [
       "  country_id site_id  nunique_user\n",
       "0        BDV   5NPAU           544"
      ]
     },
     "execution_count": 24,
     "metadata": {},
     "output_type": "execute_result"
    }
   ],
   "source": [
    "q = \"\"\"\n",
    "SELECT country_id, site_id, count(DISTINCT user_id) as nunique_user\n",
    "FROM db\n",
    "WHERE country_id = \"BDV\"\n",
    "GROUP BY site_id\n",
    "ORDER BY 3 DESC\n",
    "LIMIT 1\n",
    "\"\"\"\n",
    "\n",
    "runQuery(q)"
   ]
  },
  {
   "cell_type": "markdown",
   "metadata": {},
   "source": [
    "# Q2"
   ]
  },
  {
   "cell_type": "markdown",
   "metadata": {},
   "source": [
    "Between 2019-02-03 00:00:00 and 2019-02-04 23:59:59, there are four users who visited a certain site more than 10 times. Find these four users & which sites they (each) visited more than 10 times. (Simply provides four triples in the form (user_id, site_id, number of visits) in the box below.)"
   ]
  },
  {
   "cell_type": "code",
   "execution_count": 35,
   "metadata": {
    "ExecuteTime": {
     "end_time": "2020-05-24T00:53:31.358032Z",
     "start_time": "2020-05-24T00:53:31.346144Z"
    }
   },
   "outputs": [
    {
     "data": {
      "text/html": [
       "<div>\n",
       "<style scoped>\n",
       "    .dataframe tbody tr th:only-of-type {\n",
       "        vertical-align: middle;\n",
       "    }\n",
       "\n",
       "    .dataframe tbody tr th {\n",
       "        vertical-align: top;\n",
       "    }\n",
       "\n",
       "    .dataframe thead th {\n",
       "        text-align: right;\n",
       "    }\n",
       "</style>\n",
       "<table border=\"1\" class=\"dataframe\">\n",
       "  <thead>\n",
       "    <tr style=\"text-align: right;\">\n",
       "      <th></th>\n",
       "      <th>ts</th>\n",
       "      <th>user_id</th>\n",
       "      <th>site_id</th>\n",
       "      <th>nunique_visits</th>\n",
       "    </tr>\n",
       "  </thead>\n",
       "  <tbody>\n",
       "    <tr>\n",
       "      <th>0</th>\n",
       "      <td>2019-02-03 19:48:09.000000</td>\n",
       "      <td>LC06C3</td>\n",
       "      <td>N0OTG</td>\n",
       "      <td>25</td>\n",
       "    </tr>\n",
       "    <tr>\n",
       "      <th>1</th>\n",
       "      <td>2019-02-03 02:05:39.000000</td>\n",
       "      <td>LC3A59</td>\n",
       "      <td>N0OTG</td>\n",
       "      <td>26</td>\n",
       "    </tr>\n",
       "    <tr>\n",
       "      <th>2</th>\n",
       "      <td>2019-02-03 00:02:31.000000</td>\n",
       "      <td>LC3C7E</td>\n",
       "      <td>3POLC</td>\n",
       "      <td>15</td>\n",
       "    </tr>\n",
       "    <tr>\n",
       "      <th>3</th>\n",
       "      <td>2019-02-04 06:11:19.000000</td>\n",
       "      <td>LC3C9D</td>\n",
       "      <td>N0OTG</td>\n",
       "      <td>17</td>\n",
       "    </tr>\n",
       "  </tbody>\n",
       "</table>\n",
       "</div>"
      ],
      "text/plain": [
       "                           ts user_id site_id  nunique_visits\n",
       "0  2019-02-03 19:48:09.000000  LC06C3   N0OTG              25\n",
       "1  2019-02-03 02:05:39.000000  LC3A59   N0OTG              26\n",
       "2  2019-02-03 00:02:31.000000  LC3C7E   3POLC              15\n",
       "3  2019-02-04 06:11:19.000000  LC3C9D   N0OTG              17"
      ]
     },
     "execution_count": 35,
     "metadata": {},
     "output_type": "execute_result"
    }
   ],
   "source": [
    "q = \"\"\"\n",
    "SELECT ts, user_id, site_id, COUNT(DISTINCT ts) as nunique_visits\n",
    "FROM db\n",
    "WHERE ts BETWEEN '2019-02-03 00:00:00' AND '2019-02-04 23:59:59'\n",
    "GROUP BY user_id, site_id\n",
    "HAVING nunique_visits > 10\n",
    "\"\"\"\n",
    "runQuery(q)"
   ]
  },
  {
   "cell_type": "markdown",
   "metadata": {},
   "source": [
    "# Q3"
   ]
  },
  {
   "cell_type": "markdown",
   "metadata": {},
   "source": [
    "For each site, compute the unique number of users whose last visit (found in the original data set) was to that site. For instance, user \"LC3561\"'s last visit is to \"N0OTG\" based on timestamp data. Based on this measure, what are top three sites? (hint: site \"3POLC\" is ranked at 5th with 28 users whose last visit in the data set was to 3POLC; simply provide three pairs in the form (site_id, number of users).)"
   ]
  },
  {
   "cell_type": "markdown",
   "metadata": {},
   "source": [
    "First, get the last 'ts' for each user."
   ]
  },
  {
   "cell_type": "code",
   "execution_count": 136,
   "metadata": {
    "ExecuteTime": {
     "end_time": "2020-05-24T06:39:24.781338Z",
     "start_time": "2020-05-24T06:39:24.756753Z"
    }
   },
   "outputs": [
    {
     "data": {
      "text/html": [
       "<div>\n",
       "<style scoped>\n",
       "    .dataframe tbody tr th:only-of-type {\n",
       "        vertical-align: middle;\n",
       "    }\n",
       "\n",
       "    .dataframe tbody tr th {\n",
       "        vertical-align: top;\n",
       "    }\n",
       "\n",
       "    .dataframe thead th {\n",
       "        text-align: right;\n",
       "    }\n",
       "</style>\n",
       "<table border=\"1\" class=\"dataframe\">\n",
       "  <thead>\n",
       "    <tr style=\"text-align: right;\">\n",
       "      <th></th>\n",
       "      <th>user_id</th>\n",
       "      <th>last_ts</th>\n",
       "    </tr>\n",
       "  </thead>\n",
       "  <tbody>\n",
       "    <tr>\n",
       "      <th>0</th>\n",
       "      <td>LC00C3</td>\n",
       "      <td>2019-02-03 18:52:50.000000</td>\n",
       "    </tr>\n",
       "    <tr>\n",
       "      <th>1</th>\n",
       "      <td>LC01C3</td>\n",
       "      <td>2019-02-04 11:35:10.000000</td>\n",
       "    </tr>\n",
       "    <tr>\n",
       "      <th>2</th>\n",
       "      <td>LC05C3</td>\n",
       "      <td>2019-02-02 14:14:44.000000</td>\n",
       "    </tr>\n",
       "    <tr>\n",
       "      <th>3</th>\n",
       "      <td>LC06C3</td>\n",
       "      <td>2019-02-07 01:16:12.000000</td>\n",
       "    </tr>\n",
       "    <tr>\n",
       "      <th>4</th>\n",
       "      <td>LC07C3</td>\n",
       "      <td>2019-02-05 19:06:42.000000</td>\n",
       "    </tr>\n",
       "    <tr>\n",
       "      <th>...</th>\n",
       "      <td>...</td>\n",
       "      <td>...</td>\n",
       "    </tr>\n",
       "    <tr>\n",
       "      <th>1911</th>\n",
       "      <td>LCFC3B</td>\n",
       "      <td>2019-02-05 04:53:03.000000</td>\n",
       "    </tr>\n",
       "    <tr>\n",
       "      <th>1912</th>\n",
       "      <td>LCFC3D</td>\n",
       "      <td>2019-02-01 18:59:50.000000</td>\n",
       "    </tr>\n",
       "    <tr>\n",
       "      <th>1913</th>\n",
       "      <td>LCFC3E</td>\n",
       "      <td>2019-02-01 20:49:13.000000</td>\n",
       "    </tr>\n",
       "    <tr>\n",
       "      <th>1914</th>\n",
       "      <td>LCFEC3</td>\n",
       "      <td>2019-02-07 06:23:59.000000</td>\n",
       "    </tr>\n",
       "    <tr>\n",
       "      <th>1915</th>\n",
       "      <td>LCFFC3</td>\n",
       "      <td>2019-02-05 03:31:17.000000</td>\n",
       "    </tr>\n",
       "  </tbody>\n",
       "</table>\n",
       "<p>1916 rows × 2 columns</p>\n",
       "</div>"
      ],
      "text/plain": [
       "     user_id                     last_ts\n",
       "0     LC00C3  2019-02-03 18:52:50.000000\n",
       "1     LC01C3  2019-02-04 11:35:10.000000\n",
       "2     LC05C3  2019-02-02 14:14:44.000000\n",
       "3     LC06C3  2019-02-07 01:16:12.000000\n",
       "4     LC07C3  2019-02-05 19:06:42.000000\n",
       "...      ...                         ...\n",
       "1911  LCFC3B  2019-02-05 04:53:03.000000\n",
       "1912  LCFC3D  2019-02-01 18:59:50.000000\n",
       "1913  LCFC3E  2019-02-01 20:49:13.000000\n",
       "1914  LCFEC3  2019-02-07 06:23:59.000000\n",
       "1915  LCFFC3  2019-02-05 03:31:17.000000\n",
       "\n",
       "[1916 rows x 2 columns]"
      ]
     },
     "execution_count": 136,
     "metadata": {},
     "output_type": "execute_result"
    }
   ],
   "source": [
    "q = \"\"\"\n",
    "SELECT DISTINCT user_id, MAX(ts) OVER (PARTITION BY user_id) as last_ts\n",
    "FROM db\n",
    "\"\"\"\n",
    "runQuery(q)"
   ]
  },
  {
   "cell_type": "markdown",
   "metadata": {},
   "source": [
    "Then, join it with the original db to get the last visited site_id for each user."
   ]
  },
  {
   "cell_type": "code",
   "execution_count": 137,
   "metadata": {
    "ExecuteTime": {
     "end_time": "2020-05-24T06:40:13.091111Z",
     "start_time": "2020-05-24T06:40:13.061736Z"
    }
   },
   "outputs": [
    {
     "data": {
      "text/html": [
       "<div>\n",
       "<style scoped>\n",
       "    .dataframe tbody tr th:only-of-type {\n",
       "        vertical-align: middle;\n",
       "    }\n",
       "\n",
       "    .dataframe tbody tr th {\n",
       "        vertical-align: top;\n",
       "    }\n",
       "\n",
       "    .dataframe thead th {\n",
       "        text-align: right;\n",
       "    }\n",
       "</style>\n",
       "<table border=\"1\" class=\"dataframe\">\n",
       "  <thead>\n",
       "    <tr style=\"text-align: right;\">\n",
       "      <th></th>\n",
       "      <th>user_id</th>\n",
       "      <th>last_site</th>\n",
       "    </tr>\n",
       "  </thead>\n",
       "  <tbody>\n",
       "    <tr>\n",
       "      <th>0</th>\n",
       "      <td>LC39B6</td>\n",
       "      <td>N0OTG</td>\n",
       "    </tr>\n",
       "    <tr>\n",
       "      <th>1</th>\n",
       "      <td>LC3500</td>\n",
       "      <td>N0OTG</td>\n",
       "    </tr>\n",
       "    <tr>\n",
       "      <th>2</th>\n",
       "      <td>LCC1C3</td>\n",
       "      <td>QGO3G</td>\n",
       "    </tr>\n",
       "    <tr>\n",
       "      <th>3</th>\n",
       "      <td>LCC3C3</td>\n",
       "      <td>5NPAU</td>\n",
       "    </tr>\n",
       "    <tr>\n",
       "      <th>4</th>\n",
       "      <td>LC39C8</td>\n",
       "      <td>QGO3G</td>\n",
       "    </tr>\n",
       "    <tr>\n",
       "      <th>...</th>\n",
       "      <td>...</td>\n",
       "      <td>...</td>\n",
       "    </tr>\n",
       "    <tr>\n",
       "      <th>1911</th>\n",
       "      <td>LC3561</td>\n",
       "      <td>N0OTG</td>\n",
       "    </tr>\n",
       "    <tr>\n",
       "      <th>1912</th>\n",
       "      <td>LC3837</td>\n",
       "      <td>RT9Z6</td>\n",
       "    </tr>\n",
       "    <tr>\n",
       "      <th>1913</th>\n",
       "      <td>LC3F13</td>\n",
       "      <td>QGO3G</td>\n",
       "    </tr>\n",
       "    <tr>\n",
       "      <th>1914</th>\n",
       "      <td>LC35EB</td>\n",
       "      <td>QGO3G</td>\n",
       "    </tr>\n",
       "    <tr>\n",
       "      <th>1915</th>\n",
       "      <td>LC3842</td>\n",
       "      <td>3POLC</td>\n",
       "    </tr>\n",
       "  </tbody>\n",
       "</table>\n",
       "<p>1916 rows × 2 columns</p>\n",
       "</div>"
      ],
      "text/plain": [
       "     user_id last_site\n",
       "0     LC39B6     N0OTG\n",
       "1     LC3500     N0OTG\n",
       "2     LCC1C3     QGO3G\n",
       "3     LCC3C3     5NPAU\n",
       "4     LC39C8     QGO3G\n",
       "...      ...       ...\n",
       "1911  LC3561     N0OTG\n",
       "1912  LC3837     RT9Z6\n",
       "1913  LC3F13     QGO3G\n",
       "1914  LC35EB     QGO3G\n",
       "1915  LC3842     3POLC\n",
       "\n",
       "[1916 rows x 2 columns]"
      ]
     },
     "execution_count": 137,
     "metadata": {},
     "output_type": "execute_result"
    }
   ],
   "source": [
    "q = \"\"\"\n",
    "SELECT db.user_id, db.site_id as last_site\n",
    "FROM db\n",
    "JOIN\n",
    "(SELECT DISTINCT user_id, MAX(ts) OVER (PARTITION BY user_id) as last_ts\n",
    "FROM db) last\n",
    "ON db.user_id = last.user_id AND db.ts = last.last_ts\n",
    "\"\"\"\n",
    "runQuery(q)"
   ]
  },
  {
   "cell_type": "markdown",
   "metadata": {
    "ExecuteTime": {
     "end_time": "2020-05-24T06:55:53.485751Z",
     "start_time": "2020-05-24T06:55:53.481983Z"
    }
   },
   "source": [
    "Group by last_site from the above table and count the number of user_id."
   ]
  },
  {
   "cell_type": "code",
   "execution_count": 153,
   "metadata": {
    "ExecuteTime": {
     "end_time": "2020-05-24T06:56:14.646968Z",
     "start_time": "2020-05-24T06:56:14.625477Z"
    }
   },
   "outputs": [
    {
     "data": {
      "text/html": [
       "<div>\n",
       "<style scoped>\n",
       "    .dataframe tbody tr th:only-of-type {\n",
       "        vertical-align: middle;\n",
       "    }\n",
       "\n",
       "    .dataframe tbody tr th {\n",
       "        vertical-align: top;\n",
       "    }\n",
       "\n",
       "    .dataframe thead th {\n",
       "        text-align: right;\n",
       "    }\n",
       "</style>\n",
       "<table border=\"1\" class=\"dataframe\">\n",
       "  <thead>\n",
       "    <tr style=\"text-align: right;\">\n",
       "      <th></th>\n",
       "      <th>site_id</th>\n",
       "      <th>n_user</th>\n",
       "    </tr>\n",
       "  </thead>\n",
       "  <tbody>\n",
       "    <tr>\n",
       "      <th>0</th>\n",
       "      <td>5NPAU</td>\n",
       "      <td>992</td>\n",
       "    </tr>\n",
       "    <tr>\n",
       "      <th>1</th>\n",
       "      <td>N0OTG</td>\n",
       "      <td>561</td>\n",
       "    </tr>\n",
       "    <tr>\n",
       "      <th>2</th>\n",
       "      <td>QGO3G</td>\n",
       "      <td>289</td>\n",
       "    </tr>\n",
       "  </tbody>\n",
       "</table>\n",
       "</div>"
      ],
      "text/plain": [
       "  site_id  n_user\n",
       "0   5NPAU     992\n",
       "1   N0OTG     561\n",
       "2   QGO3G     289"
      ]
     },
     "execution_count": 153,
     "metadata": {},
     "output_type": "execute_result"
    }
   ],
   "source": [
    "q = \"\"\"\n",
    "SELECT db.site_id as site_id, COUNT(DISTINCT db.user_id) as n_user\n",
    "FROM db\n",
    "JOIN\n",
    "(SELECT DISTINCT user_id, MAX(ts) OVER (PARTITION BY user_id) as last_ts\n",
    "FROM db) last\n",
    "ON db.user_id = last.user_id AND db.ts = last.last_ts\n",
    "GROUP BY 1\n",
    "ORDER BY 2 DESC\n",
    "LIMIT 3\n",
    "\"\"\"\n",
    "runQuery(q)"
   ]
  },
  {
   "cell_type": "markdown",
   "metadata": {},
   "source": [
    "# Q4"
   ]
  },
  {
   "cell_type": "markdown",
   "metadata": {},
   "source": [
    "For each user, determine the first site he/she visited and the last site he/she visited based on the timestamp data. Compute the number of users whose first/last visits are to the same website. What is the number?"
   ]
  },
  {
   "cell_type": "markdown",
   "metadata": {},
   "source": [
    "## Include users with only 1 record\n",
    "\n",
    "There are some users who have only 1 visit out of all sites. These users have automatically the same first and last site visits."
   ]
  },
  {
   "cell_type": "markdown",
   "metadata": {},
   "source": [
    "From Q3, we obtained the table of last visited sites for each user."
   ]
  },
  {
   "cell_type": "code",
   "execution_count": 154,
   "metadata": {
    "ExecuteTime": {
     "end_time": "2020-05-24T06:57:04.728378Z",
     "start_time": "2020-05-24T06:57:04.701534Z"
    }
   },
   "outputs": [
    {
     "data": {
      "text/html": [
       "<div>\n",
       "<style scoped>\n",
       "    .dataframe tbody tr th:only-of-type {\n",
       "        vertical-align: middle;\n",
       "    }\n",
       "\n",
       "    .dataframe tbody tr th {\n",
       "        vertical-align: top;\n",
       "    }\n",
       "\n",
       "    .dataframe thead th {\n",
       "        text-align: right;\n",
       "    }\n",
       "</style>\n",
       "<table border=\"1\" class=\"dataframe\">\n",
       "  <thead>\n",
       "    <tr style=\"text-align: right;\">\n",
       "      <th></th>\n",
       "      <th>user_id</th>\n",
       "      <th>last_site</th>\n",
       "    </tr>\n",
       "  </thead>\n",
       "  <tbody>\n",
       "    <tr>\n",
       "      <th>0</th>\n",
       "      <td>LC39B6</td>\n",
       "      <td>N0OTG</td>\n",
       "    </tr>\n",
       "    <tr>\n",
       "      <th>1</th>\n",
       "      <td>LC3500</td>\n",
       "      <td>N0OTG</td>\n",
       "    </tr>\n",
       "    <tr>\n",
       "      <th>2</th>\n",
       "      <td>LCC1C3</td>\n",
       "      <td>QGO3G</td>\n",
       "    </tr>\n",
       "    <tr>\n",
       "      <th>3</th>\n",
       "      <td>LCC3C3</td>\n",
       "      <td>5NPAU</td>\n",
       "    </tr>\n",
       "    <tr>\n",
       "      <th>4</th>\n",
       "      <td>LC39C8</td>\n",
       "      <td>QGO3G</td>\n",
       "    </tr>\n",
       "    <tr>\n",
       "      <th>...</th>\n",
       "      <td>...</td>\n",
       "      <td>...</td>\n",
       "    </tr>\n",
       "    <tr>\n",
       "      <th>1911</th>\n",
       "      <td>LC3561</td>\n",
       "      <td>N0OTG</td>\n",
       "    </tr>\n",
       "    <tr>\n",
       "      <th>1912</th>\n",
       "      <td>LC3837</td>\n",
       "      <td>RT9Z6</td>\n",
       "    </tr>\n",
       "    <tr>\n",
       "      <th>1913</th>\n",
       "      <td>LC3F13</td>\n",
       "      <td>QGO3G</td>\n",
       "    </tr>\n",
       "    <tr>\n",
       "      <th>1914</th>\n",
       "      <td>LC35EB</td>\n",
       "      <td>QGO3G</td>\n",
       "    </tr>\n",
       "    <tr>\n",
       "      <th>1915</th>\n",
       "      <td>LC3842</td>\n",
       "      <td>3POLC</td>\n",
       "    </tr>\n",
       "  </tbody>\n",
       "</table>\n",
       "<p>1916 rows × 2 columns</p>\n",
       "</div>"
      ],
      "text/plain": [
       "     user_id last_site\n",
       "0     LC39B6     N0OTG\n",
       "1     LC3500     N0OTG\n",
       "2     LCC1C3     QGO3G\n",
       "3     LCC3C3     5NPAU\n",
       "4     LC39C8     QGO3G\n",
       "...      ...       ...\n",
       "1911  LC3561     N0OTG\n",
       "1912  LC3837     RT9Z6\n",
       "1913  LC3F13     QGO3G\n",
       "1914  LC35EB     QGO3G\n",
       "1915  LC3842     3POLC\n",
       "\n",
       "[1916 rows x 2 columns]"
      ]
     },
     "execution_count": 154,
     "metadata": {},
     "output_type": "execute_result"
    }
   ],
   "source": [
    "q = \"\"\"\n",
    "SELECT db.user_id, db.site_id as last_site\n",
    "FROM db\n",
    "JOIN\n",
    "(SELECT DISTINCT user_id, MAX(ts) OVER (PARTITION BY user_id) as last_ts\n",
    "FROM db) last\n",
    "ON db.user_id = last.user_id AND db.ts = last.last_ts\n",
    "\"\"\"\n",
    "runQuery(q)"
   ]
  },
  {
   "cell_type": "markdown",
   "metadata": {},
   "source": [
    "Do the same to get the first visited site_id for each user.  \n",
    "Then, join the first site table and last site table.  \n",
    "Filter with records where the last visited site is the same as the first visited site."
   ]
  },
  {
   "cell_type": "code",
   "execution_count": 139,
   "metadata": {
    "ExecuteTime": {
     "end_time": "2020-05-24T06:41:04.612260Z",
     "start_time": "2020-05-24T06:41:04.567833Z"
    }
   },
   "outputs": [
    {
     "data": {
      "text/html": [
       "<div>\n",
       "<style scoped>\n",
       "    .dataframe tbody tr th:only-of-type {\n",
       "        vertical-align: middle;\n",
       "    }\n",
       "\n",
       "    .dataframe tbody tr th {\n",
       "        vertical-align: top;\n",
       "    }\n",
       "\n",
       "    .dataframe thead th {\n",
       "        text-align: right;\n",
       "    }\n",
       "</style>\n",
       "<table border=\"1\" class=\"dataframe\">\n",
       "  <thead>\n",
       "    <tr style=\"text-align: right;\">\n",
       "      <th></th>\n",
       "      <th>user_id</th>\n",
       "      <th>last_site</th>\n",
       "      <th>first_site</th>\n",
       "    </tr>\n",
       "  </thead>\n",
       "  <tbody>\n",
       "    <tr>\n",
       "      <th>0</th>\n",
       "      <td>LC39B6</td>\n",
       "      <td>N0OTG</td>\n",
       "      <td>N0OTG</td>\n",
       "    </tr>\n",
       "    <tr>\n",
       "      <th>1</th>\n",
       "      <td>LC3500</td>\n",
       "      <td>N0OTG</td>\n",
       "      <td>N0OTG</td>\n",
       "    </tr>\n",
       "    <tr>\n",
       "      <th>2</th>\n",
       "      <td>LCC1C3</td>\n",
       "      <td>QGO3G</td>\n",
       "      <td>QGO3G</td>\n",
       "    </tr>\n",
       "    <tr>\n",
       "      <th>3</th>\n",
       "      <td>LCC3C3</td>\n",
       "      <td>5NPAU</td>\n",
       "      <td>5NPAU</td>\n",
       "    </tr>\n",
       "    <tr>\n",
       "      <th>4</th>\n",
       "      <td>LC39C8</td>\n",
       "      <td>QGO3G</td>\n",
       "      <td>QGO3G</td>\n",
       "    </tr>\n",
       "    <tr>\n",
       "      <th>...</th>\n",
       "      <td>...</td>\n",
       "      <td>...</td>\n",
       "      <td>...</td>\n",
       "    </tr>\n",
       "    <tr>\n",
       "      <th>1665</th>\n",
       "      <td>LCC36A</td>\n",
       "      <td>N0OTG</td>\n",
       "      <td>N0OTG</td>\n",
       "    </tr>\n",
       "    <tr>\n",
       "      <th>1666</th>\n",
       "      <td>LC34B8</td>\n",
       "      <td>QGO3G</td>\n",
       "      <td>QGO3G</td>\n",
       "    </tr>\n",
       "    <tr>\n",
       "      <th>1667</th>\n",
       "      <td>LC3F13</td>\n",
       "      <td>QGO3G</td>\n",
       "      <td>QGO3G</td>\n",
       "    </tr>\n",
       "    <tr>\n",
       "      <th>1668</th>\n",
       "      <td>LC35EB</td>\n",
       "      <td>QGO3G</td>\n",
       "      <td>QGO3G</td>\n",
       "    </tr>\n",
       "    <tr>\n",
       "      <th>1669</th>\n",
       "      <td>LC3842</td>\n",
       "      <td>3POLC</td>\n",
       "      <td>3POLC</td>\n",
       "    </tr>\n",
       "  </tbody>\n",
       "</table>\n",
       "<p>1670 rows × 3 columns</p>\n",
       "</div>"
      ],
      "text/plain": [
       "     user_id last_site first_site\n",
       "0     LC39B6     N0OTG      N0OTG\n",
       "1     LC3500     N0OTG      N0OTG\n",
       "2     LCC1C3     QGO3G      QGO3G\n",
       "3     LCC3C3     5NPAU      5NPAU\n",
       "4     LC39C8     QGO3G      QGO3G\n",
       "...      ...       ...        ...\n",
       "1665  LCC36A     N0OTG      N0OTG\n",
       "1666  LC34B8     QGO3G      QGO3G\n",
       "1667  LC3F13     QGO3G      QGO3G\n",
       "1668  LC35EB     QGO3G      QGO3G\n",
       "1669  LC3842     3POLC      3POLC\n",
       "\n",
       "[1670 rows x 3 columns]"
      ]
     },
     "execution_count": 139,
     "metadata": {},
     "output_type": "execute_result"
    }
   ],
   "source": [
    "q = \"\"\"\n",
    "SELECT iq.user_id, iq.last_site, iq.first_site\n",
    "FROM(\n",
    "\n",
    "(SELECT db.user_id, db.site_id as last_site, last.last_ts\n",
    "FROM db\n",
    "JOIN\n",
    "(SELECT DISTINCT user_id, MAX(ts) OVER (PARTITION BY user_id) as last_ts\n",
    "FROM db) last\n",
    "ON db.user_id = last.user_id AND db.ts = last.last_ts) join1\n",
    "\n",
    "JOIN\n",
    "\n",
    "(SELECT db.user_id, db.site_id as first_site, first.first_ts\n",
    "FROM db\n",
    "JOIN\n",
    "(SELECT DISTINCT user_id, MIN(ts) OVER (PARTITION BY user_id) as first_ts\n",
    "FROM db) first\n",
    "ON db.user_id = first.user_id AND db.ts = first.first_ts) join2\n",
    "\n",
    "ON join1.user_id = join2.user_id\n",
    "\n",
    ") iq\n",
    "WHERE iq.last_site = iq.first_site\n",
    "\n",
    "\"\"\"\n",
    "runQuery(q)"
   ]
  },
  {
   "cell_type": "markdown",
   "metadata": {},
   "source": [
    "Count the number of user_id's from the above table."
   ]
  },
  {
   "cell_type": "code",
   "execution_count": 226,
   "metadata": {
    "ExecuteTime": {
     "end_time": "2020-05-24T08:44:22.579384Z",
     "start_time": "2020-05-24T08:44:22.540072Z"
    }
   },
   "outputs": [
    {
     "data": {
      "text/html": [
       "<div>\n",
       "<style scoped>\n",
       "    .dataframe tbody tr th:only-of-type {\n",
       "        vertical-align: middle;\n",
       "    }\n",
       "\n",
       "    .dataframe tbody tr th {\n",
       "        vertical-align: top;\n",
       "    }\n",
       "\n",
       "    .dataframe thead th {\n",
       "        text-align: right;\n",
       "    }\n",
       "</style>\n",
       "<table border=\"1\" class=\"dataframe\">\n",
       "  <thead>\n",
       "    <tr style=\"text-align: right;\">\n",
       "      <th></th>\n",
       "      <th>n_user</th>\n",
       "    </tr>\n",
       "  </thead>\n",
       "  <tbody>\n",
       "    <tr>\n",
       "      <th>0</th>\n",
       "      <td>1670</td>\n",
       "    </tr>\n",
       "  </tbody>\n",
       "</table>\n",
       "</div>"
      ],
      "text/plain": [
       "   n_user\n",
       "0    1670"
      ]
     },
     "execution_count": 226,
     "metadata": {},
     "output_type": "execute_result"
    }
   ],
   "source": [
    "q = \"\"\"\n",
    "SELECT COUNT(*) as n_user\n",
    "FROM(\n",
    "\n",
    "(SELECT db.user_id, db.site_id as last_site, last.last_ts\n",
    "FROM db\n",
    "JOIN\n",
    "(SELECT DISTINCT user_id, MAX(ts) OVER (PARTITION BY user_id) as last_ts\n",
    "FROM db) last\n",
    "ON db.user_id = last.user_id AND db.ts = last.last_ts) join1\n",
    "\n",
    "JOIN\n",
    "\n",
    "(SELECT db.user_id, db.site_id as first_site, first.first_ts\n",
    "FROM db\n",
    "JOIN\n",
    "(SELECT DISTINCT user_id, MIN(ts) OVER (PARTITION BY user_id) as first_ts\n",
    "FROM db) first\n",
    "ON db.user_id = first.user_id AND db.ts = first.first_ts) join2\n",
    "\n",
    "ON join1.user_id = join2.user_id\n",
    "\n",
    ") iq\n",
    "WHERE iq.last_site = iq.first_site\n",
    "\n",
    "\"\"\"\n",
    "runQuery(q)"
   ]
  },
  {
   "cell_type": "markdown",
   "metadata": {},
   "source": [
    "## Ignore users with only 1 record"
   ]
  },
  {
   "cell_type": "code",
   "execution_count": 204,
   "metadata": {
    "ExecuteTime": {
     "end_time": "2020-05-24T08:28:45.175219Z",
     "start_time": "2020-05-24T08:28:45.163008Z"
    }
   },
   "outputs": [
    {
     "data": {
      "text/html": [
       "<div>\n",
       "<style scoped>\n",
       "    .dataframe tbody tr th:only-of-type {\n",
       "        vertical-align: middle;\n",
       "    }\n",
       "\n",
       "    .dataframe tbody tr th {\n",
       "        vertical-align: top;\n",
       "    }\n",
       "\n",
       "    .dataframe thead th {\n",
       "        text-align: right;\n",
       "    }\n",
       "</style>\n",
       "<table border=\"1\" class=\"dataframe\">\n",
       "  <thead>\n",
       "    <tr style=\"text-align: right;\">\n",
       "      <th></th>\n",
       "      <th>user_id</th>\n",
       "    </tr>\n",
       "  </thead>\n",
       "  <tbody>\n",
       "    <tr>\n",
       "      <th>0</th>\n",
       "      <td>LC06C3</td>\n",
       "    </tr>\n",
       "    <tr>\n",
       "      <th>1</th>\n",
       "      <td>LC0C32</td>\n",
       "    </tr>\n",
       "    <tr>\n",
       "      <th>2</th>\n",
       "      <td>LC0C3E</td>\n",
       "    </tr>\n",
       "    <tr>\n",
       "      <th>3</th>\n",
       "      <td>LC0CC3</td>\n",
       "    </tr>\n",
       "    <tr>\n",
       "      <th>4</th>\n",
       "      <td>LC0FC3</td>\n",
       "    </tr>\n",
       "    <tr>\n",
       "      <th>...</th>\n",
       "      <td>...</td>\n",
       "    </tr>\n",
       "    <tr>\n",
       "      <th>650</th>\n",
       "      <td>LCFC34</td>\n",
       "    </tr>\n",
       "    <tr>\n",
       "      <th>651</th>\n",
       "      <td>LCFC36</td>\n",
       "    </tr>\n",
       "    <tr>\n",
       "      <th>652</th>\n",
       "      <td>LCFC3E</td>\n",
       "    </tr>\n",
       "    <tr>\n",
       "      <th>653</th>\n",
       "      <td>LCFEC3</td>\n",
       "    </tr>\n",
       "    <tr>\n",
       "      <th>654</th>\n",
       "      <td>LCFFC3</td>\n",
       "    </tr>\n",
       "  </tbody>\n",
       "</table>\n",
       "<p>655 rows × 1 columns</p>\n",
       "</div>"
      ],
      "text/plain": [
       "    user_id\n",
       "0    LC06C3\n",
       "1    LC0C32\n",
       "2    LC0C3E\n",
       "3    LC0CC3\n",
       "4    LC0FC3\n",
       "..      ...\n",
       "650  LCFC34\n",
       "651  LCFC36\n",
       "652  LCFC3E\n",
       "653  LCFEC3\n",
       "654  LCFFC3\n",
       "\n",
       "[655 rows x 1 columns]"
      ]
     },
     "execution_count": 204,
     "metadata": {},
     "output_type": "execute_result"
    }
   ],
   "source": [
    "q = \"\"\"\n",
    "SELECT user_id\n",
    "FROM db\n",
    "GROUP BY user_id\n",
    "HAVING COUNT(user_id) > 1\n",
    "\"\"\"\n",
    "runQuery(q)"
   ]
  },
  {
   "cell_type": "markdown",
   "metadata": {},
   "source": [
    "Use the above table for filtering user_id's after getting each of the first sites and the last sites for each user."
   ]
  },
  {
   "cell_type": "code",
   "execution_count": 224,
   "metadata": {
    "ExecuteTime": {
     "end_time": "2020-05-24T08:40:45.284211Z",
     "start_time": "2020-05-24T08:40:45.234671Z"
    }
   },
   "outputs": [
    {
     "data": {
      "text/html": [
       "<div>\n",
       "<style scoped>\n",
       "    .dataframe tbody tr th:only-of-type {\n",
       "        vertical-align: middle;\n",
       "    }\n",
       "\n",
       "    .dataframe tbody tr th {\n",
       "        vertical-align: top;\n",
       "    }\n",
       "\n",
       "    .dataframe thead th {\n",
       "        text-align: right;\n",
       "    }\n",
       "</style>\n",
       "<table border=\"1\" class=\"dataframe\">\n",
       "  <thead>\n",
       "    <tr style=\"text-align: right;\">\n",
       "      <th></th>\n",
       "      <th>user_id</th>\n",
       "      <th>last_site</th>\n",
       "      <th>first_site</th>\n",
       "    </tr>\n",
       "  </thead>\n",
       "  <tbody>\n",
       "    <tr>\n",
       "      <th>0</th>\n",
       "      <td>LC3DAD</td>\n",
       "      <td>N0OTG</td>\n",
       "      <td>N0OTG</td>\n",
       "    </tr>\n",
       "    <tr>\n",
       "      <th>1</th>\n",
       "      <td>LC37EA</td>\n",
       "      <td>QGO3G</td>\n",
       "      <td>QGO3G</td>\n",
       "    </tr>\n",
       "    <tr>\n",
       "      <th>2</th>\n",
       "      <td>LC305A</td>\n",
       "      <td>3POLC</td>\n",
       "      <td>3POLC</td>\n",
       "    </tr>\n",
       "    <tr>\n",
       "      <th>3</th>\n",
       "      <td>LC3222</td>\n",
       "      <td>QGO3G</td>\n",
       "      <td>QGO3G</td>\n",
       "    </tr>\n",
       "    <tr>\n",
       "      <th>4</th>\n",
       "      <td>LC8C37</td>\n",
       "      <td>5NPAU</td>\n",
       "      <td>5NPAU</td>\n",
       "    </tr>\n",
       "    <tr>\n",
       "      <th>...</th>\n",
       "      <td>...</td>\n",
       "      <td>...</td>\n",
       "      <td>...</td>\n",
       "    </tr>\n",
       "    <tr>\n",
       "      <th>404</th>\n",
       "      <td>LC3D80</td>\n",
       "      <td>N0OTG</td>\n",
       "      <td>N0OTG</td>\n",
       "    </tr>\n",
       "    <tr>\n",
       "      <th>405</th>\n",
       "      <td>LCDC3A</td>\n",
       "      <td>N0OTG</td>\n",
       "      <td>N0OTG</td>\n",
       "    </tr>\n",
       "    <tr>\n",
       "      <th>406</th>\n",
       "      <td>LC3780</td>\n",
       "      <td>QGO3G</td>\n",
       "      <td>QGO3G</td>\n",
       "    </tr>\n",
       "    <tr>\n",
       "      <th>407</th>\n",
       "      <td>LC33F8</td>\n",
       "      <td>QGO3G</td>\n",
       "      <td>QGO3G</td>\n",
       "    </tr>\n",
       "    <tr>\n",
       "      <th>408</th>\n",
       "      <td>LC3842</td>\n",
       "      <td>3POLC</td>\n",
       "      <td>3POLC</td>\n",
       "    </tr>\n",
       "  </tbody>\n",
       "</table>\n",
       "<p>409 rows × 3 columns</p>\n",
       "</div>"
      ],
      "text/plain": [
       "    user_id last_site first_site\n",
       "0    LC3DAD     N0OTG      N0OTG\n",
       "1    LC37EA     QGO3G      QGO3G\n",
       "2    LC305A     3POLC      3POLC\n",
       "3    LC3222     QGO3G      QGO3G\n",
       "4    LC8C37     5NPAU      5NPAU\n",
       "..      ...       ...        ...\n",
       "404  LC3D80     N0OTG      N0OTG\n",
       "405  LCDC3A     N0OTG      N0OTG\n",
       "406  LC3780     QGO3G      QGO3G\n",
       "407  LC33F8     QGO3G      QGO3G\n",
       "408  LC3842     3POLC      3POLC\n",
       "\n",
       "[409 rows x 3 columns]"
      ]
     },
     "execution_count": 224,
     "metadata": {},
     "output_type": "execute_result"
    }
   ],
   "source": [
    "q = \"\"\"\n",
    "SELECT join1.user_id, join1.last_site, join2.first_site\n",
    "FROM\n",
    "(SELECT DISTINCT iq.user_id, iq.site_id as last_site\n",
    "    FROM(\n",
    "        SELECT DISTINCT db.user_id, db.ts, db.site_id\n",
    "        FROM db\n",
    "        JOIN\n",
    "            (SELECT DISTINCT user_id, site_id, MAX(ts) OVER (PARTITION BY user_id) as last_ts\n",
    "             FROM db ) last\n",
    "        ON db.user_id = last.user_id AND db.ts = last.last_ts\n",
    "        WHERE db.user_id in\n",
    "                (SELECT user_id\n",
    "                FROM db\n",
    "                GROUP BY user_id\n",
    "                HAVING COUNT(user_id) > 1)\n",
    "    )iq )join1\n",
    "\n",
    "JOIN\n",
    "\n",
    "(SELECT DISTINCT iq.user_id, iq.site_id as first_site\n",
    "    FROM(\n",
    "        SELECT DISTINCT db.user_id, db.ts, db.site_id\n",
    "        FROM db\n",
    "        JOIN\n",
    "            (SELECT DISTINCT user_id, site_id, MIN(ts) OVER (PARTITION BY user_id) as first_ts\n",
    "             FROM db ) first\n",
    "        ON db.user_id = first.user_id AND db.ts = first.first_ts\n",
    "        WHERE db.user_id in\n",
    "                (SELECT user_id\n",
    "                FROM db\n",
    "                GROUP BY user_id\n",
    "                HAVING COUNT(user_id) > 1)\n",
    "    )iq )join2\n",
    "\n",
    "ON join1.user_id = join2.user_id\n",
    "\n",
    "WHERE join1.last_site = join2.first_site\n",
    "\"\"\"\n",
    "runQuery(q)"
   ]
  },
  {
   "cell_type": "markdown",
   "metadata": {},
   "source": [
    "Count the number of users from the above table."
   ]
  },
  {
   "cell_type": "code",
   "execution_count": 225,
   "metadata": {
    "ExecuteTime": {
     "end_time": "2020-05-24T08:44:09.673680Z",
     "start_time": "2020-05-24T08:44:09.622319Z"
    }
   },
   "outputs": [
    {
     "data": {
      "text/html": [
       "<div>\n",
       "<style scoped>\n",
       "    .dataframe tbody tr th:only-of-type {\n",
       "        vertical-align: middle;\n",
       "    }\n",
       "\n",
       "    .dataframe tbody tr th {\n",
       "        vertical-align: top;\n",
       "    }\n",
       "\n",
       "    .dataframe thead th {\n",
       "        text-align: right;\n",
       "    }\n",
       "</style>\n",
       "<table border=\"1\" class=\"dataframe\">\n",
       "  <thead>\n",
       "    <tr style=\"text-align: right;\">\n",
       "      <th></th>\n",
       "      <th>n_users</th>\n",
       "    </tr>\n",
       "  </thead>\n",
       "  <tbody>\n",
       "    <tr>\n",
       "      <th>0</th>\n",
       "      <td>409</td>\n",
       "    </tr>\n",
       "  </tbody>\n",
       "</table>\n",
       "</div>"
      ],
      "text/plain": [
       "   n_users\n",
       "0      409"
      ]
     },
     "execution_count": 225,
     "metadata": {},
     "output_type": "execute_result"
    }
   ],
   "source": [
    "q = \"\"\"\n",
    "SELECT COUNT(*) as n_users\n",
    "FROM\n",
    "(SELECT DISTINCT iq.user_id, iq.site_id as last_site\n",
    "    FROM(\n",
    "        SELECT DISTINCT db.user_id, db.ts, db.site_id\n",
    "        FROM db\n",
    "        JOIN\n",
    "            (SELECT DISTINCT user_id, site_id, MAX(ts) OVER (PARTITION BY user_id) as last_ts\n",
    "             FROM db ) last\n",
    "        ON db.user_id = last.user_id AND db.ts = last.last_ts\n",
    "        WHERE db.user_id in\n",
    "                (SELECT user_id\n",
    "                FROM db\n",
    "                GROUP BY user_id\n",
    "                HAVING COUNT(user_id) > 1)\n",
    "    )iq )join1\n",
    "\n",
    "JOIN\n",
    "\n",
    "(SELECT DISTINCT iq.user_id, iq.site_id as first_site\n",
    "    FROM(\n",
    "        SELECT DISTINCT db.user_id, db.ts, db.site_id\n",
    "        FROM db\n",
    "        JOIN\n",
    "            (SELECT DISTINCT user_id, site_id, MIN(ts) OVER (PARTITION BY user_id) as first_ts\n",
    "             FROM db ) first\n",
    "        ON db.user_id = first.user_id AND db.ts = first.first_ts\n",
    "        WHERE db.user_id in\n",
    "                (SELECT user_id\n",
    "                FROM db\n",
    "                GROUP BY user_id\n",
    "                HAVING COUNT(user_id) > 1)\n",
    "    )iq )join2\n",
    "\n",
    "ON join1.user_id = join2.user_id\n",
    "\n",
    "WHERE join1.last_site = join2.first_site\n",
    "\"\"\"\n",
    "runQuery(q)"
   ]
  }
 ],
 "metadata": {
  "kernelspec": {
   "display_name": "Python 3",
   "language": "python",
   "name": "python3"
  },
  "language_info": {
   "codemirror_mode": {
    "name": "ipython",
    "version": 3
   },
   "file_extension": ".py",
   "mimetype": "text/x-python",
   "name": "python",
   "nbconvert_exporter": "python",
   "pygments_lexer": "ipython3",
   "version": "3.8.3"
  },
  "toc": {
   "base_numbering": 1,
   "nav_menu": {},
   "number_sections": true,
   "sideBar": true,
   "skip_h1_title": false,
   "title_cell": "Table of Contents",
   "title_sidebar": "Contents",
   "toc_cell": true,
   "toc_position": {},
   "toc_section_display": true,
   "toc_window_display": false
  },
  "varInspector": {
   "cols": {
    "lenName": 16,
    "lenType": 16,
    "lenVar": 40
   },
   "kernels_config": {
    "python": {
     "delete_cmd_postfix": "",
     "delete_cmd_prefix": "del ",
     "library": "var_list.py",
     "varRefreshCmd": "print(var_dic_list())"
    },
    "r": {
     "delete_cmd_postfix": ") ",
     "delete_cmd_prefix": "rm(",
     "library": "var_list.r",
     "varRefreshCmd": "cat(var_dic_list()) "
    }
   },
   "types_to_exclude": [
    "module",
    "function",
    "builtin_function_or_method",
    "instance",
    "_Feature"
   ],
   "window_display": false
  }
 },
 "nbformat": 4,
 "nbformat_minor": 2
}
